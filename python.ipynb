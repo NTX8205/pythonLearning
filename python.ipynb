{
 "cells": [
  {
   "cell_type": "markdown",
   "metadata": {},
   "source": [
    "# Python 程式設計 1121\n"
   ]
  },
  {
   "cell_type": "markdown",
   "metadata": {},
   "source": [
    "# Unit 1\n"
   ]
  },
  {
   "cell_type": "markdown",
   "metadata": {},
   "source": [
    "## EX\n"
   ]
  },
  {
   "cell_type": "markdown",
   "metadata": {},
   "source": [
    "### [EX1-0]print\n"
   ]
  },
  {
   "cell_type": "code",
   "execution_count": 1,
   "metadata": {},
   "outputs": [
    {
     "ename": "SyntaxError",
     "evalue": "unterminated string literal (detected at line 2) (1186000016.py, line 2)",
     "output_type": "error",
     "traceback": [
      "\u001b[0;36m  Cell \u001b[0;32mIn[1], line 2\u001b[0;36m\u001b[0m\n\u001b[0;31m    print('It's a nice day')\u001b[0m\n\u001b[0m                          ^\u001b[0m\n\u001b[0;31mSyntaxError\u001b[0m\u001b[0;31m:\u001b[0m unterminated string literal (detected at line 2)\n"
     ]
    }
   ],
   "source": [
    "print(\"-----------------\")\n",
    "print('It's a nice day')\n",
    "# Backslash \\: Escape character\n",
    "print(\"-----------------\")\n",
    "print(\"It's a nice day.\")\n",
    "print(\"-----------------\")\n",
    "print('How are you?\\nNice to meet you.')\n",
    "print(\"-----------------\")\n",
    "print('My code is \"\\nABc\".')\n",
    "print(\"-----------------\")\n",
    "print(r'My code is \"\\nABC\".')  # raw string\n"
   ]
  },
  {
   "cell_type": "markdown",
   "metadata": {},
   "source": [
    "### [EX1-1]兩數相加\n"
   ]
  },
  {
   "cell_type": "code",
   "execution_count": 2,
   "metadata": {},
   "outputs": [
    {
     "name": "stdout",
     "output_type": "stream",
     "text": [
      "a + b=  14\n",
      "<class 'str'>\n",
      "<class 'int'>\n",
      "a + b = 5\n"
     ]
    }
   ],
   "source": [
    "a = input(\"a = \")\n",
    "b = input(\"b = \")\n",
    "print(\"a + b= \", a + b)\n",
    "print(type(a))\n",
    "c = int(a) + int(b)\n",
    "print(type(c))\n",
    "print(\"a + b =\", c)"
   ]
  },
  {
   "cell_type": "markdown",
   "metadata": {},
   "source": [
    "### [EX1-2]兩數相除\n"
   ]
  },
  {
   "cell_type": "code",
   "execution_count": 3,
   "metadata": {},
   "outputs": [
    {
     "name": "stdout",
     "output_type": "stream",
     "text": [
      "整數a=2, 整數b=4,a除以b的餘數是2\n",
      "整數a=2,整數b=4, a除以b的餘數是2\n",
      "整數a= 2 整數b= 4 a除以b的餘數是 2\n",
      "a / b = 0.5\n",
      "a / b = 0.50\n",
      "a / b= 0.5\n",
      "a // b 0\n"
     ]
    }
   ],
   "source": [
    "a = int(input(\"a = \"))\n",
    "b = int(input(\"b = \"))\n",
    "print(\"整數a=%d, 整數b=%d,a除以b的餘數是%d\" % (a, b, a % b))\n",
    "print(\"整數a={},整數b={}, a除以b的餘數是{}\".format(a, b, a % b))\n",
    "print(\"整數a=\", a, \"整數b=\", b, \"a除以b的餘數是\", a % b)  # 以空白間隔6項輸出\n",
    "print(\"a / b =\", a / b)\n",
    "print(\"a / b = %.2f\" % (a / b))  # 2位小數,四捨五入\n",
    "print(\"a / b=\", round(a / b, 1))  # 四捨五入,1位小數\n",
    "print(\"a // b\", a // b)  # 商數"
   ]
  },
  {
   "cell_type": "markdown",
   "metadata": {},
   "source": [
    "## PT\n"
   ]
  },
  {
   "cell_type": "markdown",
   "metadata": {},
   "source": [
    "### [PT1-0]Print\n"
   ]
  },
  {
   "cell_type": "code",
   "execution_count": 1,
   "metadata": {},
   "outputs": [
    {
     "name": "stdout",
     "output_type": "stream",
     "text": [
      "------------------------\n",
      "It's a nice day.\n",
      "------------------------\n",
      "It's a nice day.\n",
      "------------------------\n",
      "How are you?\n",
      "Nice to meet you.\n",
      "------------------------\n",
      "My code is \"\n",
      "ABC\".\n",
      "------------------------\n",
      "My code is \"\\nABC\".\n"
     ]
    }
   ],
   "source": [
    "print(\"------------------------\")\n",
    "print(\"It's a nice day.\")\n",
    "# Backslash \\: Escape character\n",
    "print(\"------------------------\")\n",
    "print(\"It's a nice day.\")\n",
    "print(\"------------------------\")\n",
    "print(\"How are you?\\nNice to meet you.\")\n",
    "print(\"------------------------\")\n",
    "print('My code is \"\\nABC\".')\n",
    "print(\"------------------------\")\n",
    "print(r'My code is \"\\nABC\".')  # raw string"
   ]
  },
  {
   "cell_type": "markdown",
   "metadata": {},
   "source": [
    "### [PT1-1]計算兩數的乘積與差\n"
   ]
  },
  {
   "cell_type": "code",
   "execution_count": 4,
   "metadata": {},
   "outputs": [
    {
     "name": "stdout",
     "output_type": "stream",
     "text": [
      "a * b =  52\n",
      "a - b = 9\n"
     ]
    }
   ],
   "source": [
    "a = int(input(\"a = \"))\n",
    "b = int(input(\"b = \"))\n",
    "\n",
    "\n",
    "c = a * b\n",
    "d = a - b\n",
    "print(\"a * b = \", c)\n",
    "print(\"a - b =\", d)"
   ]
  },
  {
   "cell_type": "markdown",
   "metadata": {},
   "source": [
    "### [PT1-2]計算兩整數相除的商及餘數\n"
   ]
  },
  {
   "cell_type": "code",
   "execution_count": 5,
   "metadata": {},
   "outputs": [
    {
     "name": "stdout",
     "output_type": "stream",
     "text": [
      "2 除以 5\n",
      "商: 0\n",
      "餘: 2\n"
     ]
    }
   ],
   "source": [
    "a = int(input(\"1st integer = \"))\n",
    "b = int(input(\"2nd integer = \"))\n",
    "print(\"{} 除以 {}\".format(a, b))\n",
    "print(\"商:\", a // b)\n",
    "print(\"餘:\", a % b)"
   ]
  },
  {
   "cell_type": "markdown",
   "metadata": {},
   "source": [
    "## HW\n"
   ]
  },
  {
   "cell_type": "markdown",
   "metadata": {},
   "source": [
    "### [HW1] 計算學期成績\n"
   ]
  },
  {
   "cell_type": "code",
   "execution_count": 6,
   "metadata": {},
   "outputs": [
    {
     "name": "stdout",
     "output_type": "stream",
     "text": [
      "======================\n",
      "平時:13.50\n",
      "期中:17.40\n",
      "期中:28.00\n",
      "----------------\n",
      "學期成績: 59\n"
     ]
    }
   ],
   "source": [
    "usualGrades = float(input(\"輸入平時成績(30%):\")) * 0.3\n",
    "midtermGrades = float(input(\"輸入期中成績(30%):\")) * 0.3\n",
    "finalGrades = float(input(\"輸入期末成績(40%):\")) * 0.4\n",
    "\n",
    "totalGrades = usualGrades + midtermGrades + finalGrades\n",
    "print(\"======================\")\n",
    "print(\"平時:%.2f\" % usualGrades)\n",
    "print(\"期中:%.2f\" % midtermGrades)\n",
    "print(\"期中:%.2f\" % finalGrades)\n",
    "print(\"----------------\")\n",
    "\n",
    "print(\"學期成績:\", round(totalGrades))"
   ]
  },
  {
   "cell_type": "markdown",
   "metadata": {},
   "source": [
    "# Unit 2\n"
   ]
  },
  {
   "cell_type": "markdown",
   "metadata": {},
   "source": [
    "## EX\n"
   ]
  },
  {
   "cell_type": "markdown",
   "metadata": {},
   "source": [
    "### [EX2-0]Exchange\n"
   ]
  },
  {
   "cell_type": "code",
   "execution_count": 7,
   "metadata": {},
   "outputs": [
    {
     "name": "stdout",
     "output_type": "stream",
     "text": [
      "============\n",
      "max =  13\n",
      "min =  2\n"
     ]
    }
   ],
   "source": [
    "m = int(input(\"m = \"))\n",
    "n = int(input(\"n = \"))\n",
    "if n > m:\n",
    "    m, n = n, m\n",
    "    \"\"\"\n",
    "    a = m \n",
    "    m = n\n",
    "    n = a\n",
    "    \"\"\"\n",
    "print(\"============\")\n",
    "print(\"max = \", m)\n",
    "print(\"min = \", n)"
   ]
  },
  {
   "cell_type": "markdown",
   "metadata": {},
   "source": [
    "### [EX2_1]IF(indent)\n"
   ]
  },
  {
   "cell_type": "code",
   "execution_count": 8,
   "metadata": {},
   "outputs": [
    {
     "name": "stdout",
     "output_type": "stream",
     "text": [
      "==============\n",
      "-------\n",
      "nonzero\n",
      "-------\n",
      "==============\n"
     ]
    }
   ],
   "source": [
    "print(\"==============\")\n",
    "a = int(input(\"a = \"))\n",
    "print(\"-------\")\n",
    "if a == 0:\n",
    "    print(\"zero\")\n",
    "else:\n",
    "    print(\"nonzero\")\n",
    "    print(\"-------\")\n",
    "print(\"==============\")  # indent"
   ]
  },
  {
   "cell_type": "markdown",
   "metadata": {},
   "source": [
    "### [EX2_2]NESTED-IF(Not)\n"
   ]
  },
  {
   "cell_type": "code",
   "execution_count": 9,
   "metadata": {},
   "outputs": [
    {
     "name": "stdout",
     "output_type": "stream",
     "text": [
      "輸入學生成績，將會輸出對應的成績級別\n",
      "此成績級別為 B\n"
     ]
    }
   ],
   "source": [
    "print(\"輸入學生成績，將會輸出對應的成績級別\")\n",
    "score = int(input(\"輸入成績(0~100):\"))\n",
    "if score >= 80 and score <= 100:\n",
    "    grade = \"A\"\n",
    "if score >= 60 and score <= 79:\n",
    "    grade = \"B\"\n",
    "if score >= 0 and score <= 59:\n",
    "    grade = \"C\"\n",
    "print(\"此成績級別為\", grade)"
   ]
  },
  {
   "cell_type": "markdown",
   "metadata": {},
   "source": [
    "### [EX2_3]NESTED-IF(print 換行)\n"
   ]
  },
  {
   "cell_type": "code",
   "execution_count": 10,
   "metadata": {},
   "outputs": [
    {
     "name": "stdout",
     "output_type": "stream",
     "text": [
      "輸入學生成績，將會輸出對應的成績級別\n",
      "此成績級別為 B\n",
      "***** B *****\n",
      "\n",
      "===== 78: B =====\n"
     ]
    }
   ],
   "source": [
    "print(\"輸入學生成績，將會輸出對應的成績級別\")\n",
    "score = int(input(\"輸入成績(0~100):\"))\n",
    "if score >= 80 and score <= 100:\n",
    "    grade = \"A\"\n",
    "elif score >= 60 and score <= 79:\n",
    "    grade = \"B\"\n",
    "else:\n",
    "    grade = \"C\"\n",
    "print(\"此成績級別為\", grade, end=\"\\n\")\n",
    "# end: string appended after the last value, default a newline.\n",
    "\n",
    "print(\"*****\", grade, end=\" \")\n",
    "print(\"*****\")\n",
    "print(\"\\n===== %d: %s =====\" % (score, grade))"
   ]
  },
  {
   "cell_type": "markdown",
   "metadata": {},
   "source": [
    "### [EX2_4]TRY\n"
   ]
  },
  {
   "cell_type": "code",
   "execution_count": 11,
   "metadata": {},
   "outputs": [
    {
     "name": "stdout",
     "output_type": "stream",
     "text": [
      "=== 實驗完成 ===\n",
      "實驗結果: 發生錯誤，假設結果為-999\n",
      "result = -999\n"
     ]
    }
   ],
   "source": [
    "# result = 8 / 0 #ZeroDivisionError: division by zero\n",
    "try:\n",
    "    result = 8 / 0\n",
    "    # result = 8 / 2 #整相除的結果是實\n",
    "except:\n",
    "    message = \"發生錯誤，假設結果為-999\"\n",
    "    result = -999\n",
    "else:\n",
    "    message = \"順利執行\"\n",
    "finally:\n",
    "    print(\"=== 實驗完成 ===\")\n",
    "\n",
    "print(\"實驗結果:\", message)\n",
    "print(\"result =\", result)"
   ]
  },
  {
   "cell_type": "markdown",
   "metadata": {},
   "source": [
    "## PT\n"
   ]
  },
  {
   "cell_type": "markdown",
   "metadata": {},
   "source": [
    "### [PT2-1]成績計算：判斷平均成績是否及格？\n"
   ]
  },
  {
   "cell_type": "code",
   "execution_count": 4,
   "metadata": {},
   "outputs": [
    {
     "name": "stdout",
     "output_type": "stream",
     "text": [
      "======================\n",
      "*** 總成績:200\n",
      "*** 平均成績:66.67 -> 及格\n"
     ]
    }
   ],
   "source": [
    "score_Chinese = int(input(\"請輸入國文成績:\"))\n",
    "score_Math = int(input(\"請輸入數學成績:\"))\n",
    "score_English = int(input(\"請輸入英文成績:\"))\n",
    "\n",
    "score_total = score_Chinese + score_Math + score_English\n",
    "score_Average = float(score_total / 3)\n",
    "score_meaning = \"\"\n",
    "\n",
    "if score_Average >= 60:\n",
    "    score_meaning = \"及格\"\n",
    "else:\n",
    "    score_meaning = \"不及格\"\n",
    "print(\"======================\")\n",
    "print(\"*** 總成績:%d\" % (score_total))\n",
    "print(\"*** 平均成績:%.2f -> %s\" % (score_Average, score_meaning))"
   ]
  },
  {
   "cell_type": "markdown",
   "metadata": {},
   "source": [
    "### [PT2_2]成績(0~100)判定：錯誤、及格、補考(50-59)或不及格\n"
   ]
  },
  {
   "cell_type": "code",
   "execution_count": 11,
   "metadata": {},
   "outputs": [
    {
     "name": "stdout",
     "output_type": "stream",
     "text": [
      "======================\n",
      "*** 成績錯誤\n"
     ]
    }
   ],
   "source": [
    "score = int(input(\"請輸入成績:\"))\n",
    "\n",
    "score_represent = \"\"\n",
    "\n",
    "print(\"======================\")\n",
    "\n",
    "\n",
    "if score > 100 or score < 0:\n",
    "    score_represent = None\n",
    "elif score >= 60:\n",
    "    score_represent = \"及格\"\n",
    "elif score >= 50:\n",
    "    score_represent = \"補考\"\n",
    "elif score >= 0:\n",
    "    score_represent = \"不及格\"\n",
    "\n",
    "if score_represent != None:\n",
    "    print(\"+++ 成績:%d -> %s\" % (score, score_represent))\n",
    "else:\n",
    "    print(\"*** 成績錯誤\")"
   ]
  },
  {
   "cell_type": "markdown",
   "metadata": {},
   "source": [
    "### [PT2-3]帳密檢查：為成績計算系統加上帳密檢查\n"
   ]
  },
  {
   "cell_type": "code",
   "execution_count": 17,
   "metadata": {},
   "outputs": [
    {
     "name": "stdout",
     "output_type": "stream",
     "text": [
      "======================\n",
      "======================\n",
      "*** 國文成績:50 -> 不及格\n",
      "*** 數學成績:60 -> 及格\n",
      "*** 英文成績:90 -> 及格\n",
      "*** 總成績:200\n",
      "*** 平均成績:66.67 -> 及格\n"
     ]
    }
   ],
   "source": [
    "default_ID = \"i001\"\n",
    "defaultPassword = \"p001\"\n",
    "\n",
    "\n",
    "def login():\n",
    "    id = input(\"ID:\")\n",
    "    if id != default_ID:\n",
    "        return \"*** ID incorrect\"\n",
    "    else:\n",
    "        passwd = input(\"PASSWORD:\")\n",
    "        if passwd != defaultPassword:\n",
    "            return \"*** PASSWORD incorrect\"\n",
    "    return \"\"\n",
    "\n",
    "\n",
    "def standard(score):\n",
    "    if score >= 60:\n",
    "        return \"及格\"\n",
    "    elif score >= 0:\n",
    "        return \"不及格\"\n",
    "\n",
    "\n",
    "tryLogin = login()\n",
    "if tryLogin == \"\":\n",
    "    print(\"======================\")\n",
    "    score_Chinese = int(input(\"請輸入國文成績:\"))\n",
    "    score_Math = int(input(\"請輸入數學成績:\"))\n",
    "    score_English = int(input(\"請輸入英文成績:\"))\n",
    "    print(\"======================\")\n",
    "\n",
    "    score_total = score_Chinese + score_Math + score_English\n",
    "    score_Average = float(score_total / 3)\n",
    "    score_meaning = \"\"\n",
    "\n",
    "    if score_Average >= 60:\n",
    "        score_meaning = \"及格\"\n",
    "    else:\n",
    "        score_meaning = \"不及格\"\n",
    "\n",
    "    print(\"*** 國文成績:%d -> %s\" % (score_Chinese, standard(score_Chinese)))\n",
    "    print(\"*** 數學成績:%d -> %s\" % (score_Math, standard(score_Math)))\n",
    "    print(\"*** 英文成績:%d -> %s\" % (score_English, standard(score_English)))\n",
    "    print(\"*** 總成績:%d\" % (score_total))\n",
    "    print(\"*** 平均成績:%.2f -> %s\" % (score_Average, score_meaning))\n",
    "else:\n",
    "    print(tryLogin)"
   ]
  },
  {
   "cell_type": "markdown",
   "metadata": {},
   "source": [
    "## HW\n"
   ]
  },
  {
   "cell_type": "markdown",
   "metadata": {},
   "source": [
    "### [HW2_1]門票計算\n"
   ]
  },
  {
   "cell_type": "code",
   "execution_count": 22,
   "metadata": {},
   "outputs": [
    {
     "name": "stdout",
     "output_type": "stream",
     "text": [
      "====== 票價計算 ======\n",
      "+++ Fee:50\n"
     ]
    }
   ],
   "source": [
    "print(\"====== 票價計算 ======\")\n",
    "age = int(input(\"*** 年齡:\"))\n",
    "\n",
    "\n",
    "def check_age(ages):\n",
    "    price = 100\n",
    "    if ages <= 6 or ages >= 80:\n",
    "        return 0\n",
    "    elif ages >= 60 and ages <= 79:\n",
    "        return price * 0.5\n",
    "    elif ages >= 7 and ages <= 12:\n",
    "        return price * 0.5\n",
    "    else:\n",
    "        return price\n",
    "\n",
    "\n",
    "print(\"+++ Fee:%d\" % (check_age(age)))"
   ]
  },
  {
   "cell_type": "markdown",
   "metadata": {},
   "source": [
    "### [HW2_2]停車費計算\n"
   ]
  },
  {
   "cell_type": "code",
   "execution_count": 35,
   "metadata": {},
   "outputs": [
    {
     "name": "stdout",
     "output_type": "stream",
     "text": [
      "======== Parking Fee System ========\n",
      "====================================\n",
      "*** Interval: 1439 mins (23H 59M)\n",
      "*** Parking Fee: 1330\n"
     ]
    }
   ],
   "source": [
    "print(\"======== Parking Fee System ========\")\n",
    "Begin_H = int(input(\"Begin_H: \"))\n",
    "Begin_M = int(input(\"Begin_M: \"))\n",
    "End_H = int(input(\"End_H: \"))\n",
    "End_M = int(input(\"End_M: \"))\n",
    "print(\"====================================\")\n",
    "\n",
    "\n",
    "def timeCount(Begin_H, Begin_M, End_H, End_M):\n",
    "    interval = 0\n",
    "    begin_mins = Begin_H * 60 + Begin_M\n",
    "    end_mins = End_H * 60 + End_M\n",
    "    interval = end_mins - begin_mins\n",
    "    return interval\n",
    "\n",
    "\n",
    "def timeChange(mins):\n",
    "    times = \"\"\n",
    "    H = int(mins / 60)\n",
    "    M = int(mins % 60)\n",
    "    times = str(H) + \"H\" + \" \" + str(M) + \"M\"\n",
    "    return times\n",
    "\n",
    "\n",
    "def feeCount(mins):\n",
    "    total = 0\n",
    "    if mins > 120:\n",
    "        extra = int((mins - 120) / 30) * 30\n",
    "        feeSlice = 40\n",
    "        total = extra + feeSlice\n",
    "    else:\n",
    "        feeSlice = int(mins / 30) * 10\n",
    "        total = feeSlice\n",
    "    return total\n",
    "\n",
    "\n",
    "mins = timeCount(Begin_H, Begin_M, End_H, End_M)\n",
    "times = timeChange(mins)\n",
    "if mins > 0:\n",
    "    print(\"*** Interval: %d mins (%s)\" % (mins, times))\n",
    "    print(\"*** Parking Fee: %d\" % (feeCount(mins)))"
   ]
  },
  {
   "cell_type": "markdown",
   "metadata": {},
   "source": [
    "# Unit 3\n"
   ]
  },
  {
   "cell_type": "markdown",
   "metadata": {},
   "source": [
    "## EX\n"
   ]
  },
  {
   "cell_type": "markdown",
   "metadata": {},
   "source": [
    "### [EX3-1]For in range()\n"
   ]
  },
  {
   "cell_type": "code",
   "execution_count": 1,
   "metadata": {},
   "outputs": [
    {
     "name": "stdout",
     "output_type": "stream",
     "text": [
      "0\n",
      "1\n",
      "2\n",
      "3\n",
      "4\n",
      "5\n",
      "6\n",
      "7\n",
      "8\n",
      "9\n",
      "------------------\n",
      "3\n",
      "4\n",
      "5\n",
      "6\n",
      "7\n",
      "8\n",
      "9\n",
      "------------------\n",
      "4\n",
      "6\n",
      "8\n",
      "------------------\n",
      "9\n",
      "8\n",
      "7\n",
      "6\n",
      "5\n",
      "4\n",
      "3\n",
      "2\n",
      "1\n"
     ]
    }
   ],
   "source": [
    "for i in range(10):  # i will be increased by 1 from 0 to 9.\n",
    "    # start defaults to 0, and stop is omitted!\n",
    "    print(i)\n",
    "\n",
    "print(\"------------------\")\n",
    "for i in range(3, 10):  # i will be increased by 1 from 3 to 9\n",
    "    print(i)\n",
    "\n",
    "print(\"------------------\")\n",
    "for i in range(4, 10, 2):  # i will be increased by 2 from 4 to 8\n",
    "    print(i)\n",
    "\n",
    "print(\"------------------\")\n",
    "for i in range(9, 0, -1):  # i will be decreased by 1 from 9 to 1\n",
    "    print(i)"
   ]
  },
  {
   "cell_type": "markdown",
   "metadata": {},
   "source": [
    "### [EX3-2]求年營業額(4 季)\n"
   ]
  },
  {
   "cell_type": "code",
   "execution_count": 2,
   "metadata": {},
   "outputs": [
    {
     "name": "stdout",
     "output_type": "stream",
     "text": [
      "---------------------\n",
      "****** TOTAL =  54\n"
     ]
    }
   ],
   "source": [
    "total = 0\n",
    "for i in range(4):  # i will be increased by 1 from O to 3\n",
    "    Q = int(input(\"*** Q%d : \" % (i + 1)))\n",
    "    total = total + Q\n",
    "print(\"---------------------\\n****** TOTAL = \", total)"
   ]
  },
  {
   "cell_type": "markdown",
   "metadata": {},
   "source": [
    "### [EX3-3]列印 \\* 三角形\n"
   ]
  },
  {
   "cell_type": "code",
   "execution_count": 3,
   "metadata": {},
   "outputs": [
    {
     "name": "stdout",
     "output_type": "stream",
     "text": [
      "*\n",
      "**\n",
      "***\n",
      "****\n",
      "*****\n"
     ]
    }
   ],
   "source": [
    "N = int(input(\"N = \"))\n",
    "for i in range(1, N + 1):\n",
    "    for j in range(1, i + 1):\n",
    "        print(\"*\", end=\"\")\n",
    "    print()\n",
    "    # print(\"\")"
   ]
  },
  {
   "cell_type": "markdown",
   "metadata": {},
   "source": [
    "### [EX3-4] 列印第 n 個英文字母\n"
   ]
  },
  {
   "cell_type": "code",
   "execution_count": 4,
   "metadata": {},
   "outputs": [
    {
     "name": "stdout",
     "output_type": "stream",
     "text": [
      "-------------------------\n",
      "'a' 的ASCII code: 97\n",
      "第15個小寫英文字母: o\n",
      "-------------------------\n",
      "'A' 的ASCII code: 65\n",
      "第15個大寫英文字母: O\n"
     ]
    }
   ],
   "source": [
    "n = int(input(\"n = \"))\n",
    "print(\"-------------------------\")\n",
    "a = ord(\"a\")  # get the ASCII code of 'a'\n",
    "print(\"'a' 的ASCII code:\", a)\n",
    "c = chr(a + n - 1)  # get the character with some ASCII code\n",
    "print(\"第%d個小寫英文字母: %c\" % (n, c))\n",
    "print(\"-------------------------\")\n",
    "print(\"'A' 的ASCII code:\", ord(\"A\"))\n",
    "print(\"第%d個大寫英文字母: %c\" % (n, chr(ord(\"A\") + n - 1)))"
   ]
  },
  {
   "cell_type": "markdown",
   "metadata": {},
   "source": [
    "## PT\n"
   ]
  },
  {
   "cell_type": "markdown",
   "metadata": {},
   "source": [
    "### [PT3-1]求 N 的階乘\n"
   ]
  },
  {
   "cell_type": "code",
   "execution_count": 10,
   "metadata": {},
   "outputs": [
    {
     "name": "stdout",
     "output_type": "stream",
     "text": [
      "6! = 720\n"
     ]
    }
   ],
   "source": [
    "N = int(input(\"N = \"))\n",
    "sum = 1\n",
    "\n",
    "for i in range(1, N + 1):\n",
    "    sum *= i\n",
    "\n",
    "print(\"%d! = %d\" % (N, sum))"
   ]
  },
  {
   "cell_type": "markdown",
   "metadata": {},
   "source": [
    "### [PT3-2]成績統計：找出 N 筆成績的最高分及最高分人數\n"
   ]
  },
  {
   "cell_type": "code",
   "execution_count": 15,
   "metadata": {},
   "outputs": [
    {
     "name": "stdout",
     "output_type": "stream",
     "text": [
      "======================\n",
      "*** 班級最高分:90\n",
      "*** 最高分人數:5\n"
     ]
    }
   ],
   "source": [
    "people = int(input(\"請輸入班級人數:\"))\n",
    "\n",
    "highestScore = 0\n",
    "highestPeople = 1\n",
    "\n",
    "for i in range(0, people):\n",
    "    score = int(input(\"請輸入成績:\"))\n",
    "    if score > highestScore:\n",
    "        highestScore, score = score, highestScore\n",
    "    elif score == highestScore:\n",
    "        highestPeople += 1\n",
    "\n",
    "print(\"======================\")\n",
    "print(\"*** 班級最高分:%d\" % (highestScore))\n",
    "print(\"*** 最高分人數:%d\" % (highestPeople))"
   ]
  },
  {
   "cell_type": "markdown",
   "metadata": {},
   "source": [
    "### [PT3-3]列印數字三角形\n"
   ]
  },
  {
   "cell_type": "code",
   "execution_count": 18,
   "metadata": {},
   "outputs": [
    {
     "name": "stdout",
     "output_type": "stream",
     "text": [
      "54321\n",
      "4321\n",
      "321\n",
      "21\n",
      "1\n"
     ]
    }
   ],
   "source": [
    "N = int(input(\"N = \"))\n",
    "for i in range(N, 0, -1):\n",
    "    for j in range(i, 0, -1):\n",
    "        print(\"%d\" % (j), end=\"\")\n",
    "    print()"
   ]
  },
  {
   "cell_type": "markdown",
   "metadata": {},
   "source": [
    "## HW\n"
   ]
  },
  {
   "cell_type": "markdown",
   "metadata": {},
   "source": [
    "### [HW3-1]列印出 1+2+...+N 之運算式\n"
   ]
  },
  {
   "cell_type": "code",
   "execution_count": 26,
   "metadata": {},
   "outputs": [
    {
     "name": "stdout",
     "output_type": "stream",
     "text": [
      "-----\n",
      "= 0\n"
     ]
    }
   ],
   "source": [
    "N = int(input(\"N = \"))\n",
    "sum = 0\n",
    "for i in range(0, ((N * 4) + 5)):\n",
    "    print(\"-\", end=\"\")\n",
    "print()\n",
    "\n",
    "for i in range(1, N + 1):\n",
    "    sum += i\n",
    "    print(\"%d\" % (i), end=\" \")\n",
    "    if i != N:\n",
    "        print(\"+\", end=\" \")\n",
    "print(\"= %d\" % (sum))"
   ]
  },
  {
   "cell_type": "markdown",
   "metadata": {},
   "source": [
    "### [HW3-2]列印九九乘法表(控制換行)\n"
   ]
  },
  {
   "cell_type": "code",
   "execution_count": 20,
   "metadata": {},
   "outputs": [
    {
     "name": "stdout",
     "output_type": "stream",
     "text": [
      "1*1= 1  1*2= 2  1*3= 3  1*4= 4  1*5= 5  1*6= 6  1*7= 7  1*8= 8  1*9= 9\n",
      "2*1= 2  2*2= 4  2*3= 6  2*4= 8  2*5=10  2*6=12  2*7=14  2*8=16  2*9=18\n",
      "3*1= 3  3*2= 6  3*3= 9  3*4=12  3*5=15  3*6=18  3*7=21  3*8=24  3*9=27\n",
      "4*1= 4  4*2= 8  4*3=12  4*4=16  4*5=20  4*6=24  4*7=28  4*8=32  4*9=36\n",
      "5*1= 5  5*2=10  5*3=15  5*4=20  5*5=25  5*6=30  5*7=35  5*8=40  5*9=45\n",
      "6*1= 6  6*2=12  6*3=18  6*4=24  6*5=30  6*6=36  6*7=42  6*8=48  6*9=54\n",
      "7*1= 7  7*2=14  7*3=21  7*4=28  7*5=35  7*6=42  7*7=49  7*8=56  7*9=63\n",
      "8*1= 8  8*2=16  8*3=24  8*4=32  8*5=40  8*6=48  8*7=56  8*8=64  8*9=72\n",
      "9*1= 9  9*2=18  9*3=27  9*4=36  9*5=45  9*6=54  9*7=63  9*8=72  9*9=81\n"
     ]
    }
   ],
   "source": [
    "for i in range(1, 10):\n",
    "    for j in range(1, 10):\n",
    "        if j == 9:\n",
    "            print(\"%d*%d=%2d\" % (i, j, i * j), end=\"\")\n",
    "        else:\n",
    "            print(\"%d*%d=%2d\" % (i, j, i * j), end=\"  \")\n",
    "    print()"
   ]
  },
  {
   "cell_type": "markdown",
   "metadata": {},
   "source": [
    "### [HW3-3]列印字母三角形\n"
   ]
  },
  {
   "cell_type": "code",
   "execution_count": 35,
   "metadata": {},
   "outputs": [
    {
     "name": "stdout",
     "output_type": "stream",
     "text": [
      "EDCBA\n",
      "DCBA\n",
      "CBA\n",
      "BA\n",
      "A\n"
     ]
    }
   ],
   "source": [
    "N = int(input(\"N = \"))\n",
    "for i in range(N, 0, -1):\n",
    "    for j in range(i, 0, -1):\n",
    "        print(\"%c\" % (chr(ord(\"A\") + j - 1)), end=\"\")\n",
    "    print()"
   ]
  },
  {
   "cell_type": "markdown",
   "metadata": {},
   "source": [
    "### [HW3-4]列印大小寫英文字母\n"
   ]
  },
  {
   "cell_type": "code",
   "execution_count": 43,
   "metadata": {},
   "outputs": [
    {
     "name": "stdout",
     "output_type": "stream",
     "text": [
      "A, B, C, D, E, F, G, H, I, J, K, L, M, N, O, P, Q, R, S, T, U, V, W, X, Y, Z\n",
      "\n",
      "a, b, c, d, e, f, g, h, i, j, k, l, m, n, o, p, q, r, s, t, u, v, w, x, y, z\n"
     ]
    }
   ],
   "source": [
    "N = int(input(\"N = \"))\n",
    "\n",
    "\n",
    "def print_ABC(num):\n",
    "    for i in range(0, num):\n",
    "        if i == num - 1:\n",
    "            print(\"%c\" % (chr(ord(\"A\") + i)), end=\"\")\n",
    "        else:\n",
    "            print(\"%c\" % (chr(ord(\"A\") + i)), end=\", \")\n",
    "    print()\n",
    "\n",
    "\n",
    "def print_abc(num):\n",
    "    for i in range(0, num):\n",
    "        if i == num - 1:\n",
    "            print(\"%c\" % (chr(ord(\"a\") + i)), end=\"\")\n",
    "        else:\n",
    "            print(\"%c\" % (chr(ord(\"a\") + i)), end=\", \")\n",
    "    print()\n",
    "\n",
    "\n",
    "if N >= 1 and N <= 26:\n",
    "    print_abc(N)\n",
    "    print()\n",
    "    print_ABC(N)"
   ]
  },
  {
   "cell_type": "markdown",
   "metadata": {},
   "source": [
    "# Unit 4\n"
   ]
  },
  {
   "cell_type": "markdown",
   "metadata": {},
   "source": [
    "## EX\n"
   ]
  },
  {
   "cell_type": "markdown",
   "metadata": {},
   "source": [
    "### [EX4-1]while, do while\n"
   ]
  },
  {
   "cell_type": "code",
   "execution_count": 1,
   "metadata": {},
   "outputs": [
    {
     "name": "stdout",
     "output_type": "stream",
     "text": [
      "1\n",
      "2\n",
      "3\n",
      "4\n",
      "5\n",
      "6\n",
      "7\n",
      "8\n",
      "9\n",
      "10\n",
      "=========\n",
      "1\n",
      "2\n",
      "3\n",
      "4\n",
      "5\n",
      "6\n",
      "7\n",
      "8\n",
      "9\n",
      "10\n"
     ]
    }
   ],
   "source": [
    "i = 1\n",
    "while i <= 10:\n",
    "    print(i)\n",
    "    i = i + 1\n",
    "print(\"=========\")\n",
    "i = 1\n",
    "while True:  # do while\n",
    "    print(i)\n",
    "    if i == 10:\n",
    "        break\n",
    "    i = i + 1"
   ]
  },
  {
   "cell_type": "markdown",
   "metadata": {},
   "source": [
    "### [EX4-2]While, Random, Continue, Break\n"
   ]
  },
  {
   "cell_type": "code",
   "execution_count": 2,
   "metadata": {},
   "outputs": [
    {
     "name": "stdout",
     "output_type": "stream",
     "text": [
      "8\n",
      "4\n",
      "2\n",
      "2\n",
      "5 : odd\n",
      "9 : odd\n",
      "2\n",
      "2\n",
      "5 : odd\n",
      "8\n",
      "9 : odd\n",
      "7 : odd\n",
      "8\n",
      "3 : odd\n",
      "4\n",
      "4\n",
      "4\n",
      "4\n",
      "6\n",
      "7 : odd\n",
      "9 : odd\n",
      "2\n",
      "7 : odd\n",
      "6\n",
      "5 : odd\n",
      "5 : odd\n",
      "3 : odd\n",
      "9 : odd\n",
      "6\n",
      "0 : stop\n"
     ]
    }
   ],
   "source": [
    "import random\n",
    "\n",
    "while True:\n",
    "    a = random.randint(0, 9)  # generate a random integer between 9 and 9\n",
    "    print(a, end=\"\")\n",
    "    if a == 0:\n",
    "        break\n",
    "    if a % 2 == 0:\n",
    "        print()\n",
    "        continue\n",
    "    print(\" : odd\")\n",
    "print(\" : stop\")"
   ]
  },
  {
   "cell_type": "markdown",
   "metadata": {},
   "source": [
    "## PT\n"
   ]
  },
  {
   "cell_type": "markdown",
   "metadata": {},
   "source": [
    "### [PT4-1]成績計算：班級人數 & 班級平均成績\n"
   ]
  },
  {
   "cell_type": "code",
   "execution_count": 4,
   "metadata": {},
   "outputs": [
    {
     "name": "stdout",
     "output_type": "stream",
     "text": [
      "*** Error Data!\n",
      "======================\n",
      "班級人數:3\n",
      "平均成績:50.67\n"
     ]
    }
   ],
   "source": [
    "count_people = 0\n",
    "total_scores = 0\n",
    "while True:\n",
    "    score = int(input(\"請輸入成績:(-1 for exit)\"))\n",
    "    if score == -1:\n",
    "        break\n",
    "    elif score < 0 or score > 100:\n",
    "        print(\"*** Error Data!\")\n",
    "    else:\n",
    "        total_scores += score\n",
    "        count_people += 1\n",
    "\n",
    "\n",
    "print(\"======================\")\n",
    "print(\"班級人數:%d\" % (count_people))\n",
    "if count_people != 0:\n",
    "    print(\"平均成績:%.2f\" % (total_scores / count_people))"
   ]
  },
  {
   "cell_type": "markdown",
   "metadata": {},
   "source": [
    "### [PT4-2]連續擲 1 顆骰子，直到出現 1 為止，印出所有偶數之和 (人工驗收)\n"
   ]
  },
  {
   "cell_type": "code",
   "execution_count": 13,
   "metadata": {},
   "outputs": [
    {
     "name": "stdout",
     "output_type": "stream",
     "text": [
      "Dice 1: 6\n",
      "Dice 2: 3\n",
      "Dice 3: 4\n",
      "Dice 4: 1\n",
      "Got 1 while Dice 4\n",
      "SUM of EVENs = 10\n"
     ]
    }
   ],
   "source": [
    "import random\n",
    "\n",
    "count = 0\n",
    "sum = 0\n",
    "while True:\n",
    "    a = random.randint(1, 6)  # generate a random integer between 9 and 9\n",
    "    count += 1\n",
    "    print(\"Dice %d: %d\" % (count, a))\n",
    "    if a == 1:\n",
    "        break\n",
    "    elif a % 2 == 0:\n",
    "        sum += a\n",
    "        continue\n",
    "\n",
    "print(\"=================\")\n",
    "print(\"Got 1 while Dice %d\" % (count))\n",
    "print(\"SUM of EVENs = %d\" % (sum))"
   ]
  },
  {
   "cell_type": "markdown",
   "metadata": {},
   "source": [
    "### [PT4-3]連續擲 3 顆骰子，直到大(Total >=10)為止(人工驗收)\n"
   ]
  },
  {
   "cell_type": "code",
   "execution_count": 24,
   "metadata": {},
   "outputs": [
    {
     "name": "stdout",
     "output_type": "stream",
     "text": [
      "Dice A: 3\n",
      "Dice B: 5\n",
      "Dice C: 1\n",
      "-----------------\n",
      "DICE 1: Total = 9\n",
      "=====================\n",
      "Dice A: 4\n",
      "Dice B: 3\n",
      "Dice C: 2\n",
      "-----------------\n",
      "DICE 2: Total = 9\n",
      "=====================\n",
      "Dice A: 1\n",
      "Dice B: 3\n",
      "Dice C: 2\n",
      "-----------------\n",
      "DICE 3: Total = 6\n",
      "=====================\n",
      "Dice A: 6\n",
      "Dice B: 1\n",
      "Dice C: 5\n",
      "-----------------\n",
      "DICE 4: Total = 12\n",
      "=====================\n"
     ]
    }
   ],
   "source": [
    "import random\n",
    "\n",
    "count = 0\n",
    "sum = 0\n",
    "while True:\n",
    "    total = 0\n",
    "    count += 1\n",
    "    for i in range(0, 3):\n",
    "        a = random.randint(1, 6)\n",
    "        print(\"Dice %c: %d\" % (chr(65 + i), a))\n",
    "        total += a\n",
    "    print(\"-----------------\")\n",
    "    print(\"DICE %d: Total = %d\" % (count, total))\n",
    "    print(\"=====================\")\n",
    "    if total >= 10:\n",
    "        break"
   ]
  },
  {
   "cell_type": "markdown",
   "metadata": {},
   "source": [
    "## HW\n"
   ]
  },
  {
   "cell_type": "markdown",
   "metadata": {},
   "source": [
    "### [HW4-1]帳密檢查&成績計算\n"
   ]
  },
  {
   "cell_type": "code",
   "execution_count": 12,
   "metadata": {},
   "outputs": [
    {
     "name": "stdout",
     "output_type": "stream",
     "text": [
      "================================\n",
      "*** Sign-in failed.\n",
      "*** You have 2 more chance(s)!\n",
      "================================\n",
      "================================\n",
      "*** Error Data!\n",
      "*** Error Data!\n",
      "================================\n",
      "班級人數:4\n",
      "及格人數:4\n",
      "最高分:70\n",
      "最高分人數:2\n",
      "平均成績:65.00\n"
     ]
    }
   ],
   "source": [
    "default_ID = \"i001\"\n",
    "defaultPassword = \"p001\"\n",
    "\n",
    "\n",
    "def login():\n",
    "    failed = True\n",
    "    for i in range(1, 4):\n",
    "        print(\"================================\")\n",
    "        id = input(\"ID=\")\n",
    "        passwd = input(\"PASSWORD=\")\n",
    "        if id != default_ID or passwd != defaultPassword:\n",
    "            print(\"*** Sign-in failed.\")\n",
    "            if i != 3:\n",
    "                print(f\"*** You have {3-i} more chance(s)!\")\n",
    "            else:\n",
    "                print(\"*** User login: failed 3 times\")\n",
    "        else:\n",
    "            failed = False\n",
    "            break\n",
    "    if failed:\n",
    "        return \"failed\"\n",
    "    else:\n",
    "        return \"success\"\n",
    "\n",
    "\n",
    "def standard(score):\n",
    "    if score >= 60:\n",
    "        return True\n",
    "    elif score >= 0:\n",
    "        return False\n",
    "\n",
    "\n",
    "tryLogin = login()\n",
    "\n",
    "if tryLogin == \"success\":\n",
    "    totalScore = 0\n",
    "    people = 0\n",
    "    passPeople = 0\n",
    "    highestScore = 0\n",
    "    highestPeople = 0\n",
    "\n",
    "    print(\"================================\")\n",
    "    while True:\n",
    "        score = int(input(\"請輸入成績:(-1 for exit)\"))\n",
    "        if score == -1:\n",
    "            break\n",
    "        elif score < 0 or score > 100:\n",
    "            print(\"*** Error Data!\")\n",
    "        else:\n",
    "            if score > highestScore:\n",
    "                highestScore = score\n",
    "                highestPeople = 1\n",
    "            elif score == highestScore:\n",
    "                highestPeople += 1\n",
    "            totalScore += score\n",
    "            people += 1\n",
    "            if standard(score):\n",
    "                passPeople += 1\n",
    "\n",
    "    print(\"================================\")\n",
    "    print(f\"班級人數:{people}\")\n",
    "    print(f\"及格人數:{passPeople}\")\n",
    "    print(f\"最高分:{highestScore}\")\n",
    "    print(f\"最高分人數:{highestPeople}\")\n",
    "    print(\"平均成績:%.2f\" % (totalScore / people))"
   ]
  },
  {
   "cell_type": "markdown",
   "metadata": {},
   "source": [
    "### [HW4-2]猜幸運數字(1~9)最多三次機會，錯誤：提示大小 (人工驗收)\n"
   ]
  },
  {
   "cell_type": "code",
   "execution_count": 15,
   "metadata": {},
   "outputs": [
    {
     "name": "stdout",
     "output_type": "stream",
     "text": [
      "*** Incorrect: Smaller!\n",
      "*** Correct!\n",
      "===================\n",
      "*** Success: You have tried 2 time(s)!\n",
      "*** Answer is 2!\n"
     ]
    }
   ],
   "source": [
    "import random\n",
    "\n",
    "Answer = random.randint(1, 9)\n",
    "right = False\n",
    "\n",
    "for i in range(0, 3):\n",
    "    guessAns = int(input(f\"Guess {i+1}:\"))\n",
    "    if guessAns == Answer:\n",
    "        print(\"*** Correct!\")\n",
    "        print(\"===================\")\n",
    "        print(f\"*** Success: You have tried {i+1} time(s)!\")\n",
    "        print(f\"*** Answer is {Answer}!\")\n",
    "        right = True\n",
    "        break\n",
    "    else:\n",
    "        if guessAns > Answer:\n",
    "            print(\"*** Incorrect: Smaller!\")\n",
    "        elif guessAns < Answer:\n",
    "            print(\"*** Incorrect: Larger!\")\n",
    "\n",
    "if not right:\n",
    "    print(\"===================\")\n",
    "    print(\"*** Failed: You have tried 3 time(s)!\")\n",
    "    print(f\"*** Answer is {Answer}!\")"
   ]
  },
  {
   "cell_type": "markdown",
   "metadata": {},
   "source": [
    "### [HW4-3]整數位數分析\n"
   ]
  },
  {
   "cell_type": "code",
   "execution_count": 24,
   "metadata": {},
   "outputs": [
    {
     "name": "stdout",
     "output_type": "stream",
     "text": [
      "================================\n",
      "Digit 4 of 25876 = 5\n",
      "Digit 1 of 25876 = 6\n",
      "================================\n",
      "***** BYE!\n"
     ]
    }
   ],
   "source": [
    "number = int(input(\"Input an integer: \"))\n",
    "print(\"================================\")\n",
    "while True:\n",
    "    num = number\n",
    "    k = int(input(\"k(0 for exit) = \"))\n",
    "    if k == 0:\n",
    "        print(\"================================\")\n",
    "        print(\"***** BYE!\")\n",
    "        break\n",
    "    for i in range(0, k):\n",
    "        digit = int(num % 10)\n",
    "        new_num = int(num / 10)\n",
    "        num = new_num\n",
    "    if digit == 0:\n",
    "        print(\"================================\")\n",
    "        print(\"***** Error\")\n",
    "        break\n",
    "    else:\n",
    "        print(f\"Digit {k} of {number} = {digit}\")\n",
    "        print(\"----------------------\")"
   ]
  },
  {
   "cell_type": "markdown",
   "metadata": {},
   "source": [
    "### [HW4-4]判斷【遞增數】\n"
   ]
  },
  {
   "cell_type": "code",
   "execution_count": 30,
   "metadata": {},
   "outputs": [
    {
     "name": "stdout",
     "output_type": "stream",
     "text": [
      "================================\n",
      "5\n",
      "***** YES\n"
     ]
    }
   ],
   "source": [
    "number = int(input(\"Input an integer: \"))\n",
    "print(\"================================\")\n",
    "\n",
    "compare_num = 0\n",
    "isIncrement = True\n",
    "\n",
    "while int(number) != 0:\n",
    "    single_num = int(number % 10)\n",
    "    number /= 10\n",
    "    if compare_num <= single_num:\n",
    "        compare_num = single_num\n",
    "    else:\n",
    "        isIncrement = False\n",
    "\n",
    "if isIncrement:\n",
    "    print(\"***** YES\")\n",
    "else:\n",
    "    print(\"***** NO\")"
   ]
  },
  {
   "cell_type": "markdown",
   "metadata": {},
   "source": [
    "# Unit 5\n"
   ]
  },
  {
   "cell_type": "markdown",
   "metadata": {},
   "source": [
    "## EX\n"
   ]
  },
  {
   "cell_type": "markdown",
   "metadata": {},
   "source": [
    "### [EX5-1]List-新增元素\n"
   ]
  },
  {
   "cell_type": "code",
   "execution_count": 2,
   "metadata": {},
   "outputs": [
    {
     "name": "stdout",
     "output_type": "stream",
     "text": [
      "[10]\n",
      "10\n",
      "================\n",
      "[10, 0, 0, 0, 0, 0, 0, 0, 0, 0, 0]\n",
      "a[0]=10\n",
      "a[1]=0\n",
      "a[2]=0\n",
      "a[3]=0\n",
      "a[4]=0\n",
      "a[5]=0\n",
      "a[6]=0\n",
      "a[7]=0\n",
      "a[8]=0\n",
      "a[9]=0\n",
      "================\n",
      "a[10]=0\n",
      "==============================\n",
      "# of elements in list a =  11\n",
      "a[0]=10\n",
      "a[1]=0\n",
      "a[2]=0\n",
      "a[3]=0\n",
      "a[4]=0\n",
      "a[5]=0\n",
      "a[6]=0\n",
      "a[7]=0\n",
      "a[8]=0\n",
      "a[9]=0\n",
      "a[10]=0\n"
     ]
    }
   ],
   "source": [
    "a = []\n",
    "# a[0]=10 #IndexError: list assignment index out of range\n",
    "a.append(10)\n",
    "print(a)\n",
    "print(a[0])\n",
    "\n",
    "print(\"================\")\n",
    "for i in range(10):\n",
    "    a.append(0)\n",
    "print(a)\n",
    "for i in range(10):\n",
    "    print(\"a[%d]=%d\" % (i, a[i]))\n",
    "print(\"================\")\n",
    "print(\"a[%d]=%d\" % (10, a[10]))\n",
    "\n",
    "print(\"==============================\")\n",
    "print(\"# of elements in list a = \", len(a))\n",
    "for i in range(len(a)):\n",
    "    print(\"a[%d]=%d\" % (i, a[i]))\n",
    "\n",
    "# print(\"a[%d]=%d\" % (11, a[11]))\n",
    "# IndexError: list assignment index out of range"
   ]
  },
  {
   "cell_type": "markdown",
   "metadata": {},
   "source": [
    "### [EX5-2]List-設定初值，新增元素\n"
   ]
  },
  {
   "cell_type": "code",
   "execution_count": 3,
   "metadata": {},
   "outputs": [
    {
     "name": "stdout",
     "output_type": "stream",
     "text": [
      "[0, 0, 0]\n",
      "[0, 0, 0, 10]\n",
      "===============\n",
      "b[0]=0\n",
      "b[1]=0\n",
      "b[2]=0\n",
      "===============\n",
      "c[0]=0\n",
      "c[1]=1\n",
      "c[2]=2\n",
      "===============\n",
      "0\n",
      "1\n",
      "2\n"
     ]
    }
   ],
   "source": [
    "a = [0, 0, 0]\n",
    "print(a)\n",
    "a.append(10)\n",
    "print(a)\n",
    "print(\"===============\")\n",
    "\n",
    "b = [0 for i in range(3)]\n",
    "for i in range(3):\n",
    "    print(\"b[%d]=%d\" % (i, b[i]))\n",
    "print(\"===============\")\n",
    "\n",
    "c = [i for i in range(3)]\n",
    "for i in range(len(c)):\n",
    "    print(\"c[%d]=%d\" % (i, c[i]))\n",
    "print(\"===============\")\n",
    "\n",
    "##############\n",
    "for k in c:\n",
    "    print(k)\n",
    "##############"
   ]
  },
  {
   "cell_type": "markdown",
   "metadata": {},
   "source": [
    "### [EX5-3]List-不同資料型態\n"
   ]
  },
  {
   "cell_type": "code",
   "execution_count": 4,
   "metadata": {},
   "outputs": [
    {
     "name": "stdout",
     "output_type": "stream",
     "text": [
      "[0, 3.5]\n",
      "==================\n",
      "[0, 3.5, 'ABC']\n",
      "==================\n",
      "a[0]= 0\n",
      "a[1]= 3.5\n",
      "a[2]= ABC\n"
     ]
    }
   ],
   "source": [
    "a = [0, 3.5]\n",
    "print(a)\n",
    "\n",
    "print(\"==================\")\n",
    "a.append(\"ABC\")\n",
    "print(a)\n",
    "\n",
    "print(\"==================\")\n",
    "for i in range(len(a)):\n",
    "    print(\"a[%d]=\" % i, a[i])\n",
    "    # print(\"a[%d]=%d\" % (i, a[i]))\n",
    "    # TypeError: %d format: a number is required, not str"
   ]
  },
  {
   "cell_type": "markdown",
   "metadata": {},
   "source": [
    "### [EX5-4]List-Indexing\n"
   ]
  },
  {
   "cell_type": "code",
   "execution_count": 5,
   "metadata": {},
   "outputs": [
    {
     "name": "stdout",
     "output_type": "stream",
     "text": [
      "*** Month 5 : 31 days\n",
      "==============================\n",
      "+++ Month 5 : 31 days\n",
      "==============================\n",
      "### Month 5 : 31 days\n",
      "==============================\n",
      "=== Month MAY : 31 days\n"
     ]
    }
   ],
   "source": [
    "m = int(input(\"Month:\"))\n",
    "if m == 1:\n",
    "    print(\"*** Month 1 : 31 days\")\n",
    "elif m == 2:\n",
    "    print(\"*** Month 2 : 28 days\")\n",
    "elif m == 3:\n",
    "    print(\"*** Month 3 : 31 days\")\n",
    "elif m == 4:\n",
    "    print(\"*** Month 4 : 30 days\")\n",
    "elif m == 5:\n",
    "    print(\"*** Month 5 : 31 days\")\n",
    "elif m == 6:\n",
    "    print(\"*** Month 6 : 30 days\")\n",
    "elif m == 7:\n",
    "    print(\"*** Month 7 : 31 days\")\n",
    "elif m == 8:\n",
    "    print(\"*** Month 8 : 31 days\")\n",
    "elif m == 9:\n",
    "    print(\"*** Month 9 : 30 days\")\n",
    "elif m == 10:\n",
    "    print(\"*** Month 10 : 31 days\")\n",
    "elif m == 11:\n",
    "    print(\"*** Month 11 : 30 days\")\n",
    "else:\n",
    "    print(\"*** Month 12 : 31 days\")\n",
    "\n",
    "print(\"==============================\")\n",
    "if m == 1 or m == 3 or m == 5 or m == 7 or m == 8 or m == 10 or m == 12:\n",
    "    print(\"+++ Month %d : 31 days\" % m)\n",
    "elif m == 4 or m == 6 or m == 9 or m == 11:\n",
    "    print(\"+++ Month %d : 30 days\" % m)\n",
    "else:\n",
    "    print(\"+++ Month 2 : 28 days\")\n",
    "\n",
    "print(\"==============================\")\n",
    "if m == 2:\n",
    "    print(\"### Month 2 : 28 days\")\n",
    "elif m == 4 or m == 6 or m == 9 or m == 11:\n",
    "    print(\"### Month %d : 30 days\" % m)\n",
    "else:\n",
    "    print(\"### Month %d : 31 days\" % m)\n",
    "\n",
    "print(\"==============================\")\n",
    "D = [31, 28, 31, 30, 31, 30, 31, 31, 30, 31, 30, 31]\n",
    "M = [\"JAN\", \"FEB\", \"MAR\", \"APR\", \"MAY\", \"JUN\", \"JUL\", \"AUG\", \"SEP\", \"OCT\", \"NOV\", \"DEC\"]\n",
    "print(\"=== Month %s : %d days\" % (M[m - 1], D[m - 1]))"
   ]
  },
  {
   "cell_type": "markdown",
   "metadata": {},
   "source": [
    "### [EX5-5]List-配合 For-Else & count()\n"
   ]
  },
  {
   "cell_type": "code",
   "execution_count": 6,
   "metadata": {},
   "outputs": [
    {
     "name": "stdout",
     "output_type": "stream",
     "text": [
      "Not ALL PASS\n",
      "------------------------------\n",
      "ALL PASS\n",
      "------------------------------\n",
      "*** Thrilling pass: 2 people\n"
     ]
    }
   ],
   "source": [
    "classA = [90, 60, 50, 80, 60, 70, 80, 90]\n",
    "AllPass = True\n",
    "for s in classA:\n",
    "    if s < 60:\n",
    "        AllPass = False\n",
    "        break\n",
    "if AllPass:\n",
    "    print(\"ALL PASS\")\n",
    "else:\n",
    "    print(\"Not ALL PASS\")\n",
    "\n",
    "print(\"------------------------------\")\n",
    "classB = [90, 60, 80, 80, 60, 70, 80, 90]\n",
    "for s in classB:\n",
    "    if s < 60:\n",
    "        print(\"Not ALL PASS\")\n",
    "        break\n",
    "else:\n",
    "    print(\"ALL PASS\")\n",
    "\n",
    "# Loop statements may have an else clause;\n",
    "# it is executed when the loop terminates through exhaustion of the list (with for)\n",
    "# or when the condition becomes false (with while), but not when the loop is terminated by a break statement.\n",
    "# 只要 for/while 不是因特殊狀況而執行break提早離開,就會執行else clause\n",
    "\n",
    "print(\"------------------------------\")\n",
    "print(\"*** Thrilling pass: %d people\" % classA.count(60))\n",
    "# return number of occurrences of value in the List"
   ]
  },
  {
   "cell_type": "markdown",
   "metadata": {},
   "source": [
    "### [EX5-6]List-複製(Deep Copy)\n"
   ]
  },
  {
   "cell_type": "code",
   "execution_count": 8,
   "metadata": {},
   "outputs": [
    {
     "name": "stdout",
     "output_type": "stream",
     "text": [
      "====== Before ======\n",
      "old: [10, 20, 30]\n",
      "new: [10, 20, 30]\n",
      "====== After ======\n",
      "old: [0, 20, 30]\n",
      "new: [0, 20, 30]\n"
     ]
    }
   ],
   "source": [
    "old = [10, 20, 30]\n",
    "new = old\n",
    "print(\"====== Before ======\")\n",
    "print(\"old:\", old)\n",
    "print(\"new:\", new)\n",
    "\n",
    "new[0] = 0\n",
    "\n",
    "print(\"====== After ======\")\n",
    "print(\"old:\", old)\n",
    "print(\"new:\", new)"
   ]
  },
  {
   "cell_type": "markdown",
   "metadata": {},
   "source": [
    "### [EX5-7]List-複製(Shallow Copy)\n"
   ]
  },
  {
   "cell_type": "code",
   "execution_count": 9,
   "metadata": {},
   "outputs": [
    {
     "name": "stdout",
     "output_type": "stream",
     "text": [
      "====== Before ======\n",
      "old: [10, 20, 30]\n",
      "new: [10, 20, 30]\n",
      "====== After ======\n",
      "old: [10, 20, 30]\n",
      "new: [0, 20, 30]\n"
     ]
    }
   ],
   "source": [
    "old = [10, 20, 30]\n",
    "new = old.copy()\n",
    "# new = old[:]\n",
    "print(\"====== Before ======\")\n",
    "print(\"old:\", old)\n",
    "print(\"new:\", new)\n",
    "\n",
    "new[0] = 0\n",
    "\n",
    "print(\"====== After ======\")\n",
    "print(\"old:\", old)\n",
    "print(\"new:\", new)"
   ]
  },
  {
   "cell_type": "markdown",
   "metadata": {},
   "source": [
    "## PT\n"
   ]
  },
  {
   "cell_type": "markdown",
   "metadata": {},
   "source": [
    "### [PT5-1] 成績統計：輸入多筆成績(0~100，-1 for exit)，列印:班級人數、平均成績、高於平均的人數&座號&分數\n"
   ]
  },
  {
   "cell_type": "code",
   "execution_count": null,
   "metadata": {},
   "outputs": [],
   "source": [
    "print(\"請輸入成績(-1 for exit)\")\n",
    "scores = []\n",
    "totalScores = 0\n",
    "while True:\n",
    "    score = int(input(f\"No.{len(scores)+1}:\"))\n",
    "    if score == -1:\n",
    "        break\n",
    "    elif score > 100 or score < 0:\n",
    "        print(\"*** Error Data!\")\n",
    "    else:\n",
    "        scores.append(score)\n",
    "        totalScores += score\n",
    "\n",
    "\n",
    "print(\"=============================\")\n",
    "print(f\"班級人數:{len(scores)}\")\n",
    "\n",
    "if len(scores) > 0:\n",
    "    averageScore = float(totalScores / len(scores))\n",
    "    print(f\"平均成績:{averageScore:.2f}\")\n",
    "\n",
    "    print(\"===========高於平均==========\")\n",
    "    aboveAvgScores = [sc for sc in scores if sc > averageScore]\n",
    "    if len(aboveAvgScores) > 0:\n",
    "        for i in range(len(scores)):\n",
    "            if scores[i] > averageScore:\n",
    "                print(f\"No.{i+1}:{scores[i]}\")\n",
    "        print(\"-------------\")\n",
    "    print(f\"共有 {len(aboveAvgScores)} 人\")"
   ]
  },
  {
   "cell_type": "markdown",
   "metadata": {},
   "source": [
    "### [PT5-2]輸入日期，印出該月英文縮寫及天數。檢查日期正確性，錯誤，則重新輸入\n"
   ]
  },
  {
   "cell_type": "code",
   "execution_count": 3,
   "metadata": {},
   "outputs": [
    {
     "name": "stdout",
     "output_type": "stream",
     "text": [
      "*** Wrong Date!\n",
      "-----------------\n",
      "*** Wrong Date!\n",
      "-----------------\n",
      "*** Wrong Date!\n",
      "-----------------\n",
      "=====================\n",
      "*** Month JAN:31 days\n"
     ]
    }
   ],
   "source": [
    "D = [31, 28, 31, 30, 31, 30, 31, 31, 30, 31, 30, 31]\n",
    "M = [\"JAN\", \"FEB\", \"MAR\", \"APR\", \"MAY\", \"JUN\", \"JUL\", \"AUG\", \"SEP\", \"OCT\", \"NOV\", \"DEC\"]\n",
    "\n",
    "while True:\n",
    "    month = int(input(\"Month:\"))\n",
    "    day = int(input(\"Day:\"))\n",
    "    if month < 1 or month > 12:\n",
    "        typeRight = False\n",
    "    elif day > D[month - 1] or day < 1:\n",
    "        typeRight = False\n",
    "    else:\n",
    "        typeRight = True\n",
    "\n",
    "    if typeRight:\n",
    "        print(\"=====================\")\n",
    "        print(\"*** Month %s:%d days\" % (M[month - 1], D[month - 1]))\n",
    "        break\n",
    "    else:\n",
    "        print(\"*** Wrong Date!\")\n",
    "        print(\"-----------------\")"
   ]
  },
  {
   "cell_type": "markdown",
   "metadata": {},
   "source": [
    "### [PT5-3]輸入日期，印出今年剩幾天。檢查日期正確性，錯誤，則重新輸入\n"
   ]
  },
  {
   "cell_type": "code",
   "execution_count": null,
   "metadata": {},
   "outputs": [],
   "source": [
    "D = [31, 28, 31, 30, 31, 30, 31, 31, 30, 31, 30, 31]\n",
    "\n",
    "typeRight = True\n",
    "\n",
    "while True:\n",
    "    month = int(input(\"Month:\"))\n",
    "    day = int(input(\"Day:\"))\n",
    "    if month < 1 or month > 12:\n",
    "        typeRight = False\n",
    "    elif day > D[month - 1] or day < 1:\n",
    "        typeRight = False\n",
    "    else:\n",
    "        typeRight = True\n",
    "\n",
    "    if typeRight:\n",
    "        leftdays = D[month - 1] - day + 1\n",
    "        for i in range(month, 12):\n",
    "            leftdays += D[i]\n",
    "\n",
    "        print(\"=====================\")\n",
    "        print(\"*** %d/%d : %d day(s) left this year\" % (month, day, leftdays))\n",
    "        break\n",
    "    else:\n",
    "        print(\"*** Wrong Date!\")\n",
    "        print(\"-----------------\")"
   ]
  },
  {
   "cell_type": "markdown",
   "metadata": {},
   "source": [
    "## HW\n"
   ]
  },
  {
   "cell_type": "markdown",
   "metadata": {},
   "source": [
    "### [HW5-1]成績計算\n"
   ]
  },
  {
   "cell_type": "code",
   "execution_count": 12,
   "metadata": {},
   "outputs": [
    {
     "name": "stdout",
     "output_type": "stream",
     "text": [
      "===== 最低分:40 =====\n",
      "*** 2號\n",
      "*** 4號\n",
      "--------------------\n",
      "+++ 共2人\n",
      "\n",
      "========== 查詢分數 ===========\n",
      "*** 3號:70分\n",
      "--------------------\n",
      "+++ Error: 座號錯誤\n",
      "--------------------\n",
      "*** 4號:40分 <--- 最低分\n",
      "--------------------\n",
      "=== BYE ===\n"
     ]
    }
   ],
   "source": [
    "people = int(input(\"請輸入班級人數:\"))\n",
    "scores = []\n",
    "lowestScore = 100\n",
    "for i in range(people):\n",
    "    score = int(input(f\"{len(scores)+1}號成績:\"))\n",
    "    if score > 100 or score < 0:\n",
    "        print(\"*** Error Data!\")\n",
    "        i -= 1\n",
    "    else:\n",
    "        if lowestScore > score:\n",
    "            lowestScore = score\n",
    "        scores.append(score)\n",
    "\n",
    "print(f\"===== 最低分:{lowestScore} =====\")\n",
    "lowestPeople = 0\n",
    "for i in range(len(scores)):\n",
    "    if scores[i] == lowestScore:\n",
    "        print(f\"*** {i+1}號\")\n",
    "        lowestPeople += 1\n",
    "print(\"--------------------\")\n",
    "print(f\"+++ 共{lowestPeople}人\\n\")\n",
    "\n",
    "print(\"========== 查詢分數 ===========\")\n",
    "while True:\n",
    "    number = int(input(\"請輸入座號(-1 for exit):\"))\n",
    "    if number == -1:\n",
    "        print(\"=== BYE ===\")\n",
    "        break\n",
    "    elif number > people or number < 1:\n",
    "        print(\"+++ Error: 座號錯誤\")\n",
    "    else:\n",
    "        print(f\"*** {number}號:{scores[number-1]}分\", end=\"\")\n",
    "        if scores[number - 1] == lowestScore:\n",
    "            print(\" <--- 最低分\")\n",
    "        else:\n",
    "            print()\n",
    "    print(\"--------------------\")"
   ]
  },
  {
   "cell_type": "markdown",
   "metadata": {},
   "source": [
    "### [HW5-2]輸入兩日期，印出相距幾天\n"
   ]
  },
  {
   "cell_type": "code",
   "execution_count": 29,
   "metadata": {},
   "outputs": [
    {
     "name": "stdout",
     "output_type": "stream",
     "text": [
      "======= Input Day1 =========\n",
      "======= Input Day2 =========\n",
      "============================\n",
      "*** From 3/5 to 6/8: 95 day(s)\n"
     ]
    }
   ],
   "source": [
    "D = [31, 28, 31, 30, 31, 30, 31, 31, 30, 31, 30, 31]\n",
    "M = [\"JAN\", \"FEB\", \"MAR\", \"APR\", \"MAY\", \"JUN\",\n",
    "     \"JUL\", \"AUG\", \"SEP\", \"OCT\", \"NOV\", \"DEC\"]\n",
    "\n",
    "month = []\n",
    "day = []\n",
    "i = 0\n",
    "display_once = True\n",
    "while i < 2:\n",
    "    if display_once:\n",
    "        print(f\"======= Input Day{i+1} =========\")\n",
    "        display_once = False\n",
    "    m = int(input(\"Month:\"))\n",
    "    d = int(input(\"Day:\"))\n",
    "    if m > 12 or m < 1:\n",
    "        print(\"***Error!   Month range:[1-12]\")\n",
    "        print(\"-----------------\")\n",
    "    elif d > D[m - 1] or d < 1:\n",
    "        print(f\"*** Error!   {M[m-1]}'s day range:[1-{D[m-1]}]\")\n",
    "        print(\"-----------------\")\n",
    "    else:\n",
    "        month.append(m)\n",
    "        day.append(d)\n",
    "        i += 1\n",
    "        display_once = True\n",
    "\n",
    "\n",
    "def swapDate():\n",
    "    month[0], month[1] = month[1], month[0]\n",
    "    day[0], day[1] = day[1], day[0]\n",
    "\n",
    "\n",
    "if month[0] > month[1]:\n",
    "    swapDate()\n",
    "elif month[0] == month[1]:\n",
    "    if day[0] > day[1]:\n",
    "        swapDate()\n",
    "\n",
    "\n",
    "def countDays():\n",
    "    days = 0\n",
    "    if month[0] == month[1]:\n",
    "        return day[1] - day[0]\n",
    "    else:\n",
    "        days = D[month[0] - 1] - day[0] + day[1]\n",
    "        if month[1] - month[0] > 1:\n",
    "            for i in range(month[0], month[1] - 1):\n",
    "                days += D[i]\n",
    "        return days\n",
    "\n",
    "\n",
    "daysDifference = countDays()\n",
    "\n",
    "print(\"============================\")\n",
    "print(f\"*** From {month[0]}/{day[0]} to {month[1]\n",
    "                                         }/{day[1]}: {daysDifference} day(s)\")"
   ]
  },
  {
   "cell_type": "markdown",
   "metadata": {},
   "source": [
    "### [HW5-3]連續擲 1 顆骰子，直到出現所有數字都出現為止(人工驗收)\n"
   ]
  },
  {
   "cell_type": "code",
   "execution_count": 49,
   "metadata": {},
   "outputs": [
    {
     "name": "stdout",
     "output_type": "stream",
     "text": [
      "=================\n",
      "Dice 1: 2\n",
      "Dice:2\n",
      "-------------\n",
      "Dice 2: 1\n",
      "Dice:1 2\n",
      "-------------\n",
      "Dice 3: 4\n",
      "Dice:1 2 4\n",
      "-------------\n",
      "Dice 4: 2\n",
      "Dice:1 2 4\n",
      "-------------\n",
      "Dice 5: 3\n",
      "Dice:1 2 3 4\n",
      "-------------\n",
      "Dice 6: 4\n",
      "Dice:1 2 3 4\n",
      "-------------\n",
      "Dice 7: 5\n",
      "Dice:1 2 3 4 5\n",
      "-------------\n",
      "Dice 8: 2\n",
      "Dice:1 2 3 4 5\n",
      "-------------\n",
      "Dice 9: 4\n",
      "Dice:1 2 3 4 5\n",
      "-------------\n",
      "Dice 10: 2\n",
      "Dice:1 2 3 4 5\n",
      "-------------\n",
      "Dice 11: 4\n",
      "Dice:1 2 3 4 5\n",
      "-------------\n",
      "Dice 12: 4\n",
      "Dice:1 2 3 4 5\n",
      "-------------\n",
      "Dice 13: 6\n",
      "Dice:1 2 3 4 5 6\n",
      "=================\n",
      "Got All After Dice 13\n"
     ]
    }
   ],
   "source": [
    "import random\n",
    "\n",
    "\n",
    "def check(checkList):\n",
    "    lists = [1, 2, 3, 4, 5, 6]\n",
    "    if lists == checkList:\n",
    "        return True\n",
    "    else:\n",
    "        return False\n",
    "\n",
    "\n",
    "def printLists(lists):\n",
    "    for i in lists:\n",
    "        if i == lists[-1]:\n",
    "            print(i)\n",
    "        else:\n",
    "            print(i, end=\" \")\n",
    "\n",
    "\n",
    "count = 0\n",
    "diceList = []\n",
    "print(\"=================\")\n",
    "while True:\n",
    "    a = random.randint(1, 6)\n",
    "    count += 1\n",
    "    print(\"Dice %d: %d\" % (count, a))\n",
    "    if a in diceList:\n",
    "        pass\n",
    "    else:\n",
    "        diceList.append(a)\n",
    "        diceList.sort()\n",
    "    print(\"Dice:\", end=\"\")\n",
    "    printLists(diceList)\n",
    "    if check(diceList):\n",
    "        break\n",
    "    else:\n",
    "        print(\"-------------\")\n",
    "\n",
    "\n",
    "print(\"=================\")\n",
    "print(\"Got All After Dice %d\" % (count))"
   ]
  },
  {
   "cell_type": "markdown",
   "metadata": {},
   "source": [
    "# Unit 6\n"
   ]
  },
  {
   "cell_type": "markdown",
   "metadata": {},
   "source": [
    "## EX\n"
   ]
  },
  {
   "cell_type": "markdown",
   "metadata": {},
   "source": [
    "### [Ex6-1]二維陣列 及 For loop\n"
   ]
  },
  {
   "cell_type": "code",
   "execution_count": 50,
   "metadata": {},
   "outputs": [
    {
     "name": "stdout",
     "output_type": "stream",
     "text": [
      "=========(1)==========\n",
      "[[40, 50], [60, 90], [90, 70], [40, 10]]\n",
      "=========(2)==========\n",
      "40 50 \n",
      "60 90 \n",
      "90 70 \n",
      "40 10 \n",
      "=========(3)==========\n",
      "40 50 \n",
      "60 90 \n",
      "90 70 \n",
      "40 10 \n",
      "=========(4)==========\n",
      "[40, 50]\n",
      "[60, 90]\n",
      "[90, 70]\n",
      "[40, 10]\n",
      "=========(5)==========\n",
      "40 50 \n",
      "60 90 \n",
      "90 70 \n",
      "40 10 \n"
     ]
    }
   ],
   "source": [
    "A = [[40, 50], [60, 90], [90, 70], [40, 10]]\n",
    "print(\"=========(1)==========\")\n",
    "print(A)\n",
    "\n",
    "print(\"=========(2)==========\")\n",
    "for i in range(4):\n",
    "    for j in range(2):\n",
    "        print(A[i][j], end=\" \")\n",
    "    print()\n",
    "\n",
    "print(\"=========(3)==========\")\n",
    "for i in range(len(A)):\n",
    "    for j in range(len(A[0])):\n",
    "        print(A[i][j], end=\" \")\n",
    "    print()\n",
    "\n",
    "print(\"=========(4)==========\")\n",
    "for row in A:\n",
    "    print(row)\n",
    "\n",
    "print(\"=========(5)==========\")\n",
    "for row in A:\n",
    "    for a in row:\n",
    "        print(a, end=\" \")\n",
    "    print()"
   ]
  },
  {
   "cell_type": "markdown",
   "metadata": {},
   "source": [
    "### [EX6-2]陣列元素更改 及 For loop\n"
   ]
  },
  {
   "cell_type": "code",
   "execution_count": 51,
   "metadata": {},
   "outputs": [
    {
     "name": "stdout",
     "output_type": "stream",
     "text": [
      "==========(1)==========\n",
      "[10, 20, 30]\n",
      "----------------\n",
      "[10, 20, 30]\n",
      "==========(2)==========\n",
      "40 50 \n",
      "60 90 \n",
      "90 70 \n",
      "40 10 \n",
      "==========(3)==========\n",
      "[[40, 50], [60, 90], [90, 70], [40, 10]]\n",
      "[[0, 0], [0, 0], [0, 0], [0, 0]]\n"
     ]
    }
   ],
   "source": [
    "x = [10, 20, 30]\n",
    "\n",
    "print(\"==========(1)==========\")\n",
    "print(x)\n",
    "print(\"----------------\")\n",
    "for b in x:\n",
    "    b = 0\n",
    "print(x)\n",
    "\n",
    "A = [[40, 50], [60, 90], [90, 70], [40, 10]]\n",
    "print(\"==========(2)==========\")\n",
    "for row in A:\n",
    "    for a in row:\n",
    "        a = 0\n",
    "for row in A:\n",
    "    for a in row:\n",
    "        print(a, end=\" \")\n",
    "    print()\n",
    "print(\"==========(3)==========\")\n",
    "print(A)\n",
    "for i in range(len(A)):\n",
    "    for j in range(len(A[0])):\n",
    "        A[i][j] = 0\n",
    "print(A)"
   ]
  },
  {
   "cell_type": "markdown",
   "metadata": {},
   "source": [
    "### [EX6-3]二維陣列初值設定\n"
   ]
  },
  {
   "cell_type": "code",
   "execution_count": 1,
   "metadata": {},
   "outputs": [
    {
     "name": "stdout",
     "output_type": "stream",
     "text": [
      "[[0, 0, 0, 0, 0], [0, 0, 0, 0, 0], [0, 0, 0, 0, 0], [0, 0, 0, 0, 0], [0, 0, 0, 0, 0]]\n",
      "=============\n",
      "0 0 3 0 0 \n",
      "0 0 3 0 0 \n",
      "0 0 3 0 0 \n",
      "0 0 3 0 0 \n",
      "0 0 3 0 0 \n",
      "=============\n",
      "0 0 0 0 0 \n",
      "0 0 3 0 0 \n",
      "0 0 0 0 0 \n",
      "0 0 0 0 0 \n",
      "0 0 0 0 0 \n"
     ]
    }
   ],
   "source": [
    "a = [[0] * 5] * 5\n",
    "print(a)\n",
    "\n",
    "print(\"=============\")\n",
    "a[1][2] = 3\n",
    "for i in range(5):\n",
    "    for j in range(5):\n",
    "        print(a[i][j], end=\" \")\n",
    "    print()\n",
    "\n",
    "print(\"=============\")\n",
    "# a = [[0, 0, 0, 0, 0], [0, 0, 0, 0, 0], [0, 0, 0, 0, 0], [0, 0, 0, 0, 0], [0, 0, 0, 0, 0]]\n",
    "a = [[0 for i in range(5)] for j in range(5)]\n",
    "\n",
    "a[1][2] = 3\n",
    "for i in range(5):\n",
    "    for j in range(5):\n",
    "        print(a[i][j], end=\" \")\n",
    "    print()"
   ]
  },
  {
   "cell_type": "markdown",
   "metadata": {},
   "source": [
    "### [Ex6-4]新增二維陣列，新增一個 Row\n"
   ]
  },
  {
   "cell_type": "code",
   "execution_count": 53,
   "metadata": {},
   "outputs": [
    {
     "name": "stdout",
     "output_type": "stream",
     "text": [
      "===========================\n",
      "-Row 0 ---\n",
      "-Row 1 ---\n",
      "-Row 2 ---\n",
      "-Row 3 ---\n",
      "-Row 4 ---\n",
      "===========================\n",
      "[[1, 2, 3, 4, 5], [6, 7, 8, 9, 10], [11, 12, 13, 14, 15], [16, 17, 18, 19, 20], [21, 22, 23, 24, 25]]\n",
      "===========================\n",
      "1 2 3 4 5 \n",
      "6 7 8 9 10 \n",
      "11 12 13 14 15 \n",
      "16 17 18 19 20 \n",
      "21 22 23 24 25 \n",
      "+++++++++++++++++++++++++++\n",
      "RowNum:  5\n",
      "ColumnNum: 5\n",
      "----- After A.append([]) -----\n",
      "RowNum:  6\n",
      "ColumnNum: 5\n",
      "-Row 5 ---\n",
      "[[1, 2, 3, 4, 5], [6, 7, 8, 9, 10], [11, 12, 13, 14, 15], [16, 17, 18, 19, 20], [21, 22, 23, 24, 25], [4, 3, 5, 8, 1]]\n"
     ]
    }
   ],
   "source": [
    "A = []\n",
    "# print(len(A))\n",
    "\n",
    "RowNum = int(input(\"RowNum:\"))\n",
    "ColNum = int(input(\"ColumnNum:\"))\n",
    "\n",
    "print(\"===========================\")\n",
    "for i in range(RowNum):\n",
    "    print(\"-Row %d ---\" % i)\n",
    "    A.append([])\n",
    "    for j in range(ColNum):\n",
    "        A[i].append(int(input(\"Input:\")))\n",
    "\n",
    "print(\"===========================\")\n",
    "print(A)\n",
    "\n",
    "print(\"===========================\")\n",
    "for row in A:\n",
    "    for a in row:\n",
    "        print(a, end=\" \")\n",
    "    print()\n",
    "\n",
    "print(\"+++++++++++++++++++++++++++\")\n",
    "print(\"RowNum: \", len(A))\n",
    "print(\"ColumnNum:\", len(A[0]))\n",
    "\n",
    "A.append([])\n",
    "print(\"----- After A.append([]) -----\")\n",
    "print(\"RowNum: \", len(A))\n",
    "print(\"ColumnNum:\", len(A[0]))\n",
    "print(\"-Row %d ---\" % (len(A) - 1))\n",
    "for j in range(len(A[0])):\n",
    "    A[len(A) - 1].append(int(input(\"Input:\")))\n",
    "print(A)"
   ]
  },
  {
   "cell_type": "markdown",
   "metadata": {},
   "source": [
    "### [EX6-5]All Zero 二維平面(5\\*5)，連續輸入多筆座標，改為 1(直到 ENTER 為止)\n"
   ]
  },
  {
   "cell_type": "code",
   "execution_count": 57,
   "metadata": {},
   "outputs": [
    {
     "name": "stdout",
     "output_type": "stream",
     "text": [
      "0 0 0 0 0 \n",
      "0 0 0 0 0 \n",
      "0 0 0 0 0 \n",
      "0 0 0 0 0 \n",
      "0 0 0 0 0 \n",
      "=============\n",
      "['1', '1']\n",
      "['1', '3']\n",
      "['2', '4']\n",
      "['0', '3']\n",
      "['2', '4']\n",
      "['1', '3']\n",
      "['1', '2']\n",
      "['2', '4']\n",
      "['2', '1']\n",
      "['2', '0']\n",
      "['4', '3']\n",
      "['1', '4']\n",
      "['4', '4']\n",
      "['3', '4']\n",
      "['3', '0']\n",
      "=============\n",
      "0 0 0 1 0 \n",
      "0 1 1 1 1 \n",
      "1 1 0 0 1 \n",
      "1 0 0 0 1 \n",
      "0 0 0 1 1 \n"
     ]
    }
   ],
   "source": [
    "a = [[0 for i in range(5)] for j in range(5)]\n",
    "for i in range(5):\n",
    "    for j in range(5):\n",
    "        print(a[i][j], end=\" \")\n",
    "    print()\n",
    "print(\"=============\")\n",
    "while True:\n",
    "    inxy = input(\"x,y:\")\n",
    "    if inxy == \"\":  # break if ENTER nothing\n",
    "        break\n",
    "    xy = inxy.split(\",\")  # split a string into a list with separator\n",
    "    print(xy)\n",
    "    x = int(xy[0])\n",
    "    y = int(xy[1])\n",
    "    a[x][y] = 1\n",
    "\n",
    "print(\"=============\")\n",
    "for i in range(5):\n",
    "    for j in range(5):\n",
    "        print(a[i][j], end=\" \")\n",
    "    print()"
   ]
  },
  {
   "cell_type": "markdown",
   "metadata": {},
   "source": [
    "## PT\n"
   ]
  },
  {
   "cell_type": "markdown",
   "metadata": {},
   "source": [
    "### [PT6-1]調整成績(float)\n"
   ]
  },
  {
   "cell_type": "code",
   "execution_count": 6,
   "metadata": {},
   "outputs": [
    {
     "name": "stdout",
     "output_type": "stream",
     "text": [
      "40.3 49.6 \n",
      "60.2 89.5 \n",
      "90.4 69.9 \n",
      "39.7 10.1 \n",
      "===== Input =====\n",
      "===== Round =====\n",
      "40 50 \n",
      "60 90 \n",
      "90 70 \n",
      "40 10 \n",
      "50 80 \n",
      "====== Add ======\n",
      "45 52 \n",
      "65 92 \n",
      "95 72 \n",
      "45 12 \n",
      "55 82 \n"
     ]
    }
   ],
   "source": [
    "A = [[40.3, 49.6], [60.2, 89.5], [90.4, 69.9], [39.7, 10.1]]\n",
    "\n",
    "\n",
    "def printScore(lists):\n",
    "    for i in range(len(lists)):\n",
    "        for j in range(len(lists[i])):\n",
    "            print(lists[i][j], end=\" \")\n",
    "        print()\n",
    "\n",
    "\n",
    "printScore(A)\n",
    "\n",
    "print(\"===== Input =====\")\n",
    "new_score = []\n",
    "for i in range(2):\n",
    "    new_score.append(float(input(\"Input:\")))\n",
    "A.append(new_score)\n",
    "\n",
    "print(\"===== Round =====\")\n",
    "for i in range(len(A)):\n",
    "    for j in range(len(A[i])):\n",
    "        A[i][j] = round(A[i][j])\n",
    "printScore(A)\n",
    "\n",
    "print(\"====== Add ======\")\n",
    "for i in range(len(A)):\n",
    "    A[i][0] += 5\n",
    "    A[i][1] += 2\n",
    "printScore(A)"
   ]
  },
  {
   "cell_type": "markdown",
   "metadata": {},
   "source": [
    "### [PT6-2] 輸入 n 筆成績(ENG,MATH)，印出成績表(ENG, MATH, AVG): 2D array\n"
   ]
  },
  {
   "cell_type": "code",
   "execution_count": 35,
   "metadata": {},
   "outputs": [
    {
     "name": "stdout",
     "output_type": "stream",
     "text": [
      "===== No.1 =====\n",
      "===== No.2 =====\n",
      "===== No.3 =====\n",
      "===== No.4 =====\n",
      "\n",
      "====NO.===ENG====MATH====AVG====\n",
      "     1     20     40     30.0\n",
      "     2     70     13     41.5\n",
      "     3     60     80     70.0\n",
      "     4     10     31     20.5\n",
      "================================\n"
     ]
    }
   ],
   "source": [
    "classmates = int(input(\"請輸入班級人數=\"))\n",
    "\n",
    "g = []\n",
    "for i in range(classmates):\n",
    "    print(f\"===== No.{i+1} =====\")\n",
    "    eng_score = int(input(\"ENG:\"))\n",
    "    math_score = int(input(\"MATH:\"))\n",
    "    avg_score = (eng_score + math_score) / 2\n",
    "    a = [eng_score, math_score, avg_score]\n",
    "    g.append(a)\n",
    "\n",
    "print(\"\\n====NO.===ENG====MATH====AVG====\")\n",
    "for i in range(len(g)):\n",
    "    print(f\"     {i+1}     {g[i][0]}     {g[i][1]}     {g[i][2]}\")\n",
    "print(\"================================\")"
   ]
  },
  {
   "cell_type": "markdown",
   "metadata": {},
   "source": [
    "### [PT6-3]All Zero 二維平面(5\\*5):找出 All Zero Row 及 All Zero Column\n"
   ]
  },
  {
   "cell_type": "code",
   "execution_count": 32,
   "metadata": {},
   "outputs": [
    {
     "name": "stdout",
     "output_type": "stream",
     "text": [
      "=============\n",
      "1 0 0 1 1 \n",
      "0 0 0 0 0 \n",
      "0 1 1 0 0 \n",
      "0 0 0 0 0 \n",
      "0 0 0 0 0 \n",
      "=== All Zero Row ===\n",
      "Row 1\n",
      "Row 3\n",
      "Row 4\n",
      "=== All Zero Column ===\n",
      "None\n"
     ]
    }
   ],
   "source": [
    "a = [[0 for i in range(5)] for j in range(5)]\n",
    "\n",
    "\n",
    "def checkRow(listA, num):\n",
    "    isZeroRow = True\n",
    "    for i in range(5):\n",
    "        if listA[num][i] != 0:\n",
    "            isZeroRow = False\n",
    "    if isZeroRow:\n",
    "        return num\n",
    "    else:\n",
    "        return -1\n",
    "\n",
    "\n",
    "def checkCol(listA, num):\n",
    "    isZeroCol = True\n",
    "    for i in range(5):\n",
    "        if listA[i][num] != 0:\n",
    "            isZeroCol = False\n",
    "    if isZeroCol:\n",
    "        return num\n",
    "    else:\n",
    "        return -1\n",
    "\n",
    "\n",
    "while True:\n",
    "    inxy = input(\"x,y:\")\n",
    "    if inxy == \"\":  # break if ENTER nothing\n",
    "        break\n",
    "    xy = inxy.split(\",\")  # split a string into a list with separator\n",
    "    x = int(xy[0])\n",
    "    y = int(xy[1])\n",
    "    a[x][y] = 1\n",
    "\n",
    "print(\"=============\")\n",
    "for i in range(5):\n",
    "    for j in range(5):\n",
    "        print(a[i][j], end=\" \")\n",
    "    print()\n",
    "\n",
    "print(\"=== All Zero Row ===\")\n",
    "zeroRows = 0\n",
    "for i in range(5):\n",
    "    ZeroRow = checkRow(a, i)\n",
    "    if ZeroRow != -1:\n",
    "        zeroRows += 1\n",
    "        print(f\"Row {i}\")\n",
    "if zeroRows == 0:\n",
    "    print(\"None\")\n",
    "\n",
    "print(\"=== All Zero Column ===\")\n",
    "zeroCols = 0\n",
    "for i in range(5):\n",
    "    ZeroCol = checkCol(a, i)\n",
    "    if ZeroCol != -1:\n",
    "        zeroCols += 1\n",
    "        print(f\"Column {i}\")\n",
    "if zeroCols == 0:\n",
    "    print(\"None\")"
   ]
  },
  {
   "cell_type": "markdown",
   "metadata": {},
   "source": [
    "## HW\n"
   ]
  },
  {
   "cell_type": "markdown",
   "metadata": {},
   "source": [
    "### [HW6-1]輸入 n 筆成績，印出成績表，並印出各科平均及最高分\n"
   ]
  },
  {
   "cell_type": "code",
   "execution_count": 41,
   "metadata": {},
   "outputs": [
    {
     "name": "stdout",
     "output_type": "stream",
     "text": [
      "===== No.1 =====\n",
      "===== No.2 =====\n",
      "===== No.3 =====\n",
      "===== No.4 =====\n",
      "\n",
      "====NO.===ENG====MATH====AVG====\n",
      "     1     60     55     58\n",
      "     2     90     80     85\n",
      "     3     90     60     75\n",
      "     4     40     80     60\n",
      "================================\n",
      "   MAX     90     80     85\n",
      "   AVG     70     69     70\n",
      "================================\n"
     ]
    }
   ],
   "source": [
    "classmates = int(input(\"請輸入班級人數=\"))\n",
    "\n",
    "g = []\n",
    "for i in range(classmates):\n",
    "    print(f\"===== No.{i+1} =====\")\n",
    "    eng_score = int(input(\"ENG:\"))\n",
    "    math_score = int(input(\"MATH:\"))\n",
    "    avg_score = round((eng_score + math_score) / 2)\n",
    "    a = [eng_score, math_score, avg_score]\n",
    "    g.append(a)\n",
    "\n",
    "print(\"\\n====NO.===ENG====MATH====AVG====\")\n",
    "max = [0, 0, 0]\n",
    "avg = [0, 0, 0]\n",
    "for i in range(len(g)):\n",
    "    print(f\"{i+1:>6}{g[i][0]:>7}{g[i][1]:>7}{g[i][2]:>7}\")\n",
    "    for j in range(len(g[i])):\n",
    "        avg[j] += g[i][j]\n",
    "        if g[i][j] >= max[j]:\n",
    "            max[j] = g[i][j]\n",
    "print(\"================================\")\n",
    "print(f\"   MAX{max[0]:>7}{max[1]:>7}{max[2]:>7}\")\n",
    "print(\n",
    "    f\"   AVG{(avg[0]/classmates):>7.0f}{(avg[1]/classmates)                                        :>7.0f}{(avg[2]/classmates):>7.0f}\"\n",
    ")\n",
    "print(\"================================\")"
   ]
  },
  {
   "cell_type": "markdown",
   "metadata": {},
   "source": [
    "### [HW6-2]帳密檢查：最多三次機會\n"
   ]
  },
  {
   "cell_type": "code",
   "execution_count": 52,
   "metadata": {},
   "outputs": [
    {
     "name": "stdout",
     "output_type": "stream",
     "text": [
      "================================\n",
      "------------------\n",
      "*** Sign-in failed.\n",
      "*** You have 2 more chance(s)!\n",
      "================================\n",
      "------------------\n",
      "*** Sign-in failed.\n",
      "*** You have 1 more chance(s)!\n",
      "================================\n",
      "------------------\n",
      "*** Sign-in failed.\n",
      "*** User login: failed 3 times\n"
     ]
    }
   ],
   "source": [
    "IDPW = [[\"i000\", \"p000\"], [\"i001\", \"p001\"], [\"i002\", \"p002\"]]\n",
    "\n",
    "\n",
    "failed = True\n",
    "for i in range(1, 4):\n",
    "    print(\"================================\")\n",
    "    id = input(\"ID=\")\n",
    "    passwd = input(\"PASSWORD=\")\n",
    "    for j in range(len(IDPW)):\n",
    "        if id == IDPW[j][0] and passwd == IDPW[j][1]:\n",
    "            failed = False\n",
    "            break\n",
    "    if failed:\n",
    "        print(\"------------------\")\n",
    "        print(\"*** Sign-in failed.\")\n",
    "        if i != 3:\n",
    "            print(f\"*** You have {3-i} more chance(s)!\")\n",
    "        else:\n",
    "            print(\"*** User login : failed 3 times\")\n",
    "    else:\n",
    "        break\n",
    "\n",
    "if not failed:\n",
    "    print(\"================================\")\n",
    "    print(f\"+++ {id} Logged in!\")\n",
    "    print(\"+++ Welcome!\")"
   ]
  },
  {
   "cell_type": "markdown",
   "metadata": {},
   "source": [
    "### [HW6-3]n×n 棋盤，檢查是否成一條線(直線 or 橫線)\n"
   ]
  },
  {
   "cell_type": "code",
   "execution_count": 13,
   "metadata": {},
   "outputs": [
    {
     "name": "stdout",
     "output_type": "stream",
     "text": [
      "=============\n",
      "=============\n",
      "0 0 0 \n",
      "1 1 1 \n",
      "0 0 0 \n",
      "=============\n",
      "*** YES\n"
     ]
    }
   ],
   "source": [
    "n = int(input(\"n=\"))\n",
    "\n",
    "\n",
    "def checkHasLine(listA):\n",
    "    for i in range(len(listA)):\n",
    "        isRowLine = 0\n",
    "        isColLine = 0\n",
    "        for j in range(len(listA[i])):\n",
    "            if listA[i][j] == 1:\n",
    "                isRowLine += 1\n",
    "            if listA[j][i] != 1:\n",
    "                isColLine += 1\n",
    "        if isRowLine == len(listA) or isColLine == len(listA):\n",
    "            break\n",
    "    if isRowLine == len(listA) or isColLine == len(listA):\n",
    "        return True\n",
    "    else:\n",
    "        return False\n",
    "\n",
    "\n",
    "if n >= 3:\n",
    "    a = [[0 for i in range(n)] for j in range(n)]\n",
    "\n",
    "    print(\"=============\")\n",
    "    i = 0\n",
    "    while i < n:\n",
    "        inxy = input(\"x,y:\")\n",
    "        xy = inxy.split(\",\")\n",
    "        x = int(xy[0])\n",
    "        y = int(xy[1])\n",
    "        if x < 1 or y < 1:\n",
    "            print(\"*** Error\")\n",
    "        elif x > n or y > n:\n",
    "            print(\"*** Error\")\n",
    "        else:\n",
    "            a[x - 1][y - 1] = 1\n",
    "            i += 1\n",
    "\n",
    "    print(\"=============\")\n",
    "    for i in range(n):\n",
    "        for j in range(n):\n",
    "            print(a[i][j], end=\" \")\n",
    "        print()\n",
    "    print(\"=============\")\n",
    "    itHasLine = checkHasLine(a)\n",
    "    if itHasLine:\n",
    "        print(\"*** YES\")\n",
    "    else:\n",
    "        print(\"*** NO\")"
   ]
  },
  {
   "cell_type": "markdown",
   "metadata": {},
   "source": [
    "# Unit 7\n"
   ]
  },
  {
   "cell_type": "markdown",
   "metadata": {},
   "source": [
    "## PT\n"
   ]
  },
  {
   "cell_type": "markdown",
   "metadata": {},
   "source": [
    "### [PT7-1] 輸入 n 筆成績，印出成績表，並印出各科平均及最高分。輸入座號，印出成績\n"
   ]
  },
  {
   "cell_type": "code",
   "execution_count": null,
   "metadata": {},
   "outputs": [],
   "source": [
    "classmates = int(input(\"請輸入班級人數=\"))\n",
    "\n",
    "g = []\n",
    "for i in range(classmates):\n",
    "    print(f\"===== No.{i+1} =====\")\n",
    "    eng_score = int(input(\"ENG:\"))\n",
    "    math_score = int(input(\"MATH:\"))\n",
    "    avg_score = round((eng_score + math_score) / 2)\n",
    "    a = [eng_score, math_score, avg_score]\n",
    "    g.append(a)\n",
    "\n",
    "print(\"\\n====NO.===ENG====MATH====AVG====\")\n",
    "max = [0, 0, 0]\n",
    "avg = [0, 0, 0]\n",
    "for i in range(len(g)):\n",
    "    print(f\"{i+1:>6}{g[i][0]:>7}{g[i][1]:>7}{g[i][2]:>7}\")\n",
    "    for j in range(len(g[i])):\n",
    "        avg[j] += g[i][j]\n",
    "        if g[i][j] >= max[j]:\n",
    "            max[j] = g[i][j]\n",
    "print(\"================================\")\n",
    "print(f\"   MAX{max[0]:>7}{max[1]:>7}{max[2]:>7}\")\n",
    "print(\n",
    "    f\"   AVG{(avg[0]/classmates):>7.0f}{(avg[1]/classmates):>7.0f}{(avg[2]/classmates):>7.0f}\"\n",
    ")\n",
    "print()\n",
    "\n",
    "print(\"=========== Search ==========\")\n",
    "while True:\n",
    "    classmate_number = int(input(\"*** Search(-1 for exit):\"))\n",
    "    if classmate_number == -1:\n",
    "        print(\"=== BYE ===\")\n",
    "        break\n",
    "    else:\n",
    "        scores = []\n",
    "        for i in range(len(g[classmate_number - 1])):\n",
    "            if g[classmate_number - 1][i] == max[i]:\n",
    "                scores.append(f\"[{g[classmate_number-1][i]}]\")\n",
    "            else:\n",
    "                scores.append(f\"({g[classmate_number-1][i]})\")\n",
    "        print(\n",
    "            f\"*** No.{classmate_number}: ENG{scores[0]\n",
    "                                             } MATH{scores[1]} AVG{scores[2]} \"\n",
    "        )\n",
    "        print(\"--------------------------\")"
   ]
  },
  {
   "cell_type": "markdown",
   "metadata": {},
   "source": [
    "### [PT7-2]輸入日期，印出星期幾？\n"
   ]
  },
  {
   "cell_type": "code",
   "execution_count": 17,
   "metadata": {},
   "outputs": [
    {
     "name": "stdout",
     "output_type": "stream",
     "text": [
      "======= Input Day =========\n",
      "===========================\n",
      "*** Tuesday\n",
      "*** 31\n"
     ]
    }
   ],
   "source": [
    "D = [31, 28, 31, 30, 31, 30, 31, 31, 30, 31, 30, 31]\n",
    "M = [\"JAN\", \"FEB\", \"MAR\", \"APR\", \"MAY\", \"JUN\", \"JUL\", \"AUG\", \"SEP\", \"OCT\", \"NOV\", \"DEC\"]\n",
    "W = [\"Monday\", \"Tuesday\", \"Wednesday\", \"Thursday\", \"Friday\", \"Saturday\", \"Sunday\"]\n",
    "\n",
    "\n",
    "def checkLeapYear(year):\n",
    "    isLeapYear = False\n",
    "\n",
    "    if year % 400 == 0:\n",
    "        isLeapYear = True\n",
    "    elif year % 4 == 0 and year % 100 != 0:\n",
    "        isLeapYear = True\n",
    "\n",
    "    return isLeapYear\n",
    "\n",
    "\n",
    "def checkDayWeek(y, m, d):\n",
    "    week = 6\n",
    "    days = -1\n",
    "    days += d\n",
    "\n",
    "    if year > 2000:\n",
    "        for i in range(y - 2000):\n",
    "            if checkLeapYear(y - i - 1):\n",
    "                days += 366\n",
    "            else:\n",
    "                days += 365\n",
    "\n",
    "    if m != 1:\n",
    "        if checkLeapYear(y) and m > 2:\n",
    "            days += 1\n",
    "\n",
    "        for i in range(m - 1):\n",
    "            days += D[i]\n",
    "\n",
    "    for i in range(days):\n",
    "        week += 1\n",
    "        if i == days - 1:\n",
    "            break\n",
    "        if week == 7:\n",
    "            week = 0\n",
    "\n",
    "    return week\n",
    "\n",
    "\n",
    "print(\"======= Input Day =========\")\n",
    "\n",
    "while True:\n",
    "    typeRight = False\n",
    "    year = int(input(\"Year:\"))\n",
    "    month = int(input(\"Month:\"))\n",
    "    day = int(input(\"Day:\"))\n",
    "\n",
    "    if checkLeapYear(year) and month == 2:\n",
    "        dayRangeMax = 29\n",
    "    else:\n",
    "        dayRangeMax = D[month - 1]\n",
    "    if month < 1 or month > 12:\n",
    "        print(\"***Error!   Month range:[1-12]\")\n",
    "        print(\"-----------------\")\n",
    "        continue\n",
    "    elif day > dayRangeMax or day < 1:\n",
    "        print(f\"*** Error!   {M[month-1]}'s day range:[1-{dayRangeMax}]\")\n",
    "        print(\"-----------------\")\n",
    "        continue\n",
    "    else:\n",
    "        typeRight = True\n",
    "\n",
    "    if typeRight:\n",
    "        print(\"===========================\")\n",
    "        print(f\"*** {W[checkDayWeek(year, month, day) - 1]}\")\n",
    "        break"
   ]
  },
  {
   "cell_type": "markdown",
   "metadata": {},
   "source": [
    "### [PT7-3]連續抽撲克牌(抽出再放回)，顯示各花色次數，直到出現四種花色都出現為止，最後分別印出四種花色的最大牌\n"
   ]
  },
  {
   "cell_type": "code",
   "execution_count": 33,
   "metadata": {},
   "outputs": [
    {
     "name": "stdout",
     "output_type": "stream",
     "text": [
      "---------------------------\n",
      "Poker 1: Heart 10 \n",
      "POKER:H(1) \n",
      "---------------------------\n",
      "Poker 2: Diamond 2 \n",
      "POKER:H(1) D(1) \n",
      "---------------------------\n",
      "Poker 3: Heart 5 \n",
      "POKER:H(2) D(1) \n",
      "---------------------------\n",
      "Poker 4: Club 13 \n",
      "POKER:H(2) D(1) C(1) \n",
      "---------------------------\n",
      "Poker 5: Diamond 4 \n",
      "POKER:H(2) D(2) C(1) \n",
      "---------------------------\n",
      "Poker 6: Club 13 \n",
      "POKER:H(2) D(2) C(2) \n",
      "---------------------------\n",
      "Poker 7: Diamond 5 \n",
      "POKER:H(2) D(3) C(2) \n",
      "---------------------------\n",
      "Poker 8: Heart 4 \n",
      "POKER:H(3) D(3) C(2) \n",
      "---------------------------\n",
      "Poker 9: Diamond 8 \n",
      "POKER:H(3) D(4) C(2) \n",
      "---------------------------\n",
      "Poker 10: Spade 13 \n",
      "POKER:S(1) H(3) D(4) C(2) \n",
      "===========================\n",
      "Got All After Poker 10\n",
      "*** Spade: 13\n",
      "*** Heart: 10\n",
      "*** Diamond: 8\n",
      "*** Club: 13\n"
     ]
    }
   ],
   "source": [
    "import random\n",
    "\n",
    "\n",
    "pokers = [\n",
    "    [\"Spade\", \"S\", 0, 0],\n",
    "    [\"Heart\", \"H\", 0, 0],\n",
    "    [\"Diamond\", \"D\", 0, 0],\n",
    "    [\"Club\", \"C\", 0, 0],\n",
    "]\n",
    "\n",
    "\n",
    "def check(checkList):\n",
    "    hasAllColor = False\n",
    "    lists = [1, 1, 1, 1]\n",
    "    countColors = 0\n",
    "    for i in range(4):\n",
    "        if checkList[i][3] >= lists[i]:\n",
    "            countColors += 1\n",
    "    if countColors == 4:\n",
    "        hasAllColor = True\n",
    "    return hasAllColor\n",
    "\n",
    "\n",
    "def showHasPokers(lists):\n",
    "    print(\"POKER:\", end=\"\")\n",
    "    for i in range(len(lists)):\n",
    "        if lists[i][3] >= 1:\n",
    "            print(f\"{lists[i][1]}({lists[i][3]})\", end=\" \")\n",
    "    print()\n",
    "\n",
    "\n",
    "count = 0\n",
    "print(\"---------------------------\")\n",
    "while True:\n",
    "    num = random.randint(1, 13)\n",
    "    color = random.randint(0, 3)\n",
    "    count += 1\n",
    "    print(f\"Poker {count}: {pokers[color][0]} {num} \")\n",
    "    pokers[color][3] += 1\n",
    "    showHasPokers(pokers)\n",
    "    if num >= pokers[color][2]:\n",
    "        pokers[color][2] = num\n",
    "    if check(pokers):\n",
    "        break\n",
    "    else:\n",
    "        print(\"---------------------------\")\n",
    "\n",
    "\n",
    "print(\"===========================\")\n",
    "print(f\"Got All After Poker {count}\")\n",
    "for i in range(4):\n",
    "    print(f\"*** {pokers[i][0]}: {pokers[i][2]}\")"
   ]
  },
  {
   "cell_type": "markdown",
   "metadata": {},
   "source": [
    "# 期中考\n"
   ]
  },
  {
   "cell_type": "markdown",
   "metadata": {},
   "source": [
    "## MP\n"
   ]
  },
  {
   "cell_type": "markdown",
   "metadata": {},
   "source": [
    "### [MP-1]停車費計算\n"
   ]
  },
  {
   "cell_type": "code",
   "execution_count": null,
   "metadata": {},
   "outputs": [],
   "source": [
    "print(\"======== Parking Fee System ========\")\n",
    "begin = input(\"Begin=\")\n",
    "end = input(\"End=\")\n",
    "Begin_H = int(begin.split(\":\")[0])\n",
    "Begin_M = int(begin.split(\":\")[1])\n",
    "End_H = int(end.split(\":\")[0])\n",
    "End_M = int(end.split(\":\")[1])\n",
    "print(\"====================================\")\n",
    "\n",
    "\n",
    "def timeCount(Begin_H, Begin_M, End_H, End_M):\n",
    "    interval = 0\n",
    "    begin_mins = Begin_H * 60 + Begin_M\n",
    "    end_mins = End_H * 60 + End_M\n",
    "    interval = end_mins - begin_mins\n",
    "    return interval\n",
    "\n",
    "\n",
    "def timeChange(mins):\n",
    "    times = \"\"\n",
    "    H = int(mins / 60)\n",
    "    M = int(mins % 60)\n",
    "    times = str(H) + \"H\" + \" \" + str(M) + \"M\"\n",
    "    return times\n",
    "\n",
    "\n",
    "def feeCount(mins):\n",
    "    total = 0\n",
    "    if mins < 30:\n",
    "        pass\n",
    "    elif mins > 120 and mins < 240:\n",
    "        extra = int((mins - 120) / 30) * 20\n",
    "        if ((mins - 120) % 30) > 0:\n",
    "            total += 20\n",
    "        feeSlice = 40\n",
    "        total += extra + feeSlice\n",
    "    elif mins > 240:\n",
    "        extra = int((mins - 240) / 30) * 30\n",
    "        if ((mins - 240) % 30) > 0:\n",
    "            total += 30\n",
    "        feeSlice = 120\n",
    "        total += extra + feeSlice\n",
    "    else:\n",
    "        feeSlice = int(mins / 30) * 10\n",
    "        if (mins % 30) > 0:\n",
    "            total += 10\n",
    "        total += feeSlice\n",
    "    return total\n",
    "\n",
    "\n",
    "mins = timeCount(Begin_H, Begin_M, End_H, End_M)\n",
    "times = timeChange(mins)\n",
    "price = feeCount(mins)\n",
    "if mins > 0:\n",
    "    print(f\"*** Interval:{mins} mins ({times})\")\n",
    "    print(f\"*** Parking Fee:{price}\")\n",
    "    if price > 1000:\n",
    "        print(\"*** Discount Fee:1000\")"
   ]
  },
  {
   "cell_type": "markdown",
   "metadata": {},
   "source": [
    "### [MP-2]成績計算\n"
   ]
  },
  {
   "cell_type": "code",
   "execution_count": 9,
   "metadata": {},
   "outputs": [
    {
     "name": "stdout",
     "output_type": "stream",
     "text": [
      "\n",
      "====NO.===ENG====MATH====AVG====\n",
      "     1     30     80     55\n",
      "     2     70     80     75\n",
      "     3     30     60     45\n",
      "     4     80     70     75\n",
      "     5     60     30     45\n",
      "================================\n",
      "\n",
      "====NO.===ENG====MATH====AVG====\n",
      "     1     30     80     55\n",
      "     2     70     80     75\n",
      "     3     30     60     45\n",
      "     4     80     70     75\n",
      "     5     60     30     45\n",
      "================================\n",
      "   MIN     30     30     45\n",
      "\n",
      "[45, 45, 55, 75, 75]\n",
      "[[1, '(75)'], [2, '(75)'], [3, '(55)'], [4, '[45]'], [5, '[45]']]\n",
      "=========== Search ==========\n"
     ]
    }
   ],
   "source": [
    "g = [[30, 80], [70, 80], [30, 60], [80, 70], [60, 30]]\n",
    "mins = [100, 100, 100]\n",
    "avg = [0, 0, 0]\n",
    "\n",
    "\n",
    "for i in range(len(g)):\n",
    "    avg_score = round((g[i][0] + g[i][1]) / 2)\n",
    "    g[i].append(avg_score)\n",
    "\n",
    "\n",
    "def printScore():\n",
    "    print(\"\\n====NO.===ENG====MATH====AVG====\")\n",
    "    for i in range(len(g)):\n",
    "        print(f\"{i+1:>6}{g[i][0]:>7}{g[i][1]:>7}{g[i][2]:>7}\")\n",
    "    print(\"================================\")\n",
    "\n",
    "\n",
    "printScore()\n",
    "\n",
    "# classmates = int(input(\"請輸入新增人數=\"))\n",
    "# for i in range(classmates):\n",
    "#     print(f\"===== No.{i+4} =====\")\n",
    "#     eng_score = int(input(\"ENG:\"))\n",
    "#     math_score = int(input(\"MATH:\"))\n",
    "#     avg_score = round((eng_score + math_score) / 2)\n",
    "#     a = [eng_score, math_score, avg_score]\n",
    "#     g.append(a)\n",
    "\n",
    "\n",
    "printScore()\n",
    "\n",
    "for i in range(len(g)):\n",
    "    for j in range(len(g[i])):\n",
    "        avg[j] += g[i][j]\n",
    "        if g[i][j] <= mins[j]:\n",
    "            mins[j] = g[i][j]\n",
    "\n",
    "print(f\"   MIN{mins[0]:>7}{mins[1]:>7}{mins[2]:>7}\")\n",
    "# print(\n",
    "#     f\"   AVG{(avg[0]/(classmates+3)):>7.0f}{(avg[1]/(classmates+3)):>7.0f}{(avg[2]/(classmates+3)):>7.0f}\"\n",
    "# )\n",
    "print()\n",
    "\n",
    "\n",
    "ranks = []\n",
    "scores = []\n",
    "\n",
    "\n",
    "for i in range(len(g)):\n",
    "    scores.append(g[i][2])\n",
    "scores.sort()\n",
    "\n",
    "for i in range((len(scores) - 1), -1, -1):\n",
    "    avg_rank = len(scores) - i\n",
    "    if i == len(scores) - 1:\n",
    "        if scores[i] == mins[2]:\n",
    "            ranks.append([avg_rank, f\"[{scores[i]}]\"])\n",
    "        else:\n",
    "            ranks.append([avg_rank, f\"({scores[i]})\"])\n",
    "    else:\n",
    "        if scores[i] == mins[2]:\n",
    "            ranks.append([avg_rank, f\"[{scores[i]}]\"])\n",
    "        else:\n",
    "            ranks.append([avg_rank, f\"({scores[i]})\"])\n",
    "\n",
    "print(scores)\n",
    "print(ranks)\n",
    "\n",
    "\n",
    "print(\"=========== Search ==========\")\n",
    "\n",
    "# while True:\n",
    "#     classmate_number = int(input(\"*** Search(-1 for exit):\"))\n",
    "#     if classmate_number == -1:\n",
    "#         print(\"=== BYE ===\")\n",
    "#         break\n",
    "#     elif classmate_number > len(g):\n",
    "#         print(\"*** No. not exists!\")\n",
    "#     else:\n",
    "#         print(f\"*** No.{classmate_number}: AVG{ranks[0]} RANK{ranks[1]}\")\n",
    "#         print(\"--------------------------\")"
   ]
  },
  {
   "cell_type": "markdown",
   "metadata": {},
   "source": [
    "### [MP-3] 輸入兩日期(年月日)，印出相距幾天\n"
   ]
  },
  {
   "cell_type": "code",
   "execution_count": null,
   "metadata": {},
   "outputs": [],
   "source": [
    "D = [31, 28, 31, 30, 31, 30, 31, 31, 30, 31, 30, 31]\n",
    "M = [\"JAN\", \"FEB\", \"MAR\", \"APR\", \"MAY\", \"JUN\",\n",
    "     \"JUL\", \"AUG\", \"SEP\", \"OCT\", \"NOV\", \"DEC\"]\n",
    "\n",
    "\n",
    "def checkLeapYear(year):\n",
    "    isLeapYear = False\n",
    "\n",
    "    if year % 400 == 0:\n",
    "        isLeapYear = True\n",
    "    elif year % 4 == 0 and year % 100 != 0:\n",
    "        isLeapYear = True\n",
    "\n",
    "    return isLeapYear\n",
    "\n",
    "\n",
    "def countDays(y, m, d):\n",
    "    days = -1\n",
    "    days += d\n",
    "\n",
    "    for i in range(y):\n",
    "        if checkLeapYear(y - i - 1):\n",
    "            days += 366\n",
    "        else:\n",
    "            days += 365\n",
    "\n",
    "    if m != 1:\n",
    "        if checkLeapYear(y) and m > 2:\n",
    "            days += 1\n",
    "\n",
    "        for i in range(m - 1):\n",
    "            days += D[i]\n",
    "\n",
    "    return days\n",
    "\n",
    "\n",
    "i = 0\n",
    "months = []\n",
    "days = []\n",
    "years = []\n",
    "\n",
    "display_once = True\n",
    "\n",
    "while i < 2:\n",
    "    if display_once:\n",
    "        print(\"=======================================\")\n",
    "        display_once = False\n",
    "    dates = input(f\"Day{i+1}:\")\n",
    "    year = int(dates.split(\"/\")[0])\n",
    "    month = int(dates.split(\"/\")[1])\n",
    "    day = int(dates.split(\"/\")[2])\n",
    "    if checkLeapYear(year) and month == 2:\n",
    "        dayRangeMax = 29\n",
    "    else:\n",
    "        if month < 13 and month > 0:\n",
    "            dayRangeMax = D[month - 1]\n",
    "    if month < 1 or month > 12:\n",
    "        print(\"*** Error!   Month range:[1-12]\")\n",
    "        print(\"-----------------\")\n",
    "        continue\n",
    "    elif day > dayRangeMax or day < 1:\n",
    "        if dayRangeMax == 29:\n",
    "            print(f\"*** Error!   Leap Year FEB's day range:[1-29]\")\n",
    "        else:\n",
    "            print(f\"*** Error!   {M[month-1]}'s day range:[1-{dayRangeMax}]\")\n",
    "        print(\"-----------------\")\n",
    "        continue\n",
    "    else:\n",
    "        years.append(year)\n",
    "        months.append(month)\n",
    "        days.append(day)\n",
    "        i += 1\n",
    "        display_once = True\n",
    "\n",
    "\n",
    "def swapDate():\n",
    "    years[0], years[1] = years[1], years[0]\n",
    "    months[0], months[1] = months[1], months[0]\n",
    "    days[0], days[1] = days[1], days[0]\n",
    "\n",
    "\n",
    "daysDifference = countDays(years[1], months[1], days[1]) - countDays(\n",
    "    years[0], months[0], days[0]\n",
    ")\n",
    "\n",
    "if daysDifference < 0:\n",
    "    daysDifference *= -1\n",
    "    swapDate()\n",
    "\n",
    "print(\"=======================================\")\n",
    "print(\n",
    "    f\"*** From {years[0]}/{months[0]}/{days[0]} to {years[1]\n",
    "                                                    }/{months[1]}/{days[1]}: {daysDifference} day(s)\"\n",
    ")"
   ]
  },
  {
   "cell_type": "markdown",
   "metadata": {},
   "source": [
    "### [MP-4]帳密檢查：帳號正確，才能輸入密碼。帳號、密碼各有三次輸入機會\n"
   ]
  },
  {
   "cell_type": "code",
   "execution_count": null,
   "metadata": {},
   "outputs": [],
   "source": [
    "IDPW = [[\"i000\", \"p000\"], [\"i001\", \"p001\"], [\"i002\", \"p002\"]]\n",
    "\n",
    "\n",
    "failed_account = True\n",
    "failed_password = True\n",
    "i = 1\n",
    "while i <= 3:\n",
    "    print(\"================================\")\n",
    "    id = input(\"ID=\")\n",
    "    for j in range(len(IDPW)):\n",
    "        if id == IDPW[j][0]:\n",
    "            failed_account = False\n",
    "            break\n",
    "    if failed_account:\n",
    "        print(\"================================\")\n",
    "        print(\"*** ERROR: Wrong ID!\")\n",
    "        if i != 3:\n",
    "            print(f\"*** You have {3-i} more chance(s)!\")\n",
    "            i += 1\n",
    "        else:\n",
    "            print(\"*** ID: failed 3 times\")\n",
    "            i += 1\n",
    "        pass\n",
    "    else:\n",
    "        break\n",
    "if not failed_account:\n",
    "    print(f\"+++ Hi, {id}. Please enter your password!\")\n",
    "    i = 1\n",
    "    while i <= 3:\n",
    "        print(\"---------------------\")\n",
    "        passwd = input(\"Password=\")\n",
    "        for k in range(len(IDPW)):\n",
    "            if id == IDPW[k][0] and passwd == IDPW[k][1]:\n",
    "                failed_password = False\n",
    "                break\n",
    "        if failed_password:\n",
    "            print(\"---------------------\")\n",
    "            print(\"*** ERROR: Wrong Password!\")\n",
    "            if i != 3:\n",
    "                print(f\"*** You have {3-i} more chance(s)!\")\n",
    "                i += 1\n",
    "            else:\n",
    "                print(\"*** PASSWORD: failed 3 times\")\n",
    "                i += 1\n",
    "        else:\n",
    "            break\n",
    "\n",
    "if not failed_account and not failed_password:\n",
    "    print(\"================================\")\n",
    "    print(f\"+++ {id} Logged in!\")\n",
    "    print(\"+++ Welcome!\")"
   ]
  },
  {
   "cell_type": "markdown",
   "metadata": {},
   "source": [
    "### [MP5]n×n 棋盤，檢查有幾條線(直線、橫線 or 斜線)\n"
   ]
  },
  {
   "cell_type": "code",
   "execution_count": 6,
   "metadata": {},
   "outputs": [
    {
     "name": "stdout",
     "output_type": "stream",
     "text": [
      "=============\n",
      "*** Error\n",
      "=============\n",
      "1 0 1 0 \n",
      "0 1 1 0 \n",
      "0 0 1 0 \n",
      "0 0 1 1 \n",
      "=============\n",
      "*** 2 line(s)\n"
     ]
    }
   ],
   "source": [
    "n = int(input(\"n=\"))\n",
    "\n",
    "\n",
    "def hasLines(listA):\n",
    "    rowLines = 0\n",
    "    colLines = 0\n",
    "    crossLines = 0\n",
    "    for i in range(len(listA)):\n",
    "        isRowLine = 0\n",
    "        isColLine = 0\n",
    "        for j in range(len(listA[i])):\n",
    "            if listA[i][j] == 1:\n",
    "                isColLine += 1\n",
    "            if listA[j][i] == 1:\n",
    "                isRowLine += 1\n",
    "        if isRowLine == len(listA[i]):\n",
    "            rowLines += 1\n",
    "        if isColLine == len(listA):\n",
    "            colLines += 1\n",
    "    isCrossLine1 = 0\n",
    "    isCrossLine2 = 0\n",
    "    for j in range(len(listA)):\n",
    "        if listA[j][j] == 1:\n",
    "            isCrossLine1 += 1\n",
    "        if listA[j][len(listA) - 1 - j] == 1:\n",
    "            isCrossLine2 += 1\n",
    "    if isCrossLine1 == len(listA):\n",
    "        crossLines += 1\n",
    "    if isCrossLine2 == len(listA):\n",
    "        crossLines += 1\n",
    "\n",
    "    return rowLines + colLines + crossLines\n",
    "\n",
    "\n",
    "if n >= 3:\n",
    "    a = [[0 for i in range(n)] for j in range(n)]\n",
    "\n",
    "    print(\"=============\")\n",
    "    count = 1\n",
    "    while True:\n",
    "        inxy = input(f\"({count})x,y:\")\n",
    "        if inxy == \"\":\n",
    "            break\n",
    "        else:\n",
    "            xy = inxy.split(\",\")\n",
    "            x = int(xy[0])\n",
    "            y = int(xy[1])\n",
    "            if x < 1 or y < 1:\n",
    "                print(\"*** Error\")\n",
    "            elif x > n or y > n:\n",
    "                print(\"*** Error\")\n",
    "            elif a[x - 1][y - 1] == 1:\n",
    "                print(\"*** Error\")\n",
    "            else:\n",
    "                a[x - 1][y - 1] = 1\n",
    "                count += 1\n",
    "\n",
    "    print(\"=============\")\n",
    "    for i in range(n):\n",
    "        for j in range(n):\n",
    "            print(a[i][j], end=\" \")\n",
    "        print()\n",
    "    print(\"=============\")\n",
    "    lines = hasLines(a)\n",
    "    print(f\"*** {lines} line(s)\")"
   ]
  },
  {
   "cell_type": "markdown",
   "metadata": {},
   "source": [
    "# Unit 8\n"
   ]
  },
  {
   "cell_type": "markdown",
   "metadata": {},
   "source": [
    "## EX\n"
   ]
  },
  {
   "cell_type": "markdown",
   "metadata": {},
   "source": [
    "### [EX8-0]upper()\n"
   ]
  },
  {
   "cell_type": "code",
   "execution_count": 1,
   "metadata": {},
   "outputs": [
    {
     "name": "stdout",
     "output_type": "stream",
     "text": [
      "-----------------------\n",
      "june\n",
      "-----------------------\n",
      "JUNE\n"
     ]
    }
   ],
   "source": [
    "month = input(\"Month: \")\n",
    "print(\"-----------------------\")\n",
    "month.upper()\n",
    "print(month)\n",
    "print(\"-----------------------\")\n",
    "month = month.upper()\n",
    "print(month)"
   ]
  },
  {
   "cell_type": "markdown",
   "metadata": {},
   "source": [
    "### [EX8-1]dict_keys, dict_values, dict_items\n"
   ]
  },
  {
   "cell_type": "code",
   "execution_count": 3,
   "metadata": {},
   "outputs": [
    {
     "name": "stdout",
     "output_type": "stream",
     "text": [
      "=========  dict  ===============\n",
      "<class 'dict'>\n",
      "{' Lin': 7, 'James': 23, 'Irving': 11}\n",
      "\n",
      "=========  dict_keys  ===============\n",
      "<class 'dict_keys'>\n",
      "dict_keys([' Lin', 'James', 'Irving'])\n",
      "\n",
      "=========  dict_values  ===============\n",
      "<class 'dict_values'>\n",
      "dict_values([7, 23, 11])\n",
      "\n",
      "=========  dict_items  ===============\n",
      "<class 'dict_items'>\n",
      "dict_items([(' Lin', 7), ('James', 23), ('Irving', 11)])\n",
      "\n",
      "=========  unsorted  ===============\n",
      "***  Lin: 7\n",
      "*** James: 23\n",
      "*** Irving: 11\n",
      "\n",
      "***  Lin: 7\n",
      "*** James: 23\n",
      "*** Irving: 11\n",
      "\n",
      "=========  sorted by key  ===============\n",
      "<class 'list'>\n",
      "[' Lin', 'James', 'Irving']\n",
      "[' Lin', 'Irving', 'James']\n",
      "+++  Lin: 7\n",
      "+++ Irving: 11\n",
      "+++ James: 23\n",
      "\n",
      "----------  sorted by key  ----------\n",
      " Lin 7\n",
      "Irving 11\n",
      "James 23\n",
      "\n",
      "----------  sorted by value  ----------\n",
      " Lin 7\n",
      "Irving 11\n",
      "James 23\n",
      "\n",
      "----------  items  ----------\n",
      "<class 'list'>\n",
      "[(' Lin', 7), ('James', 23), ('Irving', 11)]\n",
      "\n",
      "----------  sorted by item(tupple)  ----------\n",
      "[(' Lin', 7), ('Irving', 11), ('James', 23)]\n",
      " Lin 7\n",
      "Irving 11\n",
      "James 23\n",
      "\n",
      "+++++++++++++++  Final  ++++++++++++++++++\n",
      "{' Lin': 7, 'James': 23, 'Irving': 11}\n"
     ]
    }
   ],
   "source": [
    "C = {\" Lin\": 7, \"James\": 23, \"Irving\": 11}\n",
    "print(\"=========  dict  ===============\")\n",
    "print(type(C))\n",
    "print(C)\n",
    "\n",
    "print(\"\\n=========  dict_keys  ===============\")\n",
    "print(type(C.keys()))\n",
    "print(C.keys())\n",
    "\n",
    "print(\"\\n=========  dict_values  ===============\")\n",
    "print(type(C.values()))\n",
    "print(C.values())\n",
    "\n",
    "print(\"\\n=========  dict_items  ===============\")\n",
    "print(type(C.items()))\n",
    "print(C.items())\n",
    "\n",
    "print(\"\\n=========  unsorted  ===============\")\n",
    "for k in C.keys():\n",
    "    print(\"*** %s: %d\" % (k, C[k]))\n",
    "print()\n",
    "\n",
    "for k, v in C.items():\n",
    "    print(\"*** %s: %d\" % (k, v))\n",
    "\n",
    "print(\"\\n=========  sorted by key  ===============\")\n",
    "keyslist = list(C.keys())  # convert to list\n",
    "print(type(keyslist))\n",
    "print(keyslist)\n",
    "keyslist.sort()\n",
    "print(keyslist)\n",
    "for k in keyslist:\n",
    "    print(\"+++ %s: %d\" % (k, C[k]))\n",
    "print(\"\\n----------  sorted by key  ----------\")\n",
    "for k in sorted(C):  # sorted by key\n",
    "    print(k, C[k])\n",
    "\n",
    "print(\"\\n----------  sorted by value  ----------\")\n",
    "# get( returns the value of that key\n",
    "for k in sorted(C, key=C.get):  # sorted by value\n",
    "    print(k, C[k])\n",
    "\n",
    "print(\"\\n----------  items  ----------\")\n",
    "itemslist = list(C.items())\n",
    "print(type(itemslist))\n",
    "print(itemslist)\n",
    "\n",
    "print(\"\\n----------  sorted by item(tupple)  ----------\")\n",
    "itemslist.sort()\n",
    "print(itemslist)\n",
    "\n",
    "for k, v in itemslist:\n",
    "    print(\"%s %d\" % (k, v))\n",
    "\n",
    "print(\"\\n+++++++++++++++  Final  ++++++++++++++++++\")\n",
    "print(C)"
   ]
  },
  {
   "cell_type": "markdown",
   "metadata": {},
   "source": [
    "### [EX8-2]Dictionary sorting function\n"
   ]
  },
  {
   "cell_type": "code",
   "execution_count": 4,
   "metadata": {},
   "outputs": [
    {
     "name": "stdout",
     "output_type": "stream",
     "text": [
      "===== dict.get(key) =====\n",
      "3\n",
      "\n",
      "===== sorted by key =====\n",
      "['aa', 'bb', 'cc', 'dd', 'ee']\n",
      "\n",
      "===== sorted by value =====\n",
      "['dd', 'cc', 'ee', 'aa', 'bb']\n",
      "\n",
      "----- sorted by key -----\n",
      "*** aa: 3\n",
      "*** bb: 4\n",
      "*** cc: 2\n",
      "*** dd: 1\n",
      "*** ee: 3\n",
      "\n",
      "----- sorted by value -----\n",
      "*** dd: 1.\n",
      "*** cc: 2.\n",
      "*** ee: 3.\n",
      "*** aa: 3.\n",
      "*** bb: 4.\n"
     ]
    }
   ],
   "source": [
    "ARR = {\"ee\": 3, \"cc\": 2, \"aa\": 3, \"bb\": 4, \"dd\": 1}\n",
    "\n",
    "print(\"===== dict.get(key) =====\")\n",
    "print(ARR.get(\"aa\"))  # returns the value of that key\n",
    "\n",
    "print(\"\\n===== sorted by key =====\")\n",
    "listd = sorted(ARR)  # return a list of sorted keys\n",
    "print(listd)\n",
    "\n",
    "print(\"\\n===== sorted by value =====\")\n",
    "listd = sorted(ARR, key=ARR.get)  # return a list of keys sorted by value\n",
    "print(listd)\n",
    "\n",
    "print(\"\\n----- sorted by key -----\")\n",
    "for k in sorted(ARR):\n",
    "    print(\"*** %s: %d\" % (k, ARR[k]))\n",
    "\n",
    "print(\"\\n----- sorted by value -----\")\n",
    "for k in sorted(ARR, key=ARR.get):\n",
    "    print(\"*** %s: %d.\" % (k, ARR[k]))"
   ]
  },
  {
   "cell_type": "markdown",
   "metadata": {},
   "source": [
    "### [EX8-3]Empty Dictionary, add new element\n"
   ]
  },
  {
   "cell_type": "code",
   "execution_count": 5,
   "metadata": {},
   "outputs": [
    {
     "name": "stdout",
     "output_type": "stream",
     "text": [
      "===== original dictionary ======\n",
      "{' john': 50, 'jack': 70, 'Bell': 80, 'john': 70}\n",
      "\n",
      "===== update  value ======\n",
      "{' john': 50, 'jack': 70, 'Bell': 80, 'john': 100}\n",
      "\n",
      "===== append new item ======\n",
      "{' john': 50, 'jack': 70, 'Bell': 80, 'john': 100, 'jac': 100}\n",
      "\n",
      "===== empty dictionary ======\n",
      "{}\n",
      "\n",
      "===== append new items ======\n",
      "{'Spring': 100}\n",
      "{'Spring': 100, 'Summer': 90}\n",
      "2\n",
      "\n",
      "===== append another item ======\n",
      "Spring exists!\n",
      "{'Spring': 555, 'Summer': 90, 'Fall': 50}\n",
      "3\n"
     ]
    }
   ],
   "source": [
    "# key不能重複\n",
    "print(\"===== original dictionary ======\")\n",
    "a = {\" john\": 50, \"jack\": 70, \"Bell\": 80, \"john\": 70}\n",
    "print(a)\n",
    "\n",
    "print(\"\\n===== update  value ======\")\n",
    "a[\"john\"] = 100\n",
    "print(a)\n",
    "\n",
    "print(\"\\n===== append new item ======\")\n",
    "a[\"jac\"] = 100\n",
    "print(a)\n",
    "\n",
    "print(\"\\n===== empty dictionary ======\")\n",
    "C = {}\n",
    "print(C)\n",
    "\n",
    "print(\"\\n===== append new items ======\")\n",
    "C[\"Spring\"] = 100\n",
    "print(C)\n",
    "\n",
    "C[\"Summer\"] = 90\n",
    "print(C)\n",
    "print(len(C))  # number of elements in the Dictionary\n",
    "\n",
    "print(\"\\n===== append another item ======\")\n",
    "if \"Spring\" in C:\n",
    "    print(\"Spring exists!\")\n",
    "    C[\"Spring\"] = 555\n",
    "else:\n",
    "    C[\"Spring\"] = 50\n",
    "\n",
    "if \"Fall\" in C:\n",
    "    print(\"Fall exists!\")\n",
    "else:\n",
    "    C[\"Fall\"] = 50\n",
    "\n",
    "print(C)\n",
    "print(len(C))"
   ]
  },
  {
   "cell_type": "markdown",
   "metadata": {},
   "source": [
    "### [EX8-4]startswith(), lower()\n"
   ]
  },
  {
   "cell_type": "code",
   "execution_count": 1,
   "metadata": {},
   "outputs": [
    {
     "name": "stdout",
     "output_type": "stream",
     "text": [
      "s = JO\n",
      "NO! 'john' doesn't start with 'JO'\n",
      "======================================\n",
      "s = jo\n",
      "YES! john' starts with 'jo'\n"
     ]
    }
   ],
   "source": [
    "# startswith(), lower()\n",
    "target = \"john\"\n",
    "s = \"JO\"\n",
    "print(\"s =\", s)\n",
    "if target.startswith(s):\n",
    "    print(\"YES! ' %s' starts with '%s'\" % (target, s))\n",
    "else:\n",
    "    print(\"NO! '%s' doesn't start with '%s'\" % (target, s))\n",
    "print(\"======================================\")\n",
    "s = s.lower()\n",
    "print(\"s =\", s)\n",
    "if target.startswith(s):\n",
    "    print(\"YES! %s' starts with '%s'\" % (target, s))\n",
    "else:\n",
    "    print(\"NO! '%s' doesn't  start with '%s'\" % (target, s))"
   ]
  },
  {
   "cell_type": "markdown",
   "metadata": {},
   "source": [
    "## PT\n"
   ]
  },
  {
   "cell_type": "markdown",
   "metadata": {},
   "source": [
    "### [PT8-1] 帳密檢查：最多三次機會。使用字典(Dictionary)\n"
   ]
  },
  {
   "cell_type": "code",
   "execution_count": 8,
   "metadata": {},
   "outputs": [
    {
     "name": "stdout",
     "output_type": "stream",
     "text": [
      "================================\n",
      "------------------\n",
      "*** Sign-in failed.\n",
      "*** You have 2 more chance(s)!\n",
      "================================\n",
      "================================\n",
      "+++ i001 Logged in!\n",
      "+++ Welcome!\n"
     ]
    }
   ],
   "source": [
    "IDPW = {\"i000\": \"p000\", \"i001\": \"p001\", \"i002\": \"p002\"}\n",
    "\n",
    "\n",
    "failed = True\n",
    "for i in range(1, 4):\n",
    "    print(\"================================\")\n",
    "    id = input(\"ID=\")\n",
    "    passwd = input(\"PASSWORD=\")\n",
    "    for j in IDPW:\n",
    "        if id == j and passwd == IDPW[j]:\n",
    "            failed = False\n",
    "            break\n",
    "    if failed:\n",
    "        print(\"------------------\")\n",
    "        print(\"*** Sign-in failed.\")\n",
    "        if i != 3:\n",
    "            print(f\"*** You have {3-i} more chance(s)!\")\n",
    "        else:\n",
    "            print(\"*** User login : failed 3 times\")\n",
    "            print(\"*** Bye!\")\n",
    "    else:\n",
    "        break\n",
    "\n",
    "if not failed:\n",
    "    print(\"================================\")\n",
    "    print(f\"+++ {id} Logged in!\")\n",
    "    print(\"+++ Welcome!\")"
   ]
  },
  {
   "cell_type": "markdown",
   "metadata": {},
   "source": [
    "### [PT8-2]MonthDays：輸入英文縮寫之月份，印出全名，並印出該月有幾天\n"
   ]
  },
  {
   "cell_type": "code",
   "execution_count": 5,
   "metadata": {},
   "outputs": [
    {
     "name": "stdout",
     "output_type": "stream",
     "text": [
      "------------------------\n",
      "========================\n",
      "*** Incorrect abbreviation!\n",
      "*** End Of Input!\n",
      "========================\n",
      "*** No correct abbreviation!\n"
     ]
    }
   ],
   "source": [
    "M = {\n",
    "    \"JAN\": \"January\",\n",
    "    \"FEB\": \"February\",\n",
    "    \"MAR\": \"March\",\n",
    "    \"APR\": \"April\",\n",
    "    \"MAY\": \"May\",\n",
    "    \"JUN\": \"June\",\n",
    "    \"JUL\": \"July\",\n",
    "    \"AUG\": \"August\",\n",
    "    \"SEP\": \"September\",\n",
    "    \"OCT\": \"October\",\n",
    "    \"NOV\": \"November\",\n",
    "    \"DEC\": \"December\",\n",
    "}\n",
    "D = {\n",
    "    \"JAN\": 31,\n",
    "    \"FEB\": 28,\n",
    "    \"MAR\": 31,\n",
    "    \"APR\": 30,\n",
    "    \"MAY\": 31,\n",
    "    \"JUN\": 30,\n",
    "    \"JUL\": 31,\n",
    "    \"AUG\": 31,\n",
    "    \"SEP\": 30,\n",
    "    \"OCT\": 31,\n",
    "    \"NOV\": 30,\n",
    "    \"DEC\": 31,\n",
    "}\n",
    "inputsMonths = {}\n",
    "while True:\n",
    "    print(\"------------------------\")\n",
    "    month = input(\"Month:\")\n",
    "    month = month.upper()\n",
    "    try:\n",
    "        print(f\"{M[month]}: {D[month]} days\")\n",
    "        inputsMonths[M[month]] = D[month]\n",
    "    except Exception:\n",
    "        print(\"========================\")\n",
    "        print(\"*** Incorrect abbreviation!\")\n",
    "        print(\"*** End Of Input!\")\n",
    "        print(\"========================\")\n",
    "        break\n",
    "for i in sorted(inputsMonths, key=inputsMonths.get):\n",
    "    print(f\"*** {i}:{inputsMonths[i]}\")\n",
    "if len(inputsMonths) == 0:\n",
    "    print(\"*** No correct abbreviation!\")"
   ]
  },
  {
   "cell_type": "markdown",
   "metadata": {},
   "source": [
    "### [PT8-3] CarBrand：汽車購買調查\n"
   ]
  },
  {
   "cell_type": "code",
   "execution_count": 7,
   "metadata": {},
   "outputs": [
    {
     "name": "stdout",
     "output_type": "stream",
     "text": [
      "=====================\n",
      "----------------\n",
      "*** HONDA: 1\n",
      "=====================\n",
      "----------------\n",
      "*** HONDA: 1\n",
      "*** TOYOTA: 1\n",
      "=====================\n",
      "----------------\n",
      "*** HONDA: 1\n",
      "*** TOYOTA: 1\n",
      "*** VOLVO: 1\n",
      "=====================\n",
      "----------------\n",
      "*** HONDA: 2\n",
      "*** TOYOTA: 1\n",
      "*** VOLVO: 1\n",
      "=====================\n",
      "----------------\n",
      "*** HONDA: 3\n",
      "*** TOYOTA: 1\n",
      "*** VOLVO: 1\n",
      "=====================\n",
      "=====================\n",
      "*** BYE!\n"
     ]
    }
   ],
   "source": [
    "Car = {}\n",
    "while True:\n",
    "    print(\"=====================\")\n",
    "    carBrand = input(\"CarBrand:\").upper()\n",
    "    if carBrand == \"\":\n",
    "        print(\"=====================\")\n",
    "        print(\"*** BYE!\")\n",
    "        break\n",
    "    else:\n",
    "        if carBrand in Car:\n",
    "            Car[carBrand] += 1\n",
    "        else:\n",
    "            Car[carBrand] = 1\n",
    "        print(\"----------------\")\n",
    "        for i in sorted(Car):\n",
    "            print(f\"*** {i}: {Car[i]}\")"
   ]
  },
  {
   "cell_type": "markdown",
   "metadata": {},
   "source": [
    "## HW\n"
   ]
  },
  {
   "cell_type": "markdown",
   "metadata": {},
   "source": [
    "### [HW8-1]帳密檢查(功能表)：會員註冊(ID 不能重複)\n"
   ]
  },
  {
   "cell_type": "code",
   "execution_count": 10,
   "metadata": {},
   "outputs": [
    {
     "name": "stdout",
     "output_type": "stream",
     "text": [
      "========================\n",
      "(1)Sign-in\n",
      "(2)Sign-up\n",
      "(3)Quit\n",
      "========================\n",
      "--------------\n",
      "------------------\n",
      "*** Sign-in failed.\n",
      "\n",
      "========================\n",
      "(1)Sign-in\n",
      "(2)Sign-up\n",
      "(3)Quit\n",
      "========================\n",
      "--------------\n",
      "------------------\n",
      "*** Sign-up failed: ID exists!\n",
      "\n",
      "========================\n",
      "(1)Sign-in\n",
      "(2)Sign-up\n",
      "(3)Quit\n",
      "========================\n",
      "--------------\n",
      "------------------\n",
      "*** Sign-up success!\n",
      "\n",
      "========================\n",
      "(1)Sign-in\n",
      "(2)Sign-up\n",
      "(3)Quit\n",
      "========================\n",
      "--------------\n",
      "================================\n",
      "+++ i003 Logged in!\n",
      "+++ Welcome!\n"
     ]
    }
   ],
   "source": [
    "IDPW = {\"i000\": \"p000\", \"i001\": \"p001\", \"i002\": \"p002\"}\n",
    "\n",
    "\n",
    "def menu():\n",
    "    print(\"========================\")\n",
    "    print(\"(1)Sign-in\")\n",
    "    print(\"(2)Sign-up\")\n",
    "    print(\"(3)Quit\")\n",
    "    print(\"========================\")\n",
    "\n",
    "\n",
    "while True:\n",
    "    menu()\n",
    "    select = str(input(\"Select:\"))\n",
    "    if select != \"1\" and select != \"2\":\n",
    "        print(\"========================\")\n",
    "        print(\"*** BYE!\")\n",
    "        break\n",
    "    elif select == \"1\":\n",
    "        failed = True\n",
    "        print(\"--------------\")\n",
    "        id = input(\"ID=\")\n",
    "        passwd = input(\"PASSWORD=\")\n",
    "        for j in IDPW:\n",
    "            if id == j and passwd == IDPW[j]:\n",
    "                failed = False\n",
    "                break\n",
    "        if failed:\n",
    "            print(\"------------------\")\n",
    "            print(\"*** Sign-in failed.\\n\")\n",
    "\n",
    "        if not failed:\n",
    "            print(\"================================\")\n",
    "            print(f\"+++ {id} Logged in!\")\n",
    "            print(\"+++ Welcome!\")\n",
    "            break\n",
    "    elif select == \"2\":\n",
    "        print(\"--------------\")\n",
    "        id = input(\"ID=\")\n",
    "        if id in IDPW:\n",
    "            print(\"------------------\")\n",
    "            print(\"*** Sign-up failed: ID exists!\\n\")\n",
    "        else:\n",
    "            passwd = input(\"PASSWORD=\")\n",
    "            IDPW[id] = passwd\n",
    "            print(\"------------------\")\n",
    "            print(\"*** Sign-up success!\\n\")"
   ]
  },
  {
   "cell_type": "markdown",
   "metadata": {},
   "source": [
    "### [HW8-2]CarBrand： 汽車購買調查\n"
   ]
  },
  {
   "cell_type": "code",
   "execution_count": 15,
   "metadata": {},
   "outputs": [
    {
     "name": "stdout",
     "output_type": "stream",
     "text": [
      "=====================\n",
      "----------------\n",
      "*** HONDA: 1\n",
      "=====================\n",
      "----------------\n",
      "*** AUDI: 1\n",
      "*** HONDA: 1\n",
      "=====================\n",
      "----------------\n",
      "*** AUDI: 2\n",
      "*** HONDA: 1\n",
      "=====================\n",
      "----------------\n",
      "*** AUDI: 2\n",
      "*** AUSTIN: 1\n",
      "*** HONDA: 1\n",
      "=====================\n",
      "Duplicate\n",
      "----------------\n",
      "*** AUDI: 2\n",
      "*** AUSTIN: 1\n",
      "*** HONDA: 1\n",
      "=====================\n",
      "----------------\n",
      "*** AUDI: 3\n",
      "*** AUSTIN: 1\n",
      "*** HONDA: 1\n",
      "=====================\n",
      "----------------\n",
      "*** AUDI: 3\n",
      "*** AUSTIN: 1\n",
      "*** HONDA: 2\n",
      "=====================\n",
      "=====================\n",
      "*** BYE!\n"
     ]
    }
   ],
   "source": [
    "cars = {}\n",
    "while True:\n",
    "    print(\"=====================\")\n",
    "    carBrand = input(\"CarBrand:\").upper()\n",
    "    if carBrand == \"\":\n",
    "        print(\"=====================\")\n",
    "        print(\"*** BYE!\")\n",
    "        break\n",
    "    else:\n",
    "        exist = False\n",
    "        count = 0\n",
    "        for i in cars:\n",
    "            if carBrand == i:\n",
    "                cars[i] += 1\n",
    "                exist = True\n",
    "                break\n",
    "            elif str(i).startswith(carBrand):\n",
    "                count += 1\n",
    "        if count == 1:\n",
    "            for i in cars:\n",
    "                if str(i).startswith(carBrand):\n",
    "                    cars[i] += 1\n",
    "            exist = True\n",
    "        elif count > 1:\n",
    "            print(\"Duplicate\")\n",
    "            exist = True\n",
    "\n",
    "        if not exist:\n",
    "            cars[carBrand] = 1\n",
    "        print(\"----------------\")\n",
    "        for i in sorted(cars):\n",
    "            print(f\"*** {i}: {cars[i]}\")"
   ]
  },
  {
   "cell_type": "markdown",
   "metadata": {},
   "source": [
    "# Unit 9\n"
   ]
  },
  {
   "cell_type": "markdown",
   "metadata": {},
   "source": [
    "## EX\n"
   ]
  },
  {
   "cell_type": "markdown",
   "metadata": {},
   "source": [
    "### [EX9-0]tuple\n"
   ]
  },
  {
   "cell_type": "code",
   "execution_count": 2,
   "metadata": {},
   "outputs": [
    {
     "name": "stdout",
     "output_type": "stream",
     "text": [
      "========== tuple1 ==========\n",
      "('Red', 'BlueGreen')\n",
      "BlueGreen\n",
      "\n",
      "========== Redefined tuple1 ==========\n",
      "('Red', 'Blue', 'Green', 'Black')\n",
      "\n",
      "========== Redefined tuple1 ==========\n",
      "(1, 2)\n",
      "\n",
      "========== tuple3 ==========\n",
      "(1, 2)\n",
      "(n========== Redefined tuple3 ==========\n",
      "(31, 28, 31, 30)\n"
     ]
    }
   ],
   "source": [
    "# tuple類似1ist,但元素個數固定,不可新增或刪除,也不可變更内容\n",
    "# 擷取資料有效率\n",
    "print(\"========== tuple1 ==========\")\n",
    "tuple1 = (\"Red\", \"Blue\" \"Green\")\n",
    "print(tuple1)\n",
    "print(tuple1[1])\n",
    "\n",
    "# 不可更改元素\n",
    "# tuple1[e] = \"Black\"\n",
    "\n",
    "# 不可新增元素\n",
    "# tuple1[3] = \"Black\"\n",
    "\n",
    "# 等同重新定義tuple1,而非對原tuple1新增元素\n",
    "\n",
    "print(\"\\n========== Redefined tuple1 ==========\")\n",
    "tuple1 = (\"Red\", \"Blue\", \"Green\", \"Black\")\n",
    "print(tuple1)\n",
    "\n",
    "# 等同重新定義tuple1\n",
    "print(\"\\n========== Redefined tuple1 ==========\")\n",
    "tuple1 = (1, 2)\n",
    "print(tuple1)\n",
    "\n",
    "tuple2 = (31, 28, 31, 30)\n",
    "\n",
    "print(\"\\n========== tuple3 ==========\")\n",
    "tuple3 = tuple1\n",
    "print(tuple3)\n",
    "\n",
    "# 等同重新定義tuple3\n",
    "print(\"(n========== Redefined tuple3 ==========\")\n",
    "tuple3 = tuple2\n",
    "print(tuple3)"
   ]
  },
  {
   "cell_type": "markdown",
   "metadata": {},
   "source": [
    "### [EX9-1]Subset\n"
   ]
  },
  {
   "cell_type": "code",
   "execution_count": 3,
   "metadata": {},
   "outputs": [
    {
     "name": "stdout",
     "output_type": "stream",
     "text": [
      "3 belongs to {1, 3, 5, 7, 9}\n",
      "{1, 3} doesn't belong to {1, 3, 5, 7, 9}\n",
      "{1, 3} is a subset of {1, 3, 5, 7, 9}\n"
     ]
    }
   ],
   "source": [
    "oddSet = {1, 3, 5, 7, 9}\n",
    "\n",
    "if 3 in oddSet:\n",
    "    print(3, \"belongs to\", oddSet)\n",
    "else:\n",
    "    print(3, \"doesn't belong to\", oddSet)\n",
    "\n",
    "oSet = {1, 3}\n",
    "if oSet in oddSet:\n",
    "    print(oSet, \"belongs to\", oddSet)\n",
    "else:\n",
    "    print(oSet, \"doesn't belong to\", oddSet)\n",
    "\n",
    "if oSet.issubset(oddSet):\n",
    "    print(oSet, \"is a subset of\", oddSet)\n",
    "else:\n",
    "    print(oSet, \"isn't a subset of\", oddSet)"
   ]
  },
  {
   "cell_type": "markdown",
   "metadata": {},
   "source": [
    "### [EX9-2] Set (英數及格)\n"
   ]
  },
  {
   "cell_type": "code",
   "execution_count": 6,
   "metadata": {},
   "outputs": [
    {
     "name": "stdout",
     "output_type": "stream",
     "text": [
      "<class 'dict'>\n",
      "<class 'set'>\n",
      "\n",
      "======================== Original =========================\n",
      "*** 數学及格(6人):Mary Jimmy Sunny John Amy Tom \n",
      "\n",
      "*** 英文及格: {'Mary', 'Alice', 'John', 'Pony', 'Bob', 'Tony', 'Tom'}\n",
      "\n",
      "*** 數学及格但英文不及格: {'Sunny', 'Jimmy', 'Amy'}\n",
      "\n",
      "*** 數學不及格但英文及格: {'Alice', 'Tony', 'Pony', 'Bob'}\n",
      "\n",
      "*** 兩科都及格: {'Mary', 'John', 'Tom'}\n",
      "\n",
      "*** 數学和英文至少有一科及格: {'Jimmy', 'Alice', 'John', 'Pony', 'Bob', 'Amy', 'Mary', 'Sunny', 'Tony', 'Tom'} \n",
      "\n",
      "\n",
      "===================== math add Jack ======================\n",
      "*** 数學及格(7人):Mary Jimmy Sunny John Jack Amy Tom \n",
      "\n",
      "*** 英文及格: {'Mary', 'Alice', 'John', 'Pony', 'Bob', 'Tony', 'Tom'}\n",
      "\n",
      "*** 數學及格但英文不及格: {'Sunny', 'Jimmy', 'Amy', 'Jack'}\n",
      "\n",
      "*** 數學不及格但英文及格: {'Alice', 'Tony', 'Pony', 'Bob'}\n",
      "\n",
      "*** 兩科部及格: {'Mary', 'John', 'Tom'}\n",
      "\n",
      "*** 數學和英文至少有一科及格: {'Jimmy', 'Alice', 'John', 'Pony', 'Bob', 'Amy', 'Mary', 'Sunny', 'Tony', 'Jack', 'Tom'} \n",
      "\n",
      "\n",
      "==================== eng remove Tony ====================\n",
      "*** 数学及格(7人):Mary Jimmy Sunny John Jack Amy Tom \n",
      "\n",
      "*** 英文及格: {'Mary', 'Alice', 'John', 'Pony', 'Bob', 'Tom'}\n",
      "\n",
      "*** 數學及格但英文不发格: {'Sunny', 'Jimmy', 'Amy', 'Jack'}\n",
      "\n",
      "*** 數學不及格但英文及格: {'Alice', 'Pony', 'Bob'}\n",
      "\n",
      "*** 兩科都及格: {'Mary', 'John', 'Tom'}\n",
      "\n",
      "***数學和英文至少有一科格: {'Jimmy', 'Alice', 'John', 'Pony', 'Bob', 'Amy', 'Mary', 'Sunny', 'Jack', 'Tom'} \n",
      "\n"
     ]
    }
   ],
   "source": [
    "# set 類似 1ist，但是元素不可重複且沒有次序，比list更有效率\n",
    "\n",
    "# 設定空集合set\n",
    "s = set()\n",
    "\n",
    "# 設定空字典dictionary\n",
    "d = {}\n",
    "\n",
    "classA = {\"Tom\": 1, \"John\": 2, \"Mary\": 3, \"Jimmy\": 4, \"Sunny\": 5, \"Amy\": 6}\n",
    "print(type(classA))\n",
    "\n",
    "math_pass = {\"Tom\", \"John\", \"Mary\", \"Jimmy\", \"Sunny\", \"Amy\"}\n",
    "eng_pass = {\"John\", \"Mary\", \"Tony\", \"Bob\", \"Pony\", \"Tom\", \"Alice\"}\n",
    "print(type(math_pass))\n",
    "\n",
    "# len(): 元素個數\n",
    "print(\"\\n======================== Original =========================\")\n",
    "print(\"*** 數学及格(%d人):\" % len(math_pass), end=\"\")\n",
    "for a in math_pass:\n",
    "    print(a, end=\" \")\n",
    "print(\"\\n\\n*** 英文及格:\", eng_pass)\n",
    "print(\"\\n*** 數学及格但英文不及格:\", math_pass - eng_pass)\n",
    "print(\"\\n*** 數學不及格但英文及格:\", eng_pass - math_pass)\n",
    "print(\"\\n*** 兩科都及格:\", math_pass & eng_pass)\n",
    "print(\"\\n*** 數学和英文至少有一科及格:\", math_pass | eng_pass, \"\\n\")\n",
    "\n",
    "# 新增元素\n",
    "math_pass.add(\"Jack\")\n",
    "math_pass.add(\"Jimmy\")  # 新增重複資料\n",
    "\n",
    "print(\"\\n===================== math add Jack ======================\")\n",
    "print(\"*** 数學及格(%d人):\" % len(math_pass), end=\"\")\n",
    "for a in math_pass:\n",
    "    print(a, end=\" \")\n",
    "print(\"\\n\\n*** 英文及格:\", eng_pass)\n",
    "print(\"\\n*** 數學及格但英文不及格:\", math_pass - eng_pass)\n",
    "print(\"\\n*** 數學不及格但英文及格:\", eng_pass - math_pass)\n",
    "print(\"\\n*** 兩科部及格:\", math_pass & eng_pass)\n",
    "print(\"\\n*** 數學和英文至少有一科及格:\", math_pass | eng_pass, \"\\n\")\n",
    "\n",
    "# 移除元素\n",
    "eng_pass.remove(\"Tony\")\n",
    "\n",
    "print(\"\\n==================== eng remove Tony ====================\")\n",
    "print(\"*** 数学及格(%d人):\" % len(math_pass), end=\"\")\n",
    "for a in math_pass:\n",
    "    print(a, end=\" \")\n",
    "print(\"\\n\\n*** 英文及格:\", eng_pass)\n",
    "print(\"\\n*** 數學及格但英文不发格:\", math_pass - eng_pass)\n",
    "print(\"\\n*** 數學不及格但英文及格:\", eng_pass - math_pass)\n",
    "print(\"\\n*** 兩科都及格:\", math_pass & eng_pass)\n",
    "print(\"\\n***数學和英文至少有一科格:\", math_pass | eng_pass, \"\\n\")"
   ]
  },
  {
   "cell_type": "markdown",
   "metadata": {},
   "source": [
    "### [EX9-3] Set Sorting\n"
   ]
  },
  {
   "cell_type": "code",
   "execution_count": 7,
   "metadata": {},
   "outputs": [
    {
     "name": "stdout",
     "output_type": "stream",
     "text": [
      "============== set ===============\n",
      "set: {8, 3, 4}\n",
      "\n",
      "============== original ===============\n",
      "list from set a: [8, 3, 4]\n",
      "original set: {8, 3, 4}\n",
      "\n",
      "============== sorted ===============\n",
      "sorted data from list: [3, 4, 8]\n",
      "sorted data from list(descending order): [8, 4, 3]\n",
      "original list: [8, 3, 4]\n",
      "\n",
      "============== changed ===============\n",
      "changed list: [3, 4, 8]\n",
      "changed list: [8, 4, 3]\n"
     ]
    }
   ],
   "source": [
    "# 將set轉為list，進行sorting\n",
    "\n",
    "print(\"============== set ===============\")\n",
    "a = {8, 3, 4}\n",
    "print(\"set:\", a)\n",
    "\n",
    "print(\"\\n============== original ===============\")\n",
    "list1 = list(a)\n",
    "print(\"list from set a:\", list1)\n",
    "print(\"original set:\", a)\n",
    "\n",
    "print(\"\\n============== sorted ===============\")\n",
    "print(\"sorted data from list:\", sorted(list1))  # sorted() 不改變原list\n",
    "print(\n",
    "    \"sorted data from list(descending order):\", sorted(list1, reverse=True)\n",
    ")  # descending sort\n",
    "print(\"original list:\", list1)\n",
    "\n",
    "print(\"\\n============== changed ===============\")\n",
    "list1.sort()  # sort()改變原list\n",
    "print(\"changed list:\", list1)\n",
    "\n",
    "list1.sort(reverse=True)  # descending sort\n",
    "print(\"changed list:\", list1)"
   ]
  },
  {
   "cell_type": "markdown",
   "metadata": {},
   "source": [
    "### [EX9-4] Array of sets\n"
   ]
  },
  {
   "cell_type": "code",
   "execution_count": 8,
   "metadata": {},
   "outputs": [
    {
     "name": "stdout",
     "output_type": "stream",
     "text": [
      "a = [{80, 20, 30}, {40}, {50, 30}]\n",
      "a[2] = {50, 30}\n",
      "a[2] = {50, 99, 30}\n",
      "a =  [{80, 20, 30}, {40}, {50, 99, 30}, {90, 100}]\n",
      "\n",
      "=========================================\n",
      "\n",
      "{'c', 'JAVA'}\n",
      "[{'c', 'JAVA'}]\n",
      "=========================================\n",
      "[{'c', 'JAVA'}, {'PHP', 'C++', 'JAVA'}]\n",
      "=========================================\n",
      "[{'c', 'JAVA'}, {'PHP', 'C++', 'JAVA'}, {'C'}]\n",
      "No.1:c JAVA \n",
      "No.2:PHP C++ JAVA \n",
      "No.3:C \n"
     ]
    }
   ],
   "source": [
    "a = [{20, 80, 30}, {40}, {50, 30}]\n",
    "print(\"a =\", a)\n",
    "print(\"a[2] =\", a[2])\n",
    "a[2].add(99)\n",
    "print(\"a[2] =\", a[2])\n",
    "a.append({90, 100})\n",
    "print(\"a = \", a)\n",
    "\n",
    "print(\"\\n=========================================\\n\")\n",
    "emp = []\n",
    "emp.append(set())  # list emp 新增一筆程式語言專長(set)\n",
    "emp[0].add(\"JAVA\")  # set emp[e] 新增\"JAVA\"\n",
    "emp[0].add(\"c\")  # set emp[e]新增\"C\"\n",
    "print(emp[0])\n",
    "print(emp)\n",
    "\n",
    "print(\"=========================================\")\n",
    "emp.append(set())  # list emp 新增一筆程式語言專長(set)\n",
    "emp[1].add(\"PHP\")  # set emp[1] 新增\"PHP\"\n",
    "emp[1].add(\"C++\")  # set emp[1] 新增\"C++\"\n",
    "emp[1].add(\"JAVA\")  # set emp[1] 新增\"JAVA\"\n",
    "emp[1].add(\"PHP\")  # set emp[1]新增\"PHP”,重複資料,只會被保留一份\n",
    "print(emp)\n",
    "\n",
    "print(\"=========================================\")\n",
    "emp.append(set())  # list emp 新增一筆程式語言專長(set)\n",
    "emp[2].add(\"C\")  # set emp[2]新增\"C\"\n",
    "print(emp)\n",
    "\n",
    "for st in range(0, len(emp)):\n",
    "    print(\"No.%d:\" % (st + 1), end=\"\")\n",
    "    for com in emp[st]:\n",
    "        print(com, end=\" \")\n",
    "    print()"
   ]
  },
  {
   "cell_type": "markdown",
   "metadata": {},
   "source": [
    "## PT\n"
   ]
  },
  {
   "cell_type": "markdown",
   "metadata": {},
   "source": [
    "### [PT9-1]食玩(Candy Toy)蒐集:輸入贈品代碼(A ~ Z, a ~ z)，印出新(New)或重複(Duplicate)，直到蒐集滿不同 5 種為止(Goal)，最後印出排序好的 5 種代碼\n"
   ]
  },
  {
   "cell_type": "code",
   "execution_count": 12,
   "metadata": {},
   "outputs": [
    {
     "name": "stdout",
     "output_type": "stream",
     "text": [
      "================\n",
      "*** New\n",
      "----------\n",
      "*** New\n",
      "----------\n",
      "*** Duplicate\n",
      "----------\n",
      "*** New\n",
      "----------\n",
      "*** New\n",
      "----------\n",
      "*** New\n",
      "===== Goal =====\n",
      "d, e, g, j, w\n"
     ]
    }
   ],
   "source": [
    "toys = set()\n",
    "\n",
    "print(\"================\")\n",
    "count_toys = 0\n",
    "while True:\n",
    "    toy = str(input(f\"Toy {count_toys+1}:\"))\n",
    "    count_toys += 1\n",
    "    if toy in toys:\n",
    "        print(\"*** Duplicate\")\n",
    "    else:\n",
    "        print(\"*** New\")\n",
    "\n",
    "    toys.add(toy)\n",
    "    if len(toys) >= 5:\n",
    "        print(\"===== Goal =====\")\n",
    "        toysList = list(toys)\n",
    "        toysList.sort()\n",
    "        for i in toysList:\n",
    "            if i == toysList[len(toysList) - 1]:\n",
    "                print(f\"{i}\")\n",
    "            else:\n",
    "                print(f\"{i}, \", end=\"\")\n",
    "        break\n",
    "    print(\"----------\")"
   ]
  },
  {
   "cell_type": "markdown",
   "metadata": {},
   "source": [
    "### [PT9-2]員工程式語言專長登錄，判斷可否組成專案團隊?\n"
   ]
  },
  {
   "cell_type": "code",
   "execution_count": 27,
   "metadata": {},
   "outputs": [
    {
     "name": "stdout",
     "output_type": "stream",
     "text": [
      "================ Original =================\n",
      "No.1: C JAVA \n",
      "No.2: JAVA PHP R \n",
      "No.3: C \n",
      "No.4: C++ PYTHON \n",
      "\n",
      "====== PL-Register (ENTER for exit) ========\n",
      "\n",
      "================ Updated ==================\n",
      "No.1: C JAVA \n",
      "No.2: JAVA PHP R \n",
      "No.3: C \n",
      "No.4: C++ PYTHON \n",
      "\n",
      "============== All PLs (6) ==============\n",
      "(1) C\n",
      "(2) C++\n",
      "(3) JAVA\n",
      "(4) PHP\n",
      "(5) PYTHON\n",
      "(6) R\n",
      "\n",
      "====== Project Team Need? (ENTER for exit) ========\n",
      "-------------\n",
      "+++ YES\n"
     ]
    }
   ],
   "source": [
    "emp = [{\"C\", \"JAVA\"}, {\"JAVA\", \"PHP\", \"R\"}, {\"C\"}, {\"PYTHON\", \"C++\"}]\n",
    "\n",
    "\n",
    "def showTable():\n",
    "    for num in range(0, len(emp)):\n",
    "        if len(emp[num]) == 0:\n",
    "            break\n",
    "        print(\"No.%d: \" % (num + 1), end=\"\")\n",
    "        for language in sorted(list(emp[num])):\n",
    "            print(language, end=\" \")\n",
    "        print()\n",
    "\n",
    "\n",
    "print(\"================ Original =================\")\n",
    "showTable()\n",
    "\n",
    "print(\"\\n====== PL-Register (ENTER for exit) ========\")\n",
    "emp.append(set())\n",
    "while True:\n",
    "    language = str(input(\"*** PL:\")).upper()\n",
    "    if language == \"\":\n",
    "        break\n",
    "    else:\n",
    "        emp[4].add(language)\n",
    "\n",
    "print(\"\\n================ Updated ==================\")\n",
    "showTable()\n",
    "\n",
    "languages = set()\n",
    "for num in range(0, len(emp)):\n",
    "    for language in sorted(list(emp[num])):\n",
    "        languages.add(language)\n",
    "\n",
    "print(f\"\\n============== All PLs ({len(languages)}) ==============\")\n",
    "tmp = sorted(list(languages))\n",
    "for i in range(0, len(languages)):\n",
    "    print(f\"({i+1}) {tmp[i]}\")\n",
    "\n",
    "print(\"\\n====== Project Team Need? (ENTER for exit) ========\")\n",
    "\n",
    "needLanguages = set()\n",
    "while True:\n",
    "    needLanguage = str(input(\"*** PL:\")).upper()\n",
    "    if needLanguage == \"\":\n",
    "        break\n",
    "    else:\n",
    "        needLanguages.add(needLanguage)\n",
    "\n",
    "print(\"-------------\")\n",
    "if needLanguages.issubset(languages):\n",
    "    print(\"+++ YES\")\n",
    "else:\n",
    "    print(\"+++ NO\")"
   ]
  },
  {
   "cell_type": "markdown",
   "metadata": {},
   "source": [
    "## HW\n"
   ]
  },
  {
   "cell_type": "markdown",
   "metadata": {},
   "source": [
    "### [HW9-1]班級成績統計\n"
   ]
  },
  {
   "cell_type": "code",
   "execution_count": 11,
   "metadata": {},
   "outputs": [
    {
     "name": "stdout",
     "output_type": "stream",
     "text": [
      "===== English-Pass (-1 for exit) =====\n",
      "*** Wrong No.\n",
      "\n",
      "+++ English-Pass(3):[1, 4, 8]\n",
      "+++ English-Down(6):[2, 3, 5, 6, 7, 9]\n",
      "===== Mathematics-Pass (-1 for exit) =====\n",
      "\n",
      "+++ English-Pass(4):[2, 4, 8, 9]\n",
      "+++ English-Down(5):[1, 3, 5, 6, 7]\n",
      "\n",
      "=======================================\n",
      "+++ All-Pass(2):[4, 8]\n",
      "\n",
      "+++ All-Down(4):[3, 5, 6, 7]\n",
      "\n",
      "+++ Eng-Pass Math-Down(1):[1]\n",
      "\n",
      "+++ Eng-Down Math-Pass(2):[2, 9]\n"
     ]
    }
   ],
   "source": [
    "math_pass = set()\n",
    "eng_pass = set()\n",
    "\n",
    "classmates = int(input(\"班級人數:\"))\n",
    "\n",
    "total_classmates = set()\n",
    "\n",
    "for i in range(classmates):\n",
    "    total_classmates.add((i + 1))\n",
    "\n",
    "print(\"===== English-Pass (-1 for exit) =====\")\n",
    "while True:\n",
    "    number = int(input(\"*** No.:\"))\n",
    "    if number == -1:\n",
    "        break\n",
    "    elif number < 0 or number > classmates:\n",
    "        print(\"*** Wrong No.\")\n",
    "    else:\n",
    "        eng_pass.add(number)\n",
    "\n",
    "print(f\"\\n+++ English-Pass({len(eng_pass)}):{sorted(list(eng_pass))}\")\n",
    "print(\n",
    "    f\"+++ English-Down({len(total_classmates - eng_pass)}):{sorted(list(total_classmates - eng_pass))}\"\n",
    ")\n",
    "\n",
    "print(\"\\n===== Mathematics-Pass (-1 for exit) =====\")\n",
    "while True:\n",
    "    number = int(input(\"*** No.:\"))\n",
    "    if number == -1:\n",
    "        break\n",
    "    elif number < 0 or number > classmates:\n",
    "        print(\"*** Wrong No.\")\n",
    "    else:\n",
    "        math_pass.add(number)\n",
    "\n",
    "print(f\"\\n+++ Mathematics-Pass({len(math_pass)}):{sorted(list(math_pass))}\")\n",
    "print(\n",
    "    f\"+++ Mathematics-Down({len(total_classmates - math_pass)}):{sorted(list(total_classmates - math_pass))}\"\n",
    ")\n",
    "\n",
    "print(\"\\n=======================================\")\n",
    "print(f\"+++ All-Pass({len(eng_pass & math_pass)}):{sorted(list(eng_pass & math_pass))}\")\n",
    "print(\n",
    "    f\"\\n+++ All-Down({len((total_classmates - (eng_pass | math_pass)))}):{sorted(list((total_classmates - (eng_pass | math_pass))))}\"\n",
    ")\n",
    "print(\n",
    "    f\"\\n+++ Eng-Pass Math-Down({len(eng_pass - math_pass)}):{sorted(list(eng_pass - math_pass))}\"\n",
    ")\n",
    "print(\n",
    "    f\"\\n+++ Eng-Down Math-Pass({len(math_pass - eng_pass)}):{sorted(list(math_pass - eng_pass))}\"\n",
    ")"
   ]
  },
  {
   "cell_type": "markdown",
   "metadata": {},
   "source": [
    "### [HW9-2]電腦擇友\n"
   ]
  },
  {
   "cell_type": "code",
   "execution_count": 6,
   "metadata": {},
   "outputs": [
    {
     "name": "stdout",
     "output_type": "stream",
     "text": [
      "================== Members Information ==================\n",
      "+++ (1): L[      camp        jog       read       swim ]\n",
      "-------- H(      dive       draw )\n",
      "+++ (2): L[      dive        jog      music ]\n",
      "-------- H(      swim )\n",
      "+++ (3): L[      cook       draw      music       read ]\n",
      "-------- H(      swim )\n",
      "+++ (4): L[      draw       read ]\n",
      "-------- H(      dive        jog )\n",
      "+++ (5): L[      cook        jog       swim ]\n",
      "-------- H(      read )\n",
      "+++ (6): L[       jog       read ]\n",
      "-------- H(      draw )\n",
      "=========================================================\n",
      "Input your Likes:(ENTER for exit)\n",
      "------------------\n",
      "Input your Hates:(ENTER for exit)\n",
      "*** Error!\n",
      "========================= Love =========================\n",
      "+++ (1): 3\n",
      "+++ (6): 2\n",
      "+++ (2): 1\n"
     ]
    }
   ],
   "source": [
    "likes = [\n",
    "    {\"swim\", \"read\", \"camp\", \"jog\"},\n",
    "    {\"jog\", \"dive\", \"music\"},\n",
    "    {\"read\", \"cook\", \"draw\", \"music\"},\n",
    "    {\"read\", \"draw\"},\n",
    "    {\"swim\", \"jog\", \"cook\"},\n",
    "    {\"jog\", \"read\"},\n",
    "]\n",
    "hates = [{\"dive\", \"draw\"}, {\"swim\"}, {\"swim\"}, {\"dive\", \"jog\"}, {\"read\"}, {\"draw\"}]\n",
    "\n",
    "\n",
    "print(\"================== Members Information ==================\")\n",
    "for i in range(len(likes)):\n",
    "    print(f\"+++ ({i+1}): L[\", end=\"\")\n",
    "    for j in sorted(likes[i]):\n",
    "        print(f\"{j:>10s} \", end=\"\")\n",
    "    print(\"]\")\n",
    "    print(f\"-------- H(\", end=\"\")\n",
    "    for k in sorted(hates[i]):\n",
    "        print(f\"{k:>10s} \", end=\"\")\n",
    "    print(\")\")\n",
    "print(\"=========================================================\")\n",
    "\n",
    "print(\"Input your Likes:(ENTER for exit)\")\n",
    "likes.append(set())\n",
    "while True:\n",
    "    like = input(\"+++ Likes:\").lower()\n",
    "    if like == \"\":\n",
    "        break\n",
    "    else:\n",
    "        likes[len(likes) - 1].add(like)\n",
    "print(\"------------------\")\n",
    "\n",
    "print(\"Input your Hates:(ENTER for exit)\")\n",
    "hates.append(set())\n",
    "while True:\n",
    "    hate = input(\"+++ Hates:\").lower()\n",
    "    if hate == \"\":\n",
    "        break\n",
    "    elif hate in likes[len(likes) - 1]:\n",
    "        print(\"*** Error!\")\n",
    "    else:\n",
    "        hates[len(hates) - 1].add(hate)\n",
    "\n",
    "print(\"========================= Love =========================\")\n",
    "loves = {}\n",
    "for i in range(len(likes) - 1):\n",
    "    if len(likes[i] & hates[len(hates) - 1]) > 0:\n",
    "        continue\n",
    "    elif len(hates[i] & likes[len(likes) - 1]) > 0:\n",
    "        continue\n",
    "    else:\n",
    "        loves[i + 1] = len(likes[i] & likes[len(likes) - 1])\n",
    "for k in sorted(loves, key=loves.get, reverse=True):  # sorted by value\n",
    "    print(f\"+++ ({k}): {loves[k]}\")"
   ]
  },
  {
   "cell_type": "markdown",
   "metadata": {},
   "source": [
    "# Unit 10\n"
   ]
  },
  {
   "cell_type": "markdown",
   "metadata": {},
   "source": [
    "## EX\n"
   ]
  },
  {
   "cell_type": "markdown",
   "metadata": {},
   "source": [
    "### [EX10-1] function bigger()。印出一年四季的最大產量\n"
   ]
  },
  {
   "cell_type": "code",
   "execution_count": 1,
   "metadata": {},
   "outputs": [
    {
     "name": "stdout",
     "output_type": "stream",
     "text": [
      "============================ Max ============================\n",
      "+++ The Max of Spring(2),Summer(4), Fall(3) and winter(5): 5\n"
     ]
    }
   ],
   "source": [
    "def bigger(x, y):\n",
    "    if x > y:\n",
    "        return x\n",
    "    else:\n",
    "        return y\n",
    "\n",
    "\n",
    "sp = int(input(\"*** Spring:\"))\n",
    "su = int(input(\"*** Summer:\"))\n",
    "fa = int(input(\"*** Fall:\"))\n",
    "wi = int(input(\"*** Winter:\"))\n",
    "\n",
    "print(\"============================ Max ============================\")\n",
    "mx = bigger(bigger(sp, su), bigger(fa, wi))\n",
    "print(\n",
    "    \"+++ The Max of Spring(%d),Summer(%d), Fall(%d) and winter(%d): %d\"\n",
    "    % (sp, su, fa, wi, mx)\n",
    ")"
   ]
  },
  {
   "cell_type": "markdown",
   "metadata": {},
   "source": [
    "### [EX10-2] function improve [Ex9-2] (英數及格)\n"
   ]
  },
  {
   "cell_type": "code",
   "execution_count": 3,
   "metadata": {},
   "outputs": [
    {
     "name": "stdout",
     "output_type": "stream",
     "text": [
      "\n",
      "======================== Original ========================\n",
      "*** 數學及格(6人):Tom Mary Amy Sunny Jimmy John \n",
      "\n",
      "*** 英文及格: {'Tom', 'Pony', 'Mary', 'Bob', 'Tony', 'Alice', 'John'}\n",
      "\n",
      "*** 數學及格但英文不及格: {'Sunny', 'Jimmy', 'Amy'}\n",
      "\n",
      "*** 數學不及格但英文及格: {'Alice', 'Pony', 'Bob', 'Tony'}\n",
      "\n",
      "*** 兩科都及格: {'Tom', 'Mary', 'John'}\n",
      "\n",
      "*** 數學和英文至少有一科及格: {'Pony', 'Mary', 'Tony', 'Amy', 'Sunny', 'Jimmy', 'Tom', 'Bob', 'Alice', 'John'} \n",
      "\n",
      "\n",
      "======================== Updated ========================\n",
      "*** 數學及格(7人):Tom Mary Amy Sunny Jack Jimmy John \n",
      "\n",
      "*** 英文及格: {'Tom', 'Pony', 'Mary', 'Bob', 'Tony', 'Alice', 'John'}\n",
      "\n",
      "*** 數學及格但英文不及格: {'Jimmy', 'Sunny', 'Jack', 'Amy'}\n",
      "\n",
      "*** 數學不及格但英文及格: {'Alice', 'Pony', 'Bob', 'Tony'}\n",
      "\n",
      "*** 兩科都及格: {'Tom', 'Mary', 'John'}\n",
      "\n",
      "*** 數學和英文至少有一科及格: {'Pony', 'Mary', 'Tony', 'Amy', 'Sunny', 'Jack', 'Jimmy', 'Tom', 'Bob', 'Alice', 'John'} \n",
      "\n",
      "\n",
      "======================== Updated ========================\n",
      "*** 數學及格(7人):Tom Mary Amy Sunny Jack Jimmy John \n",
      "\n",
      "*** 英文及格: {'Tom', 'Pony', 'Mary', 'Bob', 'Alice', 'John'}\n",
      "\n",
      "*** 數學及格但英文不及格: {'Jimmy', 'Sunny', 'Jack', 'Amy'}\n",
      "\n",
      "*** 數學不及格但英文及格: {'Alice', 'Pony', 'Bob'}\n",
      "\n",
      "*** 兩科都及格: {'Tom', 'Mary', 'John'}\n",
      "\n",
      "*** 數學和英文至少有一科及格: {'Pony', 'Mary', 'Amy', 'Sunny', 'Jack', 'Jimmy', 'Tom', 'Bob', 'Alice', 'John'} \n",
      "\n"
     ]
    }
   ],
   "source": [
    "math_pass = {\"Tom\", \"John\", \"Mary\", \"Jimmy\", \"Sunny\", \"Amy\"}\n",
    "eng_pass = {\"John\", \"Mary\", \"Tony\", \"Bob\", \"Pony\", \"Tom\", \"Alice\"}\n",
    "\n",
    "\n",
    "def statistics(m, e, head):\n",
    "    print(\"\\n======================== %s ========================\" % head)\n",
    "    print(\"*** 數學及格(%d人):\" % len(m), end=\"\")\n",
    "    for a in m:\n",
    "        print(a, end=\" \")\n",
    "    print(\"\\n\\n*** 英文及格:\", e)\n",
    "    print(\"\\n*** 數學及格但英文不及格:\", m - e)\n",
    "    print(\"\\n*** 數學不及格但英文及格:\", e - m)\n",
    "    print(\"\\n*** 兩科都及格:\", m & e)\n",
    "    print(\"\\n*** 數學和英文至少有一科及格:\", m | e, \"\\n\")\n",
    "\n",
    "\n",
    "statistics(math_pass, eng_pass, \"Original\")\n",
    "# 新增元素 ------------------------------------------------------------------\n",
    "math_pass.add(\"Jack\")\n",
    "statistics(math_pass, eng_pass, \"Updated\")\n",
    "# 移除元素 ------------------------------------------------------------------\n",
    "eng_pass.remove(\"Tony\")\n",
    "statistics(math_pass, eng_pass, \"Updated\")"
   ]
  },
  {
   "cell_type": "markdown",
   "metadata": {},
   "source": [
    "### [EX10-3] 計算長方形的面積及周長：function return (回傳多個值)\n"
   ]
  },
  {
   "cell_type": "code",
   "execution_count": 4,
   "metadata": {},
   "outputs": [
    {
     "name": "stdout",
     "output_type": "stream",
     "text": [
      "\n",
      "======= fun1 ========\n",
      "面積 = 8\n",
      "\n",
      "======= fun2 ========\n",
      "面積= 8\n",
      "周長= 12\n"
     ]
    }
   ],
   "source": [
    "# 只return一個值\n",
    "def fun1(a, b):\n",
    "    x = a * b\n",
    "    return x\n",
    "\n",
    "\n",
    "# return 多個值\n",
    "def fun2(a, b):\n",
    "    x = a * b\n",
    "    y = 2 * (a + b)\n",
    "    return x, y\n",
    "\n",
    "\n",
    "l = int(input(\"長=\"))\n",
    "w = int(input(\"寬=\"))\n",
    "print(\"\\n======= fun1 ========\")\n",
    "print(\"面積 =\", fun1(l, w))\n",
    "print(\"\\n======= fun2 ========\")\n",
    "a, b = fun2(l, w)\n",
    "print(\"面積=\", a)\n",
    "print(\"周長=\", b)"
   ]
  },
  {
   "cell_type": "markdown",
   "metadata": {},
   "source": [
    "### [EX10-4]function chr() & ord() & & 字串相連\n"
   ]
  },
  {
   "cell_type": "code",
   "execution_count": 5,
   "metadata": {},
   "outputs": [
    {
     "name": "stdout",
     "output_type": "stream",
     "text": [
      "48\n",
      "49\n",
      "97\n",
      "65\n",
      "===============\n",
      "0\n",
      "1\n",
      "a\n",
      "A\n",
      "===============\n",
      "1\n",
      "b\n",
      "B\n",
      "===============\n",
      "A\n",
      "B\n",
      "C\n",
      "D\n",
      "E\n",
      "F\n",
      "G\n",
      "H\n",
      "I\n",
      "J\n",
      "K\n",
      "L\n",
      "M\n",
      "N\n",
      "O\n",
      "P\n",
      "Q\n",
      "R\n",
      "S\n",
      "T\n",
      "U\n",
      "V\n",
      "W\n",
      "X\n",
      "Y\n",
      "Z\n",
      "===============\n",
      "ABCDEFGHIJKLMNOPQRSTUVWXYZ\n",
      "===============\n",
      "ZYXWVUTSRQPONMLKJIHGFEDCBA\n"
     ]
    }
   ],
   "source": [
    "print(ord(\"0\"))\n",
    "print(ord(\"1\"))\n",
    "print(ord(\"a\"))\n",
    "print(ord(\"A\"))\n",
    "\n",
    "print(\"===============\")\n",
    "print(chr(48))\n",
    "print(chr(49))\n",
    "print(chr(97))\n",
    "print(chr(65))\n",
    "\n",
    "print(\"===============\")\n",
    "print(chr(ord(\"0\") + 1))\n",
    "print(chr(ord(\"a\") + 1))\n",
    "print(chr(ord(\"A\") + 1))\n",
    "\n",
    "print(\"===============\")\n",
    "for i in range(26):\n",
    "    print(chr(ord(\"A\") + i))\n",
    "\n",
    "# 字串相連\n",
    "print(\"===============\")\n",
    "A2Z = \"\"\n",
    "for i in range(26):\n",
    "    A2Z = A2Z + chr(ord(\"A\") + i)\n",
    "print(A2Z)\n",
    "\n",
    "print(\"===============\")\n",
    "Z2A = \"\"\n",
    "for i in range(26):\n",
    "    Z2A = chr(ord(\"A\") + i) + Z2A\n",
    "print(Z2A)"
   ]
  },
  {
   "cell_type": "markdown",
   "metadata": {},
   "source": [
    "### [EX10-5A]Local variable vs. Global variable\n"
   ]
  },
  {
   "cell_type": "code",
   "execution_count": 6,
   "metadata": {},
   "outputs": [
    {
     "name": "stdout",
     "output_type": "stream",
     "text": [
      "4 8\n",
      "5\n",
      "5\n"
     ]
    }
   ],
   "source": [
    "sum = 5\n",
    "\n",
    "\n",
    "def add(a, b):\n",
    "    print(a, b)\n",
    "    print(sum)  # refer Global var: sum\n",
    "\n",
    "\n",
    "add(4, 8)\n",
    "print(sum)"
   ]
  },
  {
   "cell_type": "markdown",
   "metadata": {},
   "source": [
    "### [EX10-5B]Local variable vs. Global variable\n"
   ]
  },
  {
   "cell_type": "code",
   "execution_count": 7,
   "metadata": {},
   "outputs": [
    {
     "name": "stdout",
     "output_type": "stream",
     "text": [
      "140703229266488\n",
      "4 8\n",
      "140703229266712\n",
      "12\n",
      "5\n"
     ]
    }
   ],
   "source": [
    "sum = 5\n",
    "print(id(sum))\n",
    "\n",
    "\n",
    "def add(a, b):\n",
    "    print(a, b)\n",
    "    sum = a + b  # Local var(因為在function內update)\n",
    "    print(id(sum))\n",
    "    print(sum)  # refer Lobal var: sum\n",
    "\n",
    "\n",
    "add(4, 8)\n",
    "print(sum)  # refer Global var: sum"
   ]
  },
  {
   "cell_type": "markdown",
   "metadata": {},
   "source": [
    "### [EX10-5C]Local variable vs. Global variable\n"
   ]
  },
  {
   "cell_type": "code",
   "execution_count": 8,
   "metadata": {},
   "outputs": [
    {
     "name": "stdout",
     "output_type": "stream",
     "text": [
      "4 8\n"
     ]
    },
    {
     "ename": "UnboundLocalError",
     "evalue": "cannot access local variable 'sum' where it is not associated with a value",
     "output_type": "error",
     "traceback": [
      "\u001b[1;31m---------------------------------------------------------------------------\u001b[0m",
      "\u001b[1;31mUnboundLocalError\u001b[0m                         Traceback (most recent call last)",
      "\u001b[1;32me:\\GitHub\\pythonLearning\\python.ipynb 儲存格 229\u001b[0m line \u001b[0;36m1\n\u001b[0;32m      <a href='vscode-notebook-cell:/e%3A/GitHub/pythonLearning/python.ipynb#Y640sZmlsZQ%3D%3D?line=8'>9</a>\u001b[0m         \u001b[39msum\u001b[39m \u001b[39m=\u001b[39m a \u001b[39m+\u001b[39m b  \u001b[39m# Local var(因為在function內update)\u001b[39;00m\n\u001b[0;32m     <a href='vscode-notebook-cell:/e%3A/GitHub/pythonLearning/python.ipynb#Y640sZmlsZQ%3D%3D?line=9'>10</a>\u001b[0m     \u001b[39mprint\u001b[39m(\u001b[39msum\u001b[39m)  \u001b[39m# refer Lobal var: sum\u001b[39;00m\n\u001b[1;32m---> <a href='vscode-notebook-cell:/e%3A/GitHub/pythonLearning/python.ipynb#Y640sZmlsZQ%3D%3D?line=12'>13</a>\u001b[0m add(\u001b[39m4\u001b[39;49m, \u001b[39m8\u001b[39;49m)\n\u001b[0;32m     <a href='vscode-notebook-cell:/e%3A/GitHub/pythonLearning/python.ipynb#Y640sZmlsZQ%3D%3D?line=13'>14</a>\u001b[0m \u001b[39mprint\u001b[39m(\u001b[39msum\u001b[39m)  \u001b[39m# refer Global var: sum\u001b[39;00m\n",
      "\u001b[1;32me:\\GitHub\\pythonLearning\\python.ipynb 儲存格 229\u001b[0m line \u001b[0;36m6\n\u001b[0;32m      <a href='vscode-notebook-cell:/e%3A/GitHub/pythonLearning/python.ipynb#Y640sZmlsZQ%3D%3D?line=3'>4</a>\u001b[0m \u001b[39mdef\u001b[39;00m \u001b[39madd\u001b[39m(a, b):\n\u001b[0;32m      <a href='vscode-notebook-cell:/e%3A/GitHub/pythonLearning/python.ipynb#Y640sZmlsZQ%3D%3D?line=4'>5</a>\u001b[0m     \u001b[39mprint\u001b[39m(a, b)\n\u001b[1;32m----> <a href='vscode-notebook-cell:/e%3A/GitHub/pythonLearning/python.ipynb#Y640sZmlsZQ%3D%3D?line=5'>6</a>\u001b[0m     \u001b[39mif\u001b[39;00m \u001b[39msum\u001b[39;49m \u001b[39m!=\u001b[39m \u001b[39m0\u001b[39m:  \u001b[39m# 因為下一行,所以sum是Local variable,\u001b[39;00m\n\u001b[0;32m      <a href='vscode-notebook-cell:/e%3A/GitHub/pythonLearning/python.ipynb#Y640sZmlsZQ%3D%3D?line=6'>7</a>\u001b[0m         \u001b[39m# 此行卻在sum被assign值之前被引用·所ERROR\u001b[39;00m\n\u001b[0;32m      <a href='vscode-notebook-cell:/e%3A/GitHub/pythonLearning/python.ipynb#Y640sZmlsZQ%3D%3D?line=7'>8</a>\u001b[0m         \u001b[39m# Llobal variable sum referenced before assignment\u001b[39;00m\n\u001b[0;32m      <a href='vscode-notebook-cell:/e%3A/GitHub/pythonLearning/python.ipynb#Y640sZmlsZQ%3D%3D?line=8'>9</a>\u001b[0m         \u001b[39msum\u001b[39m \u001b[39m=\u001b[39m a \u001b[39m+\u001b[39m b  \u001b[39m# Local var(因為在function內update)\u001b[39;00m\n\u001b[0;32m     <a href='vscode-notebook-cell:/e%3A/GitHub/pythonLearning/python.ipynb#Y640sZmlsZQ%3D%3D?line=9'>10</a>\u001b[0m     \u001b[39mprint\u001b[39m(\u001b[39msum\u001b[39m)\n",
      "\u001b[1;31mUnboundLocalError\u001b[0m: cannot access local variable 'sum' where it is not associated with a value"
     ]
    }
   ],
   "source": [
    "sum = 5\n",
    "\n",
    "\n",
    "def add(a, b):\n",
    "    print(a, b)\n",
    "    if sum != 0:  # 因為下一行,所以sum是Local variable,\n",
    "        # 此行卻在sum被assign值之前被引用·所ERROR\n",
    "        # Llobal variable sum referenced before assignment\n",
    "        sum = a + b  # Local var(因為在function內update)\n",
    "    print(sum)  # refer Lobal var: sum\n",
    "\n",
    "\n",
    "add(4, 8)\n",
    "print(sum)  # refer Global var: sum"
   ]
  },
  {
   "cell_type": "markdown",
   "metadata": {},
   "source": [
    "### [EX10-5D]Local variable vs. Global variable\n"
   ]
  },
  {
   "cell_type": "code",
   "execution_count": 9,
   "metadata": {},
   "outputs": [
    {
     "name": "stdout",
     "output_type": "stream",
     "text": [
      "4 8\n",
      "12\n",
      "12\n"
     ]
    }
   ],
   "source": [
    "sum = 5\n",
    "\n",
    "\n",
    "def add(a, b):\n",
    "    global sum  # 宣告 sum 是 Global var\n",
    "    print(a, b)\n",
    "    if sum != 0:  # refer Global var: sum\n",
    "        sum = a + b  # refer Global var: sum\n",
    "    print(sum)  # refer Global var: sum\n",
    "\n",
    "\n",
    "add(4, 8)\n",
    "print(sum)"
   ]
  },
  {
   "cell_type": "markdown",
   "metadata": {},
   "source": [
    "### [EX10-6A] function: 參數傳遞(mutable / immutable\n"
   ]
  },
  {
   "cell_type": "code",
   "execution_count": 10,
   "metadata": {},
   "outputs": [
    {
     "name": "stdout",
     "output_type": "stream",
     "text": [
      "======== integer : immutable object ========\n",
      "Before: 10\n",
      "After: 10\n",
      "\n",
      "======== list : mutable object ========\n",
      "Before [100, 20]\n",
      "After [10, 20, 30]\n",
      "\n",
      "== list : mutable object (Error: assigned to other object)==\n",
      "2287837313216\n",
      "Before [100, 20]\n",
      "2287837312960\n",
      "After [100, 20]\n",
      "\n",
      "======== string : immutable object ========\n",
      "2287810750064\n",
      "Before xyz\n"
     ]
    },
    {
     "ename": "TypeError",
     "evalue": "'str' object does not support item assignment",
     "output_type": "error",
     "traceback": [
      "\u001b[1;31m---------------------------------------------------------------------------\u001b[0m",
      "\u001b[1;31mTypeError\u001b[0m                                 Traceback (most recent call last)",
      "\u001b[1;32me:\\GitHub\\pythonLearning\\python.ipynb 儲存格 233\u001b[0m line \u001b[0;36m5\n\u001b[0;32m     <a href='vscode-notebook-cell:/e%3A/GitHub/pythonLearning/python.ipynb#Y642sZmlsZQ%3D%3D?line=48'>49</a>\u001b[0m \u001b[39mprint\u001b[39m(\u001b[39mid\u001b[39m(s))\n\u001b[0;32m     <a href='vscode-notebook-cell:/e%3A/GitHub/pythonLearning/python.ipynb#Y642sZmlsZQ%3D%3D?line=49'>50</a>\u001b[0m \u001b[39mprint\u001b[39m(\u001b[39m\"\u001b[39m\u001b[39mBefore\u001b[39m\u001b[39m\"\u001b[39m, s)\n\u001b[1;32m---> <a href='vscode-notebook-cell:/e%3A/GitHub/pythonLearning/python.ipynb#Y642sZmlsZQ%3D%3D?line=50'>51</a>\u001b[0m fun4(s)  \u001b[39m#\u001b[39;00m\n\u001b[0;32m     <a href='vscode-notebook-cell:/e%3A/GitHub/pythonLearning/python.ipynb#Y642sZmlsZQ%3D%3D?line=51'>52</a>\u001b[0m \u001b[39mprint\u001b[39m(\u001b[39m\"\u001b[39m\u001b[39mAfter:\u001b[39m\u001b[39m\"\u001b[39m, s)\n",
      "\u001b[1;32me:\\GitHub\\pythonLearning\\python.ipynb 儲存格 233\u001b[0m line \u001b[0;36m4\n\u001b[0;32m     <a href='vscode-notebook-cell:/e%3A/GitHub/pythonLearning/python.ipynb#Y642sZmlsZQ%3D%3D?line=41'>42</a>\u001b[0m s \u001b[39m=\u001b[39m \u001b[39m\"\u001b[39m\u001b[39m800\u001b[39m\u001b[39m\"\u001b[39m\n\u001b[0;32m     <a href='vscode-notebook-cell:/e%3A/GitHub/pythonLearning/python.ipynb#Y642sZmlsZQ%3D%3D?line=42'>43</a>\u001b[0m \u001b[39m# print(id(s))\u001b[39;00m\n\u001b[1;32m---> <a href='vscode-notebook-cell:/e%3A/GitHub/pythonLearning/python.ipynb#Y642sZmlsZQ%3D%3D?line=43'>44</a>\u001b[0m s[\u001b[39m0\u001b[39;49m] \u001b[39m=\u001b[39m \u001b[39m\"\u001b[39m\u001b[39mH\u001b[39m\u001b[39m\"\u001b[39m\n",
      "\u001b[1;31mTypeError\u001b[0m: 'str' object does not support item assignment"
     ]
    }
   ],
   "source": [
    "# integer : immutable object\n",
    "def fun1(a):\n",
    "    a = 0\n",
    "\n",
    "\n",
    "print(\"======== integer : immutable object ========\")\n",
    "a = 10\n",
    "print(\"Before:\", a)\n",
    "fun1(a)\n",
    "print(\"After:\", a)\n",
    "\n",
    "\n",
    "# list : mutable object -----------------------------------------------\n",
    "def fun2(T):\n",
    "    T[0] = 10\n",
    "    T.append(30)\n",
    "\n",
    "\n",
    "print(\"\\n======== list : mutable object ========\")\n",
    "t = [100, 20]\n",
    "print(\"Before\", t)\n",
    "fun2(t)\n",
    "print(\"After\", t)\n",
    "\n",
    "\n",
    "# list : mutable object (Error: assigned to other object) -------------\n",
    "def fun3(t):\n",
    "    t = [10, 20, 30]\n",
    "    print(id(t))\n",
    "\n",
    "\n",
    "print(\"\\n== list : mutable object (Error: assigned to other object)==\")\n",
    "t = [100, 20]\n",
    "print(id(t))\n",
    "print(\"Before\", t)\n",
    "fun3(t)\n",
    "print(\"After\", t)\n",
    "\n",
    "\n",
    "# string : immutable object -------------------------------------------\n",
    "def fun4(s):\n",
    "    s = \"800\"\n",
    "    # print(id(s))\n",
    "    s[0] = \"H\"  # TypeError: 'str' object does not support item assignment\n",
    "\n",
    "\n",
    "print(\"\\n======== string : immutable object ========\")\n",
    "s = \"xyz\"\n",
    "print(id(s))\n",
    "print(\"Before\", s)\n",
    "fun4(s)  #\n",
    "print(\"After:\", s)"
   ]
  },
  {
   "cell_type": "markdown",
   "metadata": {},
   "source": [
    "### [EX10-6B] mutable/immutable, identity\n"
   ]
  },
  {
   "cell_type": "code",
   "execution_count": 12,
   "metadata": {},
   "outputs": [
    {
     "name": "stdout",
     "output_type": "stream",
     "text": [
      "140703229266648\n",
      "140703229266968\n",
      "=======================\n",
      "140703228347616\n",
      "2287371115312\n",
      "=======================\n",
      "2287837618368\n",
      "2287837618368\n",
      "['Y', 'B', 'C']\n"
     ]
    }
   ],
   "source": [
    "# integer : immutable object\n",
    "a = 10\n",
    "print(id(a))  # identity\n",
    "a = 20\n",
    "print(id(a))\n",
    "\n",
    "print(\"=======================\")\n",
    "# string : immutable object\n",
    "s = \"ABC\"\n",
    "print(id(s))\n",
    "s = \"DEF\"\n",
    "print(id(s))\n",
    "# s[0] = 'Y' #TypeError: 'str' object does not support item assignment\n",
    "# print(s)\n",
    "\n",
    "print(\"=======================\")\n",
    "# list : mutable object\n",
    "list1 = [\"A\", \"B\", \"C\"]\n",
    "print(id(list1))\n",
    "list1[0] = \"Y\"\n",
    "print(id(list1))\n",
    "print(list1)"
   ]
  },
  {
   "cell_type": "markdown",
   "metadata": {},
   "source": [
    "### [EX10-6C] 硬做成 call by reference 的效果\n"
   ]
  },
  {
   "cell_type": "code",
   "execution_count": 13,
   "metadata": {},
   "outputs": [
    {
     "name": "stdout",
     "output_type": "stream",
     "text": [
      "Before CLEAR(): a = 100\n",
      "After CLEAR(): a = 100\n",
      "========================\n",
      "Before CLEAR(): b = 100\n",
      "After CLEAR(): b = 0\n"
     ]
    }
   ],
   "source": [
    "def CLEAR(a):\n",
    "    a = 0\n",
    "\n",
    "\n",
    "a = 100\n",
    "print(\"Before CLEAR(): a =\", a)\n",
    "CLEAR(a)\n",
    "print(\"After CLEAR(): a =\", a)\n",
    "\n",
    "print(\"========================\")\n",
    "\n",
    "\n",
    "def CLEAR(b):  # 硬做成 call byreference 的效果\n",
    "    b = 0\n",
    "    return b\n",
    "\n",
    "\n",
    "b = 100\n",
    "print(\"Before CLEAR(): b =\", b)\n",
    "b = CLEAR(b)\n",
    "print(\"After CLEAR(): b =\", b)"
   ]
  },
  {
   "cell_type": "markdown",
   "metadata": {},
   "source": [
    "## PT\n"
   ]
  },
  {
   "cell_type": "markdown",
   "metadata": {},
   "source": [
    "### [PT10-1]員工程式語言專長登錄，以 function 方式\n"
   ]
  },
  {
   "cell_type": "code",
   "execution_count": 10,
   "metadata": {},
   "outputs": [
    {
     "name": "stdout",
     "output_type": "stream",
     "text": [
      "================ Original =================\n",
      "No.1: C JAVA \n",
      "No.2: JAVA PHP R \n",
      "No.3: C \n",
      "No.4: C++ PYTHON \n",
      "\n",
      "====== PL-Register (ENTER for exit) ========\n",
      "\n",
      "====== PL-Register (ENTER for exit) ========\n",
      "\n",
      "====== PL-Register (ENTER for exit) ========\n",
      "================ Updated =================\n",
      "No.1: C JAVA \n",
      "No.2: JAVA PHP R \n",
      "No.3: C \n",
      "No.4: C++ PYTHON \n",
      "No.5: C JAVA R \n",
      "No.6: PASCAL \n",
      "No.7: FORTRAN \n",
      "\n",
      "============== All PLs (8) ==============\n",
      "(1) C\n",
      "(2) C++\n",
      "(3) FORTRAN\n",
      "(4) JAVA\n",
      "(5) PASCAL\n",
      "(6) PHP\n",
      "(7) PYTHON\n",
      "(8) R\n",
      "\n",
      "====== Project Team Need? (ENTER for exit) ========\n",
      "-------------\n",
      "+++ YES\n"
     ]
    }
   ],
   "source": [
    "emp = [{\"C\", \"JAVA\"}, {\"JAVA\", \"PHP\", \"R\"}, {\"C\"}, {\"PYTHON\", \"C++\"}]\n",
    "\n",
    "\n",
    "def showTable(title):\n",
    "    print(f\"================ {title} =================\")\n",
    "    for num in range(0, len(emp)):\n",
    "        if len(emp[num]) == 0:\n",
    "            break\n",
    "        print(\"No.%d: \" % (num + 1), end=\"\")\n",
    "        for language in sorted(list(emp[num])):\n",
    "            print(language, end=\" \")\n",
    "        print()\n",
    "\n",
    "\n",
    "def PL_Reg():  # 供新員工登錄程式語言專長\n",
    "    print(\"\\n====== PL-Register (ENTER for exit) ========\")\n",
    "    emp.append(set())\n",
    "    while True:\n",
    "        if len(emp[-1]) >= 3:\n",
    "            break\n",
    "        language = str(input(\"*** PL:\")).upper()\n",
    "        if language == \"\":\n",
    "            break\n",
    "        else:\n",
    "            emp[-1].add(language)\n",
    "\n",
    "\n",
    "def Team():  # 檢查團隊組成?\n",
    "    print(\"\\n====== Project Team Need? (ENTER for exit) ========\")\n",
    "    needLanguages = set()\n",
    "    while True:\n",
    "        needLanguage = str(input(\"*** PL:\")).upper()\n",
    "        if needLanguage == \"\":\n",
    "            break\n",
    "        else:\n",
    "            needLanguages.add(needLanguage)\n",
    "    print(\"-------------\")\n",
    "    if needLanguages.issubset(languages):\n",
    "        print(\"+++ YES\")\n",
    "    else:\n",
    "        print(\"+++ NO\")\n",
    "\n",
    "\n",
    "showTable(\"Original\")\n",
    "\n",
    "while True:\n",
    "    PL_Reg()\n",
    "    print(\"----------------\")\n",
    "    if input(\"Next Emp?(Y/N)\").upper() != \"Y\":\n",
    "        print()\n",
    "        break\n",
    "\n",
    "showTable(\"Updated\")\n",
    "\n",
    "languages = set()\n",
    "for num in range(0, len(emp)):\n",
    "    for language in sorted(list(emp[num])):\n",
    "        languages.add(language)\n",
    "\n",
    "print(f\"\\n============== All PLs ({len(languages)}) ==============\")\n",
    "tmp = sorted(list(languages))\n",
    "for i in range(0, len(languages)):\n",
    "    print(f\"({i+1}) {tmp[i]}\")\n",
    "\n",
    "Team()"
   ]
  },
  {
   "cell_type": "markdown",
   "metadata": {},
   "source": [
    "### [PT10-2] 進制轉換: 十進位轉十六進位\n"
   ]
  },
  {
   "cell_type": "code",
   "execution_count": 11,
   "metadata": {},
   "outputs": [
    {
     "name": "stdout",
     "output_type": "stream",
     "text": [
      "===== Decimal to Hexadecimal (-1 for exit) ======\n",
      "The Hexadecimal number = \n",
      "\n",
      "===== Decimal to Hexadecimal (-1 for exit) ======\n",
      "*** BYE!\n"
     ]
    }
   ],
   "source": [
    "# function: Dec-0~15 to Hex-'0'~'F'\n",
    "def DecToHex(d):\n",
    "    if d > 9 and d < 16:\n",
    "        return chr(ord(\"A\") + (d - 10))\n",
    "    else:\n",
    "        return d\n",
    "\n",
    "\n",
    "# function: Decimal-number to Hexadecimal-number\n",
    "def DecimalToHexadecimal(D):\n",
    "    hexNum = \"\"\n",
    "    if D == 0:\n",
    "        return \"0\"\n",
    "    while D > 0:\n",
    "        hexNum = str(DecToHex(int(D % 16))) + hexNum\n",
    "        D = int(D / 16)\n",
    "    return hexNum\n",
    "\n",
    "\n",
    "while True:\n",
    "    print(\"===== Decimal to Hexadecimal (-1 for exit) ======\")\n",
    "    number = int(input(\"The Decimal number = \"))\n",
    "    if number == -1:\n",
    "        print(\"*** BYE!\")\n",
    "        break\n",
    "    else:\n",
    "        print(f\"The Hexadecimal number = {DecimalToHexadecimal(number)}\\n\")"
   ]
  },
  {
   "cell_type": "markdown",
   "metadata": {},
   "source": [
    "## HW\n"
   ]
  },
  {
   "cell_type": "markdown",
   "metadata": {},
   "source": [
    "### [HW10-1] 班級成績統計:以 function 方式，改寫[HW9-1]\n"
   ]
  },
  {
   "cell_type": "code",
   "execution_count": 11,
   "metadata": {},
   "outputs": [
    {
     "name": "stdout",
     "output_type": "stream",
     "text": [
      "===== English-Pass (-1 for exit) =====\n",
      "*** Wrong No.\n",
      "\n",
      "+++ English-Pass(4):[1, 2, 4, 7]\n",
      "+++ English-Down(5):[3, 5, 6, 8, 9]\n",
      "===== Mathematics-Pass (-1 for exit) =====\n",
      "*** Wrong No.\n",
      "\n",
      "+++ Mathematics-Pass(4):[2, 4, 6, 8]\n",
      "+++ Mathematics-Down(5):[1, 3, 5, 7, 9]\n",
      "\n",
      "=======================================\n",
      "+++ All-Pass(2):[2, 4]\n",
      "+++ All-Down(3):[3, 5, 9]\n",
      "+++ Eng-Pass Math-Down(2):[1, 7]\n",
      "+++ Eng-Down Math-Pass(2):[6, 8]\n",
      "=== No. === Eng === Math ===\n",
      "     1       P       D\n",
      "     2       P       P\n",
      "     3       D       D\n",
      "     4       P       P\n",
      "     5       D       D\n",
      "     6       D       P\n",
      "     7       P       D\n",
      "     8       D       P\n",
      "     9       D       D\n"
     ]
    }
   ],
   "source": [
    "math_pass = set()\n",
    "eng_pass = set()\n",
    "\n",
    "classmates = int(input(\"班級人數:\"))\n",
    "\n",
    "total_classmates = set()\n",
    "\n",
    "for i in range(classmates):\n",
    "    total_classmates.add((i + 1))\n",
    "\n",
    "\n",
    "def input_set(course, pass_set):\n",
    "    print(f\"\\n===== {course}-Pass (-1 for exit) =====\")\n",
    "    while True:\n",
    "        number = int(input(\"*** No.:\"))\n",
    "        if number == -1:\n",
    "            break\n",
    "        elif number < 0 or number > classmates:\n",
    "            print(\"*** Wrong No.\")\n",
    "        else:\n",
    "            pass_set.add(number)\n",
    "\n",
    "    print(f\"\\n+++ {course}-Pass({len(pass_set)}):{sorted(list(pass_set))}\")\n",
    "    print(\n",
    "        f\"\\n+++ {course}-Down({len(total_classmates - pass_set)}):{sorted(list(total_classmates - pass_set))}\"\n",
    "    )\n",
    "\n",
    "\n",
    "def print_result(title, result_set):\n",
    "    print(f\"+++ {title}({len(result_set)}):{sorted(list(result_set))}\\n\")\n",
    "\n",
    "\n",
    "def checkPass(num, check_set):\n",
    "    if num in check_set:\n",
    "        return \"P\"\n",
    "    else:\n",
    "        return \"D\"\n",
    "\n",
    "\n",
    "input_set(\"English\", eng_pass)\n",
    "input_set(\"Mathematics\", math_pass)\n",
    "print(\"\\n=======================================\\n\")\n",
    "print_result(\"All-Pass\", (eng_pass & math_pass))\n",
    "print_result(\"All-Down\", (total_classmates - (eng_pass | math_pass)))\n",
    "print_result(\"Eng-Pass Math-Down\", (eng_pass - math_pass))\n",
    "print_result(\"Eng-Down Math-Pass\", (math_pass - eng_pass))\n",
    "\n",
    "print(\"=== No. === Eng === Math ===\")\n",
    "for i in range(classmates):\n",
    "    engIsPass = checkPass(i + 1, eng_pass)\n",
    "    mathIsPass = checkPass(i + 1, math_pass)\n",
    "    print(f\"     {i+1}       {engIsPass}       {mathIsPass}\")"
   ]
  },
  {
   "cell_type": "markdown",
   "metadata": {},
   "source": [
    "### [HW10-2] 計算日期差距：以 function 方式，改寫[HW5-2]\n"
   ]
  },
  {
   "cell_type": "code",
   "execution_count": 2,
   "metadata": {},
   "outputs": [
    {
     "name": "stdout",
     "output_type": "stream",
     "text": [
      "======= Input Day1 =========\n",
      "***Error!   Month range:[1-12]\n",
      "-----------------\n",
      "*** Error!   FEB's day range:[1-28]\n",
      "-----------------\n",
      "======= Input Day2 =========\n",
      "============================\n",
      "*** 1/2 : DAY 2 in the year\n",
      "*** 12/31 : DAY 365 in the year\n",
      "\n",
      "*** From 1/2 to 12/31: 363 day(s)\n"
     ]
    }
   ],
   "source": [
    "D = [31, 28, 31, 30, 31, 30, 31, 31, 30, 31, 30, 31]\n",
    "M = [\"JAN\", \"FEB\", \"MAR\", \"APR\", \"MAY\", \"JUN\", \"JUL\", \"AUG\", \"SEP\", \"OCT\", \"NOV\", \"DEC\"]\n",
    "\n",
    "month = []\n",
    "day = []\n",
    "\n",
    "\n",
    "# Input Day 1: Input_Date(1) or Day 2: Input_Date(2), return m, d\n",
    "def Input_Date(d12):\n",
    "    print(f\"======= Input Day{d12} ========\")\n",
    "    while True:\n",
    "        m = int(input(\"Month:\"))\n",
    "        d = int(input(\"Day:\"))\n",
    "        if m > 12 or m < 1:\n",
    "            print(\"***Error!   Month range:[1-12]\")\n",
    "            print(\"-----------------\")\n",
    "        elif d > D[m - 1] or d < 1:\n",
    "            print(f\"*** Error!   {M[m-1]}'s day range:[1-{D[m-1]}]\")\n",
    "            print(\"-----------------\")\n",
    "        else:\n",
    "            return m, d\n",
    "\n",
    "\n",
    "for i in range(2):\n",
    "    m, d = Input_Date(i + 1)\n",
    "    month.append(m)\n",
    "    day.append(d)\n",
    "\n",
    "\n",
    "def swapDate():\n",
    "    month[0], month[1] = month[1], month[0]\n",
    "    day[0], day[1] = day[1], day[0]\n",
    "\n",
    "\n",
    "if month[0] > month[1]:\n",
    "    swapDate()\n",
    "elif month[0] == month[1]:\n",
    "    if day[0] > day[1]:\n",
    "        swapDate()\n",
    "\n",
    "\n",
    "# 計算 m/d 是一年的第幾天 ，印出並回傳\n",
    "def Year_Days(m, d):\n",
    "    days = d\n",
    "\n",
    "    if m != 1:\n",
    "        for i in range(m - 1):\n",
    "            days += D[i]\n",
    "\n",
    "    print(f\"*** {m}/{d} : DAY {days} in the year\")\n",
    "    return days\n",
    "\n",
    "\n",
    "print(\"===========================\")\n",
    "d1 = Year_Days(month[0], day[0])\n",
    "d2 = Year_Days(month[1], day[1])\n",
    "\n",
    "print(f\"\\n*** From {month[0]}/{day[0]} to {month[1]}/{day[1]}: {d2-d1} day(s)\")"
   ]
  },
  {
   "cell_type": "markdown",
   "metadata": {},
   "source": [
    "### [HW10-3] 進制轉換: 十進位轉其他進位(2, 8, 16) (-1 for exit)。以 function 完成\n"
   ]
  },
  {
   "cell_type": "code",
   "execution_count": 6,
   "metadata": {},
   "outputs": [
    {
     "name": "stdout",
     "output_type": "stream",
     "text": [
      "======= Conversion  (-1 for exit) =======\n",
      "--------------------------\n",
      "The Binary number is 10000\n",
      "\n",
      "The Octal number is 20\n",
      "\n",
      "The Hexadecimal number is 10\n",
      "\n",
      "======= Conversion  (-1 for exit) =======\n",
      "--------------------------\n",
      "The Binary number is 11111111\n",
      "\n",
      "The Octal number is 377\n",
      "\n",
      "The Hexadecimal number is FF\n",
      "\n",
      "======= Conversion  (-1 for exit) =======\n",
      "--------------------------\n",
      "The Binary number is 11100\n",
      "\n",
      "The Octal number is 34\n",
      "\n",
      "The Hexadecimal number is 1C\n",
      "\n",
      "======= Conversion  (-1 for exit) =======\n",
      "*** BYE!\n"
     ]
    }
   ],
   "source": [
    "# function: Dec-number to Other-digit\n",
    "def DecToOther(d):\n",
    "    if d > 9 and d < 16:\n",
    "        return chr(ord(\"A\") + (d - 10))\n",
    "    else:\n",
    "        return d\n",
    "\n",
    "\n",
    "# function: Decimal-number to Other-number(b: base)\n",
    "def Conversion(D, b):\n",
    "    num = \"\"\n",
    "    if D == 0:\n",
    "        return \"0\"\n",
    "\n",
    "    if b == 2:\n",
    "        while D > 0:\n",
    "            num = str(DecToOther(int(D % 2))) + num\n",
    "            D = int(D / 2)\n",
    "    elif b == 8:\n",
    "        while D > 0:\n",
    "            num = str(DecToOther(int(D % 8))) + num\n",
    "            D = int(D / 8)\n",
    "    elif b == 16:\n",
    "        while D > 0:\n",
    "            num = str(DecToOther(int(D % 16))) + num\n",
    "            D = int(D / 16)\n",
    "    return num\n",
    "\n",
    "\n",
    "while True:\n",
    "    print(\"======= Conversion  (-1 for exit) =======\")\n",
    "    number = int(input(\"The Decimal number = \"))\n",
    "    if number == -1:\n",
    "        print(\"*** BYE!\")\n",
    "        break\n",
    "    else:\n",
    "        print(\"--------------------------\")\n",
    "        print(f\"The Binary number is {Conversion(number,2)}\")\n",
    "        print(f\"The Octal number is {Conversion(number,8)}\")\n",
    "        print(f\"The Hexadecimal number is {Conversion(number,16)}\\n\")"
   ]
  },
  {
   "cell_type": "markdown",
   "metadata": {},
   "source": [
    "# Unit 11\n"
   ]
  },
  {
   "cell_type": "markdown",
   "metadata": {},
   "source": [
    "## EX\n"
   ]
  },
  {
   "cell_type": "markdown",
   "metadata": {},
   "source": [
    "### [EX11-0] String\n"
   ]
  },
  {
   "cell_type": "code",
   "execution_count": 1,
   "metadata": {},
   "outputs": [
    {
     "name": "stdout",
     "output_type": "stream",
     "text": [
      "0123456\n",
      "01234\n",
      "456\n",
      "4560123\n",
      "==================\n",
      "6\n",
      "012345\n",
      "6\n",
      "==================\n",
      "length: 7\n",
      "lastIndex: 6\n",
      "\n",
      "6\n",
      "012345\n",
      "6\n"
     ]
    }
   ],
   "source": [
    "s = \"0123456\"\n",
    "print(s)\n",
    "print(s[0:5])\n",
    "print(s[4:])\n",
    "print(s[4:] + s[0:4])\n",
    "\n",
    "print(\"==================\")\n",
    "print(s[-1:])  # index(-1)代表final\n",
    "print(s[:-1])  # final的前一個\n",
    "print(s[-1])\n",
    "\n",
    "print(\"==================\")\n",
    "print(\"length:\", len(s))\n",
    "lastIndex = len(s) - 1\n",
    "print(\"lastIndex:\", lastIndex)\n",
    "print()\n",
    "print(s[lastIndex:])\n",
    "print(s[:lastIndex])\n",
    "print(s[lastIndex])"
   ]
  },
  {
   "cell_type": "markdown",
   "metadata": {},
   "source": [
    "### [EX11-1] Recursive function n!\n"
   ]
  },
  {
   "cell_type": "code",
   "execution_count": 2,
   "metadata": {},
   "outputs": [
    {
     "name": "stdout",
     "output_type": "stream",
     "text": [
      "+++ Recursive: 10! = 3628800\n",
      "+++ Iterative: 10! = 3628800\n"
     ]
    }
   ],
   "source": [
    "# Recursive function- call itself\n",
    "def fac(n):\n",
    "    if n == 0:\n",
    "        return 1\n",
    "    else:\n",
    "        return n * fac(n - 1)\n",
    "\n",
    "\n",
    "n = int(input(\"*** n= \"))\n",
    "print(\"+++ Recursive: %d! = %d\" % (n, fac(n)))\n",
    "# Iterative\n",
    "f = 1\n",
    "for i in range(1, n + 1):\n",
    "    f = f * i\n",
    "print(\"+++ Iterative: %d! = %d\" % (n, f))"
   ]
  },
  {
   "cell_type": "markdown",
   "metadata": {},
   "source": [
    "## PT\n"
   ]
  },
  {
   "cell_type": "markdown",
   "metadata": {},
   "source": [
    "### [PT11-1] Recursive function: DecimalToHexadecimal，改寫[PT10-2]\n"
   ]
  },
  {
   "cell_type": "code",
   "execution_count": 18,
   "metadata": {},
   "outputs": [
    {
     "name": "stdout",
     "output_type": "stream",
     "text": [
      "===== Decimal to Hexadecimal (-1 for exit) =====\n",
      "The Hexadecimal number = 0\n",
      "\n",
      "===== Decimal to Hexadecimal (-1 for exit) =====\n",
      "The Hexadecimal number = D\n",
      "\n",
      "===== Decimal to Hexadecimal (-1 for exit) =====\n",
      "The Hexadecimal number = FF\n",
      "\n",
      "===== Decimal to Hexadecimal (-1 for exit) =====\n",
      "The Hexadecimal number = 12C\n",
      "\n",
      "===== Decimal to Hexadecimal (-1 for exit) =====\n",
      "The Hexadecimal number = 12C\n",
      "\n",
      "===== Decimal to Hexadecimal (-1 for exit) =====\n",
      "*** BYE!\n"
     ]
    }
   ],
   "source": [
    "# function: Dec-0~15 to Hex-'0'~'F'\n",
    "def DecToHex(d):\n",
    "    if d > 9 and d < 16:\n",
    "        return chr(ord(\"A\") + (d - 10))\n",
    "    else:\n",
    "        return d\n",
    "\n",
    "\n",
    "# function: Decimal-number to Hexadecimal-number\n",
    "\n",
    "\n",
    "def DecimalToHexadecimal(D):\n",
    "    if D == 0:\n",
    "        return \"\"\n",
    "    else:\n",
    "        return DecimalToHexadecimal(int(D / 16)) + str(DecToHex(int(D % 16)))\n",
    "\n",
    "\n",
    "while True:\n",
    "    print(\"===== Decimal to Hexadecimal (-1 for exit) =====\")\n",
    "    number = int(input(\"The Decimal number = \"))\n",
    "    if number == -1:\n",
    "        print(\"*** BYE!\")\n",
    "        break\n",
    "    else:\n",
    "        hexDigit = DecimalToHexadecimal(number)\n",
    "        if len(hexDigit) == 0:\n",
    "            hexDigit = \"0\"\n",
    "        print(f\"The Hexadecimal number = {hexDigit}\\n\")"
   ]
  },
  {
   "cell_type": "markdown",
   "metadata": {},
   "source": [
    "### [PT11-2]Recursive function: Reverse string\n"
   ]
  },
  {
   "cell_type": "code",
   "execution_count": 27,
   "metadata": {},
   "outputs": [
    {
     "name": "stdout",
     "output_type": "stream",
     "text": [
      "===== Reverse String (-1 for exit) =====\n",
      "vda\n",
      "\n",
      "===== Reverse String (-1 for exit) =====\n",
      "iefjiej\n",
      "\n",
      "===== Reverse String (-1 for exit) =====\n",
      "kgpewkgkepwogko\n",
      "\n",
      "===== Reverse String (-1 for exit) =====\n",
      "*** BYE!\n"
     ]
    }
   ],
   "source": [
    "def reverseString(S):\n",
    "    if len(S) == 0:\n",
    "        return \"\"\n",
    "    else:\n",
    "        return S[-1] + reverseString(S[: len(S) - 1])\n",
    "\n",
    "\n",
    "while True:\n",
    "    print(\"===== Reverse String (-1 for exit) =====\")\n",
    "    s = input(\"s = \")\n",
    "    if s == \"-1\":\n",
    "        print(\"*** BYE!\")\n",
    "        break\n",
    "    else:\n",
    "        print(f\"{reverseString(s)}\")"
   ]
  },
  {
   "cell_type": "markdown",
   "metadata": {},
   "source": [
    "### [PT11-3]Recursive function: Fibonacci Sequence\n"
   ]
  },
  {
   "cell_type": "code",
   "execution_count": 29,
   "metadata": {},
   "outputs": [
    {
     "name": "stdout",
     "output_type": "stream",
     "text": [
      "=== Fibonacci Sequence ===\n",
      "Fib(0) = 0\n",
      "Fib(1) = 1\n",
      "Fib(2) = 1\n",
      "Fib(3) = 2\n",
      "Fib(4) = 3\n",
      "Fib(5) = 5\n",
      "Fib(6) = 8\n",
      "Fib(7) = 13\n"
     ]
    }
   ],
   "source": [
    "def Fib(n):\n",
    "    if n == 0:\n",
    "        return 0\n",
    "    elif n <= 2:\n",
    "        return 1\n",
    "    else:\n",
    "        return Fib(n - 1) + Fib(n - 2)\n",
    "\n",
    "\n",
    "num = int(input(\"n = \"))\n",
    "print(\"=== Fibonacci Sequence ===\")\n",
    "for i in range(num + 1):\n",
    "    print(f\"Fib({i}) = {Fib(i)}\")"
   ]
  },
  {
   "cell_type": "markdown",
   "metadata": {},
   "source": [
    "## HW\n"
   ]
  },
  {
   "cell_type": "markdown",
   "metadata": {},
   "source": [
    "### [HW11-1] Recursive function: GCD (m=0 or n=0 for exit )\n"
   ]
  },
  {
   "cell_type": "code",
   "execution_count": 30,
   "metadata": {},
   "outputs": [
    {
     "name": "stdout",
     "output_type": "stream",
     "text": [
      "===== GCD (m=0 or n=0 for exit) =====\n",
      "+++ GCD(13, 13) = 13\n",
      "===== GCD (m=0 or n=0 for exit) =====\n",
      "=====================================\n",
      "*** BYE!\n"
     ]
    }
   ],
   "source": [
    "def GCD(a, b):\n",
    "    c = a % b\n",
    "    if c == 0:\n",
    "        return b\n",
    "    else:\n",
    "        return GCD(b, c)\n",
    "\n",
    "\n",
    "def showExit():\n",
    "    print(\"=====================================\")\n",
    "    print(\"*** BYE!\")\n",
    "\n",
    "\n",
    "while True:\n",
    "    print(\"===== GCD (m=0 or n=0 for exit) =====\")\n",
    "    m = int(input(\"*** m = \"))\n",
    "    if m == 0:\n",
    "        showExit()\n",
    "        break\n",
    "    n = int(input(\"*** n = \"))\n",
    "    if n == 0:\n",
    "        showExit()\n",
    "        break\n",
    "    else:\n",
    "        if m < n:\n",
    "            m, n = n, m\n",
    "        print(f\"+++ GCD({m}, {n}) = {GCD(m,n)}\\n\")"
   ]
  },
  {
   "cell_type": "markdown",
   "metadata": {},
   "source": [
    "### [HW11-2]Recursive function: Palindrome 辨別迴文\n"
   ]
  },
  {
   "cell_type": "code",
   "execution_count": 1,
   "metadata": {},
   "outputs": [
    {
     "name": "stdout",
     "output_type": "stream",
     "text": [
      "===== Palindrome (-1 for exit) =====\n",
      "YES\n",
      "===== Palindrome (-1 for exit) =====\n",
      "YES\n",
      "===== Palindrome (-1 for exit) =====\n",
      "NO\n",
      "===== Palindrome (-1 for exit) =====\n",
      "YES\n",
      "===== Palindrome (-1 for exit) =====\n",
      "*** BYE!\n"
     ]
    }
   ],
   "source": [
    "def reverseString(S):\n",
    "    if len(S) == 0:\n",
    "        return \"\"\n",
    "    else:\n",
    "        return S[-1] + reverseString(S[: len(S) - 1])\n",
    "\n",
    "\n",
    "while True:\n",
    "    print(\"===== Palindrome (-1 for exit) =====\")\n",
    "    s = input(\"s = \")\n",
    "    if s == \"-1\":\n",
    "        print(\"*** BYE!\")\n",
    "        break\n",
    "    else:\n",
    "        rs = reverseString(s)\n",
    "        if s == rs:\n",
    "            print(\"YES\")\n",
    "        else:\n",
    "            print(\"NO\")"
   ]
  },
  {
   "cell_type": "markdown",
   "metadata": {},
   "source": [
    "### [HW11-3]Recursive function: Island?\n"
   ]
  },
  {
   "cell_type": "code",
   "execution_count": 34,
   "metadata": {},
   "outputs": [
    {
     "name": "stdout",
     "output_type": "stream",
     "text": [
      "=================\n",
      ". . # # . \n",
      ". # # . . \n",
      ". . . . # \n",
      "# # . . . \n",
      "# . . . . \n",
      "=================\n",
      "*** Ocean\n",
      "---------------\n",
      "*** Island=4\n",
      "---------------\n",
      "*** Ocean\n",
      "---------------\n",
      "*** Island=1\n",
      "---------------\n",
      "*** Island=3\n",
      "---------------\n",
      "=================\n",
      "Bye!\n"
     ]
    }
   ],
   "source": [
    "mapRange = int(input(\"N=\"))\n",
    "maps = [[\".\" for i in range(mapRange)] for j in range(mapRange)]\n",
    "visitedMap = [[0 for i in range(mapRange)] for j in range(mapRange)]\n",
    "tmp = []\n",
    "print(\"=================\")\n",
    "for i in range(mapRange):\n",
    "    lines = str(input())\n",
    "    tmp.append(lines)\n",
    "\n",
    "for i in range(mapRange):\n",
    "    for j in range(mapRange):\n",
    "        maps[i][j] = tmp[i][j:j+1]\n",
    "\n",
    "print(\"=================\")\n",
    "\n",
    "\n",
    "def isInMap(x, y, mapsRan):\n",
    "    if x >= 0 and y >= 0:\n",
    "        if x < mapsRan and y < mapsRan:\n",
    "            return True\n",
    "    return False\n",
    "\n",
    "\n",
    "def countIsland(\n",
    "    x,\n",
    "    y,\n",
    "):\n",
    "    if isInMap(x, y, mapRange):\n",
    "        if maps[x][y] == \".\":\n",
    "            return 0\n",
    "        elif visitedMap[x][y] != 1:\n",
    "            visitedMap[x][y] = 1\n",
    "            return (\n",
    "                1\n",
    "                + countIsland(x + 1, y)\n",
    "                + countIsland(x, y + 1)\n",
    "                + countIsland(x - 1, y)\n",
    "                + countIsland(x, y - 1)\n",
    "            )\n",
    "    return 0\n",
    "\n",
    "\n",
    "while True:\n",
    "    inxy = input(f\"Input x,y:(直到ENTER為止)\")\n",
    "    if inxy == \"\":\n",
    "        print(\"=================\")\n",
    "        print(\"Bye!\")\n",
    "        break\n",
    "    else:\n",
    "        xy = inxy.split(\",\")\n",
    "        x = int(xy[0])\n",
    "        y = int(xy[1])\n",
    "    if x < mapRange and y < mapRange:\n",
    "        if maps[x][y] == \".\":\n",
    "            print(\"*** Ocean\")\n",
    "        else:\n",
    "            print(f\"*** Island={countIsland(x,y)}\")\n",
    "            visitedMap = [[0 for i in range(mapRange)]\n",
    "                          for j in range(mapRange)]\n",
    "        print(\"---------------\")"
   ]
  },
  {
   "cell_type": "code",
   "execution_count": 30,
   "metadata": {},
   "outputs": [
    {
     "name": "stdout",
     "output_type": "stream",
     "text": [
      ".\n",
      ".\n",
      "#\n",
      "#\n",
      ".\n"
     ]
    }
   ],
   "source": [
    "s = \"..##.\"\n",
    "for i in range(5):\n",
    "    print(s[i:i+1])\n",
    "    \n",
    "    for i in range(mapRange):\n",
    "    for j in range(mapRange):\n",
    "        print(maps[i][j], end=\" \")\n",
    "    print()"
   ]
  },
  {
   "cell_type": "markdown",
   "metadata": {},
   "source": [
    "# Unit 12\n"
   ]
  },
  {
   "cell_type": "markdown",
   "metadata": {},
   "source": [
    "## EX\n"
   ]
  },
  {
   "cell_type": "markdown",
   "metadata": {},
   "source": [
    "### [EX12-1]String: Immutable object\n"
   ]
  },
  {
   "cell_type": "code",
   "execution_count": 2,
   "metadata": {},
   "outputs": [
    {
     "name": "stdout",
     "output_type": "stream",
     "text": [
      "[10, 20, 30, 40, 50, 60, 70]\n",
      "[10, 20, 30, 0, 50, 60, 70]\n",
      "---------------------------------\n",
      "0123456\n",
      "ABCXDEF\n",
      "ABCYDEF\n",
      "---------------------------------\n",
      "01234567\n",
      "ABCXXDEF\n",
      "ABCYYDEF\n"
     ]
    }
   ],
   "source": [
    "# List : Mutable object\n",
    "a = [10, 20, 30, 40, 50, 60, 70]\n",
    "print(a)\n",
    "a[3] = 0\n",
    "print(a)\n",
    "print(\"---------------------------------\")\n",
    "\n",
    "print(\"0123456\")\n",
    "# String : Immutable object\n",
    "# 變更字串內容?\n",
    "b = \"ABCXDEF\"\n",
    "print(b)\n",
    "\n",
    "# ERROR: 'str' object does not support item assignment\n",
    "# b[3] = 'Y'\n",
    "# OK: New object\n",
    "# b = \"ABCYDEF\"\n",
    "\n",
    "# OK: New object\n",
    "b = b[0:3] + \"Y\" + b[4:]\n",
    "print(b)\n",
    "print(\"---------------------------------\")\n",
    "\n",
    "print(\"01234567\")\n",
    "# Replace\n",
    "c = \"ABCXXDEF\"\n",
    "print(c)\n",
    "r = \"YY\"\n",
    "start = 3\n",
    "c = c[0:start] + r + c[start + len(r) :]\n",
    "# c[0:3]\"ABC\" \"YY\" + c[5:] \"DEF\"\n",
    "print(c)"
   ]
  },
  {
   "cell_type": "markdown",
   "metadata": {},
   "source": [
    "### [EX12-2]String Search\n"
   ]
  },
  {
   "cell_type": "code",
   "execution_count": 3,
   "metadata": {},
   "outputs": [
    {
     "name": "stdout",
     "output_type": "stream",
     "text": [
      "0123456789\n",
      "ABCXXDEXXF\n",
      "Found XX at index:3\n",
      "Found XX at index:7\n"
     ]
    }
   ],
   "source": [
    "i = \"0123456789\"\n",
    "c = \"ABCXXDEXXF\"\n",
    "print(i)\n",
    "print(c)\n",
    "\n",
    "t = \"XX\"\n",
    "f1 = c.find(t)\n",
    "if f1 == -1:\n",
    "    print(\"Not found\")\n",
    "else:\n",
    "    print(\"Found %s at index:%d\" % (t, f1))\n",
    "\n",
    "# string.find(value, start, end)\n",
    "# start: Optional. Where to start the search. Default is O\n",
    "# end: Optional. Where to end the search. Default is to the end of the string\n",
    "# return -1 if not found\n",
    "f2 = c.find(t, f1 + 1)\n",
    "if f2 == -1:\n",
    "    print(\"Not found\")\n",
    "else:\n",
    "    print(\"Found %s at index:%d\" % (t, f2))"
   ]
  },
  {
   "cell_type": "markdown",
   "metadata": {},
   "source": [
    "### [EX12-3]String Replace\n"
   ]
  },
  {
   "cell_type": "code",
   "execution_count": 4,
   "metadata": {},
   "outputs": [
    {
     "name": "stdout",
     "output_type": "stream",
     "text": [
      "012345678\n",
      "ABCXXDEF\n",
      "ABCYYYDEF\n"
     ]
    }
   ],
   "source": [
    "c = \"ABCXXDEF\"\n",
    "print(\"012345678\")\n",
    "print(c)\n",
    "t = \"XX\"\n",
    "r = \"YYY\"\n",
    "f = c.find(t)  # f = 3\n",
    "c = c[0:f] + r + c[f + len(t) :]\n",
    "# c[0:3] \"ABC\" + \"YYY\" + c[5:]\"DEF\"\n",
    "print(c)"
   ]
  },
  {
   "cell_type": "markdown",
   "metadata": {},
   "source": [
    "## PT\n"
   ]
  },
  {
   "cell_type": "markdown",
   "metadata": {},
   "source": [
    "### [PT12-1] String:Search(找出 substring 所出現的位置)\n"
   ]
  },
  {
   "cell_type": "code",
   "execution_count": null,
   "metadata": {},
   "outputs": [],
   "source": [
    "i = \"0123456789ABCDE\"\n",
    "s = \"abxxycdxxyxxxyf\"\n",
    "\n",
    "print(i)\n",
    "print(s)\n",
    "\n",
    "print(\"========== String Searching ==========\")\n",
    "\n",
    "target = str(input(\"*** Target = \"))\n",
    "\n",
    "print(\"--------------------------\")\n",
    "\n",
    "subStringFinds = []\n",
    "\n",
    "index = 0\n",
    "\n",
    "while index < len(s):\n",
    "    finds = s.find(target, index)\n",
    "    if finds == -1:\n",
    "        break\n",
    "    else:\n",
    "        subStringFinds.append(finds)\n",
    "        index = finds + 1\n",
    "\n",
    "\n",
    "print(f\"+++ Number of Occurrences: {len(subStringFinds)}\")\n",
    "for find in subStringFinds:\n",
    "    print(f\"+++ Found {target} at index : {find}\")"
   ]
  },
  {
   "cell_type": "markdown",
   "metadata": {},
   "source": [
    "### [PT12-2] Sentence Analysis\n"
   ]
  },
  {
   "cell_type": "code",
   "execution_count": null,
   "metadata": {},
   "outputs": [],
   "source": [
    "print(\"======== Sentence Analysis ========\")\n",
    "sentence = str(input(\"*** Sentence:\"))\n",
    "print(\"===================================\\n\")\n",
    "\n",
    "\n",
    "def isAlphabet(s):\n",
    "    if ord(s) >= 65 and ord(s) <= 90:\n",
    "        return True\n",
    "    if ord(s) >= 97 and ord(s) <= 122:\n",
    "        return True\n",
    "    return False\n",
    "\n",
    "\n",
    "words = []\n",
    "letters = {}\n",
    "tmpword = \"\"\n",
    "for i in sentence:\n",
    "    if isAlphabet(i):\n",
    "        tmpword += i\n",
    "        i = i.upper()\n",
    "        if i in letters:\n",
    "            letters[i] += 1\n",
    "        else:\n",
    "            letters[i] = 1\n",
    "    else:\n",
    "        if tmpword != \"\":\n",
    "            words.append(tmpword)\n",
    "            tmpword = \"\"\n",
    "\n",
    "print(f\"----- {len(words)} words -----\")\n",
    "for i in words:\n",
    "    print(f\"*** {i}\")\n",
    "\n",
    "print(f\"\\n----- {len(letters)} letters -----\")\n",
    "for i in sorted(letters):\n",
    "    print(f\"*** {i}: {letters[i]}\")"
   ]
  },
  {
   "cell_type": "markdown",
   "metadata": {},
   "source": [
    "### [PT12-3]String:輸入由英文字母及正負整數組成的字串，印出整數總和。重複輸入，直到 ENTER 為止\n"
   ]
  },
  {
   "cell_type": "code",
   "execution_count": null,
   "metadata": {},
   "outputs": [],
   "source": [
    "def isNumber(s):\n",
    "    if ord(s) >= 48 and ord(s) <= 57:\n",
    "        return True\n",
    "    return False\n",
    "\n",
    "\n",
    "def isOperator(i):\n",
    "    l = [\"+\", \"-\", \"*\", \"/\"]\n",
    "    if i in l:\n",
    "        return True\n",
    "    return False\n",
    "\n",
    "\n",
    "while True:\n",
    "    word = str(input(\"Input = \"))\n",
    "    if word == \"\":\n",
    "        print(\"=============================\")\n",
    "        print(\"*** Bye!\")\n",
    "        break\n",
    "    words = []\n",
    "    letters = {}\n",
    "    tmpword = \"\"\n",
    "    for i in word:\n",
    "        if isNumber(i):\n",
    "            tmpword += i\n",
    "        elif isOperator(i):\n",
    "            words.append(tmpword)\n",
    "            tmpword = \"\"\n",
    "            tmpword += i\n",
    "        else:\n",
    "            if tmpword != \"\":\n",
    "                words.append(tmpword)\n",
    "                tmpword = \"\"\n",
    "    if tmpword != \"\":\n",
    "        words.append(tmpword)\n",
    "    result = 0\n",
    "    for j in words:\n",
    "        if j != \"\":\n",
    "            result += int(j)\n",
    "    print(f\"*** result = {result}\")\n",
    "    print(\"=============================\")"
   ]
  },
  {
   "cell_type": "markdown",
   "metadata": {},
   "source": [
    "## HW\n"
   ]
  },
  {
   "cell_type": "markdown",
   "metadata": {},
   "source": [
    "### [HW12-1]Search a substring\n"
   ]
  },
  {
   "cell_type": "code",
   "execution_count": 5,
   "metadata": {},
   "outputs": [
    {
     "name": "stdout",
     "output_type": "stream",
     "text": [
      "================ Search a word ================\n",
      "This is a book. That is a pen. That is a dog.\n",
      "-------------------------\n",
      "--------------------------------------\n",
      "Th[is] is a book. That is a pen. That is a dog.\n",
      "-------------------------\n",
      "--------------------------------------\n",
      "This [is] a book. That is a pen. That is a dog.\n",
      "-------------------------\n",
      "--------------------------------------\n",
      "This is a book. That [is] a pen. That is a dog.\n",
      "-------------------------\n",
      "--------------------------------------\n",
      "This is a book. That is a pen. That [is] a dog.\n",
      "-------------------------\n",
      "*** BYE!\n"
     ]
    }
   ],
   "source": [
    "sentence = str(input(\"*** Sentences:\"))\n",
    "\n",
    "print(\"================ Search a word ================\")\n",
    "print(sentence)\n",
    "print(\"-------------------------\")\n",
    "target = str(input(\">>> Search:\"))\n",
    "\n",
    "\n",
    "notFound = True\n",
    "while index < len(sentence):\n",
    "    finds = sentence.find(target, index)\n",
    "    if finds == -1:\n",
    "        if notFound:\n",
    "            print(\"*** Not found!\")\n",
    "        print(\"*** BYE!\")\n",
    "        break\n",
    "    else:\n",
    "        notFound = False\n",
    "        index = finds + 1\n",
    "        print(\"--------------------------------------\")\n",
    "        print(\n",
    "            f\"+++ {sentence[0:finds]}[{target}]{sentence[finds+len(target):]}\")\n",
    "        print(\"-------------------------\")\n",
    "        next = str(input(\">> Next/End:(n/e)\"))\n",
    "        if next == \"e\":\n",
    "            print(\"*** BYE!\")\n",
    "            break"
   ]
  },
  {
   "cell_type": "markdown",
   "metadata": {},
   "source": [
    "### [HW12-2]Guess the word: 猜字遊戲(每次猜一個字母)\n"
   ]
  },
  {
   "cell_type": "code",
   "execution_count": 6,
   "metadata": {},
   "outputs": [
    {
     "name": "stdout",
     "output_type": "stream",
     "text": [
      "========== Guess the word (0 for exit) ==========\n",
      "+++ Not in!\n",
      "+++ Already in!\n",
      "--------------------------------------\n",
      "+++ The word is moon!\n",
      "+++ You missed 1 time(s).\n",
      "\n",
      "========== Guess the word (0 for exit) ==========\n",
      "+++ Not in!\n",
      "+++ Not in!\n",
      "--------------------------------------\n",
      "+++ The word is book!\n",
      "+++ You missed 2 time(s).\n",
      "\n",
      "========== Guess the word (0 for exit) ==========\n",
      "*** BYE!\n"
     ]
    }
   ],
   "source": [
    "S = [\"moon\", \"program\", \"book\", \"engine\", \"python\"]\n",
    "\n",
    "Exit = False\n",
    "while True and not Exit:\n",
    "    print(\"========== Guess the word (0 for exit) ==========\")\n",
    "    selectAnswer = int(input(\"*** Choose a question:(1~5)\"))\n",
    "    if selectAnswer == 0:\n",
    "        print(\"*** BYE!\")\n",
    "        break\n",
    "    answer = S[selectAnswer - 1]\n",
    "\n",
    "    missedTimes = 0\n",
    "    guestWords = \"\"\n",
    "    for i in range(len(answer)):\n",
    "        guestWords += \"*\"\n",
    "\n",
    "    while guestWords != answer and not Exit:\n",
    "        guestWord = str(input(f\">>> Guess a letter in {guestWords} = \"))\n",
    "        index = 0\n",
    "        if guestWord == \"0\":\n",
    "            Exit = True\n",
    "            print(\"*** BYE!\")\n",
    "            break\n",
    "        if guestWords.find(guestWord) != -1:\n",
    "            print(\"+++ Already in!\")\n",
    "        notFound = True\n",
    "        while index < len(answer):\n",
    "            findWord = answer.find(guestWord, index)\n",
    "            if findWord == -1:\n",
    "                if notFound:\n",
    "                    print(\"+++ Not in!\")\n",
    "                    missedTimes += 1\n",
    "                break\n",
    "            else:\n",
    "                notFound = False\n",
    "                index = findWord + 1\n",
    "                guestWords = (\n",
    "                    guestWords[0:findWord] + guestWord +\n",
    "                    guestWords[findWord + 1:]\n",
    "                )\n",
    "\n",
    "    if guestWords == answer:\n",
    "        print(\"--------------------------------------\")\n",
    "        print(f\"+++ The word is {answer}!\")\n",
    "        print(f\"+++ You missed {missedTimes} time(s).\\n\")"
   ]
  },
  {
   "cell_type": "markdown",
   "metadata": {},
   "source": [
    "# Unit 14\n"
   ]
  },
  {
   "cell_type": "markdown",
   "metadata": {},
   "source": [
    "## EX\n"
   ]
  },
  {
   "cell_type": "markdown",
   "metadata": {},
   "source": [
    "### [Ex14-1] Guess 10 Secs\n"
   ]
  },
  {
   "cell_type": "code",
   "execution_count": 1,
   "metadata": {},
   "outputs": [
    {
     "name": "stdout",
     "output_type": "stream",
     "text": [
      "========== Guess 10 Secs ===========\n",
      "How long is 10 seconds?\n",
      "Press ENTER to Go/Stop.\n",
      "-----------------------------------\n",
      "-----------------------------------\n",
      " *** Incorrect! Your time is 1 secs.\n",
      "========================================\n"
     ]
    }
   ],
   "source": [
    "import time\n",
    "\n",
    "print(\"========== Guess 10 Secs ===========\")\n",
    "print(\"How long is 10 seconds?\")\n",
    "print(\"Press ENTER to Go/Stop.\")\n",
    "print(\"-----------------------------------\")\n",
    "input(\"Go?\")\n",
    "Start = int(time.time())  # secs from 1970/1/1,00:00:00\n",
    "input(\"Stop?\")\n",
    "Finish = int(time.time())\n",
    "SF = Finish - Start\n",
    "print(\"-----------------------------------\")\n",
    "if SF == 10:\n",
    "    print(\" *** Amazing! You are correct: %d secs\" % SF)\n",
    "else:\n",
    "    print(\" *** Incorrect! Your time is %d secs.\" % SF)\n",
    "print(\"========================================\")"
   ]
  },
  {
   "cell_type": "markdown",
   "metadata": {},
   "source": [
    "### [Ex14-2] Localtime, LeapYear\n"
   ]
  },
  {
   "cell_type": "code",
   "execution_count": 4,
   "metadata": {},
   "outputs": [
    {
     "name": "stdout",
     "output_type": "stream",
     "text": [
      "*** Today is 2023/12/19(Tuesday)\n",
      "*** 365 days in this year\n",
      "*** Not Leap Year\n"
     ]
    }
   ],
   "source": [
    "import time\n",
    "\n",
    "W = [\"Monday\", \"Tuesday\", \"Wednesday\", \"Thursday\", \"Friday\", \"Saturday\", \"Sunday\"]\n",
    "\n",
    "\n",
    "def LeapYear(y):\n",
    "    if y % 400 == 0:\n",
    "        return 1\n",
    "    elif y % 4 == 0 and y % 100 != 0:\n",
    "        return 1\n",
    "    else:\n",
    "        return 0\n",
    "\n",
    "\n",
    "def Get_Today():\n",
    "    today = time.localtime()\n",
    "    # print(\"+++\",today)\n",
    "    return today[0], today[1], today[2], today[6], LeapYear(today[0])\n",
    "    # today[0]: year, today[1]: month, today[2]: day, today[6]: 0~6 : Mon~Sun\n",
    "\n",
    "\n",
    "y, m, d, w, L = Get_Today()\n",
    "print(\"*** Today is %d/%d/%d(%s)\" % (y, m, d, W[w]))\n",
    "print(\"*** %d days in this year\" % (365 + L))\n",
    "if L:\n",
    "    print(\"*** Leap Yeay\")\n",
    "else:\n",
    "    print(\"*** Not Leap Year\")"
   ]
  },
  {
   "cell_type": "markdown",
   "metadata": {},
   "source": [
    "## PT\n"
   ]
  },
  {
   "cell_type": "markdown",
   "metadata": {},
   "source": [
    "## HW\n"
   ]
  },
  {
   "cell_type": "markdown",
   "metadata": {},
   "source": [
    "# 期末考\n"
   ]
  }
 ],
 "metadata": {
  "kernelspec": {
   "display_name": ".venv",
   "language": "python",
   "name": "python3"
  },
  "language_info": {
   "codemirror_mode": {
    "name": "ipython",
    "version": 3
   },
   "file_extension": ".py",
   "mimetype": "text/x-python",
   "name": "python",
   "nbconvert_exporter": "python",
   "pygments_lexer": "ipython3",
   "version": "3.11.4"
  },
  "orig_nbformat": 4
 },
 "nbformat": 4,
 "nbformat_minor": 2
}
